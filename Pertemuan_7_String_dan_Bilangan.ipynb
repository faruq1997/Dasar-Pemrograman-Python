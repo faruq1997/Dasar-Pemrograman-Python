{
  "nbformat": 4,
  "nbformat_minor": 0,
  "metadata": {
    "colab": {
      "name": "Pertemuan 7 - String dan Bilangan.ipynb",
      "provenance": []
    },
    "kernelspec": {
      "name": "python3",
      "display_name": "Python 3"
    },
    "language_info": {
      "name": "python"
    }
  },
  "cells": [
    {
      "cell_type": "markdown",
      "metadata": {
        "id": "N0zsL1XulOaB"
      },
      "source": [
        "# String dan Bilangan dalam Python"
      ]
    },
    {
      "cell_type": "markdown",
      "metadata": {
        "id": "pmYG62X_lccy"
      },
      "source": [
        "## String"
      ]
    },
    {
      "cell_type": "markdown",
      "metadata": {
        "id": "VUQrMBi5laLm"
      },
      "source": [
        "String adalah tipe data yang paling sering digunakan di Python.\n",
        "Kita bisa membuat string dengan meletakkan karakter di dalam\n",
        "tanda kutip. Tanda kutipnya bisa kutip tunggal maupun kutip\n",
        "ganda. Contohnya adalah sebagai berikut:"
      ]
    },
    {
      "cell_type": "code",
      "metadata": {
        "id": "zXJuk3mXlVpx"
      },
      "source": [
        "var1 = \"Hello Python\"\n",
        "var2 = \"Programming with Python\""
      ],
      "execution_count": null,
      "outputs": []
    },
    {
      "cell_type": "markdown",
      "metadata": {
        "id": "kMXl-3_Ql9Ef"
      },
      "source": [
        "### Akses Nilai String"
      ]
    },
    {
      "cell_type": "markdown",
      "metadata": {
        "id": "mTtWKXozmDxH"
      },
      "source": [
        "Untuk mengakses nilai atau substring dari string, kita\n",
        "menggunakan indeks dalam tanda []."
      ]
    },
    {
      "cell_type": "code",
      "metadata": {
        "colab": {
          "base_uri": "https://localhost:8080/"
        },
        "id": "V49vMCJWmA6b",
        "outputId": "bd71ca78-3165-40a1-97cf-b3967ca552f0"
      },
      "source": [
        "var1 = \"Hello Python!\"\n",
        "var2 = \"I love Python\"\n",
        "print(\"var1[0]\", var1[0])\n",
        "# Index ke 0 berarti huruf H\n",
        "print(\"var2[2:6]:\",var2[2:6])\n",
        "# index dari 2 sampai 6 berarti love, karena spasi juga terhitung dalam index"
      ],
      "execution_count": null,
      "outputs": [
        {
          "output_type": "stream",
          "name": "stdout",
          "text": [
            "var1[0] H\n",
            "var2[2:6]: love\n"
          ]
        }
      ]
    },
    {
      "cell_type": "markdown",
      "metadata": {
        "id": "gbKZiVrjmfqL"
      },
      "source": [
        "### Mengubah / Meng-Update String"
      ]
    },
    {
      "cell_type": "markdown",
      "metadata": {
        "id": "64gJeeIomktX"
      },
      "source": [
        "String adalah tipe data *immutable*, artinya tidak bisa diubah. Untuk\n",
        "mengupdate string, kita perlu memberikan nilai variabel string lama\n",
        "ke string yang baru. Nilai yang baru adalah nilai string lama yang\n",
        "sudah diupdate."
      ]
    },
    {
      "cell_type": "code",
      "metadata": {
        "colab": {
          "base_uri": "https://localhost:8080/"
        },
        "id": "UCOkVCoOmjzT",
        "outputId": "25da75e1-b6bb-4362-ac11-c01560940383"
      },
      "source": [
        "var_a = \"Hello Python!\"\n",
        "var_b = var_a[:6]\n",
        "print(\"String Update: - \", var_a[:6] + \"World\")"
      ],
      "execution_count": null,
      "outputs": [
        {
          "output_type": "stream",
          "name": "stdout",
          "text": [
            "String Update: -  Hello World\n"
          ]
        }
      ]
    },
    {
      "cell_type": "markdown",
      "metadata": {
        "id": "NF_6M4ywm8yk"
      },
      "source": [
        "### Menggabungkan String"
      ]
    },
    {
      "cell_type": "markdown",
      "metadata": {
        "id": "TqAFlY9snAw6"
      },
      "source": [
        "Kita bisa menggabungkan dua atau lebih string menjadi satu\n",
        "dengan menggunakan operator +.\n",
        "\n",
        "Selain itu kita juga bisa melipatgandakan string menggunakan operator *."
      ]
    },
    {
      "cell_type": "code",
      "metadata": {
        "colab": {
          "base_uri": "https://localhost:8080/"
        },
        "id": "Fg6I9xNznHEu",
        "outputId": "450cd2d7-ecb7-4ccc-bcdb-1b27aec35bb9"
      },
      "source": [
        "string_1 = \"Halo\"\n",
        "string_2 = \"Dunia\"\n",
        "\n",
        "# Menggunakan simbol +\n",
        "print(\"string_1 + string_2 =\", string_1 + string_2)\n",
        "\n",
        "# Menggunakan *\n",
        "print(\"string_1 * string_2 =\", string_1 * 2)\n",
        "# penggunaan * akan melipat gandakan string"
      ],
      "execution_count": null,
      "outputs": [
        {
          "output_type": "stream",
          "name": "stdout",
          "text": [
            "string_1 + string_2 = HaloDunia\n",
            "string_1 * string_2 = HaloHalo\n"
          ]
        }
      ]
    },
    {
      "cell_type": "markdown",
      "metadata": {
        "id": "_osHUu6enx7O"
      },
      "source": [
        "### Mengetahui Panjang Karakter Nilai String"
      ]
    },
    {
      "cell_type": "markdown",
      "metadata": {
        "id": "mnp8T40an7yU"
      },
      "source": [
        "Untuk mengetahui panjang dari string, kita bisa menggunakan fungsi\n",
        "`len()`."
      ]
    },
    {
      "cell_type": "code",
      "metadata": {
        "colab": {
          "base_uri": "https://localhost:8080/"
        },
        "id": "2yuPomXCn41L",
        "outputId": "594a1984-0d29-4748-f796-02071f5884aa"
      },
      "source": [
        "string_len = \"How You Like That!\"\n",
        "\n",
        "len(string_len)\n",
        "# spasi juga terhitung"
      ],
      "execution_count": null,
      "outputs": [
        {
          "output_type": "execute_result",
          "data": {
            "text/plain": [
              "18"
            ]
          },
          "metadata": {},
          "execution_count": 13
        }
      ]
    },
    {
      "cell_type": "markdown",
      "metadata": {
        "id": "Sqx9zSbVoRRd"
      },
      "source": [
        "### Karakter Escape"
      ]
    },
    {
      "cell_type": "markdown",
      "metadata": {
        "id": "O8YL7U1JoUgf"
      },
      "source": [
        "Kalau kita hendak mencetak string= Jum'at berkah.\n",
        "\n",
        "Kita tidak bisa menggunakan tanda kutip tunggal. Bila\n",
        "kita melakukannya, akan muncul pesan error `SyntaxError` karena\n",
        "teks berisi kutip janggal."
      ]
    },
    {
      "cell_type": "code",
      "metadata": {
        "colab": {
          "base_uri": "https://localhost:8080/",
          "height": 130
        },
        "id": "7oI297AnoeY-",
        "outputId": "588dc510-874f-41a4-b2c9-12638eed1035"
      },
      "source": [
        "string_esc = 'Jum'at Berkah'\n",
        "print(string_esc)"
      ],
      "execution_count": null,
      "outputs": [
        {
          "output_type": "error",
          "ename": "SyntaxError",
          "evalue": "ignored",
          "traceback": [
            "\u001b[0;36m  File \u001b[0;32m\"<ipython-input-15-6e65e64e6d2a>\"\u001b[0;36m, line \u001b[0;32m1\u001b[0m\n\u001b[0;31m    string_esc = 'Jum'at Berkah'\u001b[0m\n\u001b[0m                       ^\u001b[0m\n\u001b[0;31mSyntaxError\u001b[0m\u001b[0;31m:\u001b[0m invalid syntax\n"
          ]
        }
      ]
    },
    {
      "cell_type": "markdown",
      "metadata": {
        "id": "8a5OJh43o77S"
      },
      "source": [
        "Untuk hal seperti ini kita bisa menggunakan tanda kutip tiga atau\n",
        "menggunakan karakter `escape`."
      ]
    },
    {
      "cell_type": "markdown",
      "metadata": {
        "id": "LqkGquSupGU0"
      },
      "source": [
        "Karakter escape dimulai dengan tanda backslash \\. Interpreter\n",
        "akan menerjemahkannya dengan cara berbeda dengan string\n",
        "biasa.\n",
        "\n",
        "Solusi untuk error diatas adalah sebagai berikut:"
      ]
    },
    {
      "cell_type": "code",
      "metadata": {
        "colab": {
          "base_uri": "https://localhost:8080/"
        },
        "id": "es8fhiu8o6z5",
        "outputId": "c32568ec-2f5a-4b2e-a05a-8575a3ed8989"
      },
      "source": [
        "# dengan menambahkan \\ (backslash) sebelum kutip\n",
        "string_esc = 'Jum\\'at Berkah'\n",
        "print(string_esc)"
      ],
      "execution_count": null,
      "outputs": [
        {
          "output_type": "stream",
          "name": "stdout",
          "text": [
            "Jum'at Berkah\n"
          ]
        }
      ]
    },
    {
      "cell_type": "markdown",
      "metadata": {
        "id": "UT5DsDEppb5l"
      },
      "source": [
        "Berikut adalah daftar karakter escape yang didukung oleh\n",
        "Python:"
      ]
    },
    {
      "cell_type": "markdown",
      "metadata": {
        "id": "FZB4Mn0Zpdq-"
      },
      "source": [
        "![image.png](data:image/png;base64,iVBORw0KGgoAAAANSUhEUgAAAy4AAAIGCAYAAACyO9tEAAAgAElEQVR4Aeydh1cT2Rv3378jCQEiCgioICoq2Bes2HCxL4tlxW7s2MUOdnFlVey9YFvFth5su6JrWzseK0exoPLSwi+Z9/ueSWaSmXRSSIDHczykzMx97ue5ufd+b3nu/wH9IwJEgAgQASJABIgAESACRIAIeDmB/+Pl9pF5RIAIEAEiQASIABEgAkSACBABkHChQkAEiAARIAJEgAgQASJABIiA1xPQC5fS0lI8fvyY/hMDKgNUBuwuAw8ePMCjR4/svp7qGKpjqQxQGaAyQGWAygCVgeqUgYcPH+L79+9aUaUXLgzD4H//+x/9JwZUBqgM2F0G/vvvP1RWVtp9PdUxVMdSGaAyQGWAygCVASoD1SkDz58/R1lZmVi4eP3cEBlIBIiA1xFgZ1vUarXX2UUGEQEiQASIABEgAnWDwIsXL1BeXq7NjH7GpW5kjXJBBIhATRIg4VKTtCktIkAEiAARIAL1jwAJl/rnc8oxEXALARIubsFKDyUCRIAIEAEiQAQ4AiRcqCgQASLgEgIkXFyCkR5CBIgAESACRIAIWCBAwsUCGPqYCBCB6hEg4VI9XnQ1ESACRIAIEAEiUD0CJFyqx4uuJgJEwAIBEi4WwNDHRIAIEAEiQASIgEsIkHBxCUZ6CBEgAiRcqAwQASJABIgAESAC7iRAwsWddOnZRKAeESDhUo+cTVklAkSACBABIuABAiRcPACdkiQCdZEACZe66FXKExEgAkSACBAB7yFAwsV7fEGWEIFaTYCES612HxlPBIgAESACRMDrCZBw8XoXkYFEoHYQIOFSO/xEVhIBIkAEiAARqK0ESLjUVs+R3UTAywiQcPEyh5A5RIAIEAEiQATqGAEXCBc1np9ah5UrVmCFjf8rN5xBgVpIkMG3W3uQbuW+Vduu4AMjvKd2vVYXnMGGlaZs0o88hKp2ZaX61lbex+F007zbKifG36cfvo/K6qdOd9QwARIuNQyckqv1BDQvz2HTKht15MqVWJWegdXrM7F192GcyfsXr75VeVfe1QU4s2GlaR8g/Qge1mBDpym8hJXD2qNJUDAiu49H9r8/vIaTN9vmNZDIECJgBwEXCBddKpqyQtzZPwUdFRJIJOL/0rAByLj4Al8rzSgQpgolRc9wcUUfBEv5+6QIip2MLecforDEyypoO6CKLtGU4d21dPQLkoq4+A0/gBLRhXX1jRolb27gjxEtITcqFxKfKAyZuwRLlizBkrQ0LJqfiumTRiKxSzP4C671G7IP3+sqnjqULxIudciZlJWaI6CpQNG9I5gR21DURrDtqDQ0HpMXLcTcmVPw25AeiAry0V3j0wgteo5C2t5b+OgVTaQGZe+uIb1fEKSCulviNxwHaqyh+4ac0SGi9OUxi5HvFXy82baaK+qUEhFwBQGXCRetMcwX7Er0Nap8ZWiZes3m7IKmYAN6yCWQSBuik/Iwnpe7Inte8gzmHbL6irk4L1y+4fzUBMy/UYPDWU7gZP3bk/WvsFHz/RnZRWbELKrw4eYWjI5WaK8n4eIE+Bq8lYRLDcKmpOocgR+HkqAQ1o8SCXw6LMVdQceb+fYAeyd3RID+OhmCf5qMvQ9rTB1Y4c7gXVZf+Optk6BGhYumABt6ysVtTMPROFFhxeSa+sqbbaspBpQOEXARAdcKF1TgxGjjUSM5YtMfQbRCzNh45jNyla0h943EsMx8fDPXlzW+p1a9/4a9Q/xEFaqzwuXH1TmI8Y/CnFoiXJjPO5Hoa69w0TlX/WYvfgmTgoRL7SjsJFxqh5/ISu8kUJk7EaH6VQe6utJYuGgtZz7izKQo0Qy2NKgXVt74Bk83nd/2DoGfp4QLNCjYOQRhPnw744+YmRdQ7GkoWqd5s23e+Xsgq4iAJQIuFy6nxgSJOugSiRxxGU8sCxfmE/KW9kRIaC8sPl9o+TpLOagVn3/HPhcKF+ZzLpRt5JDIapFw+bILA6spXAA1HqzsjAa0VKxWlHISLrXCTWSklxKoPD8FTewRLgCYr6cxPkImamtlzZJx4K3Go7n7vs+TwoXNehUK/zmMzWs3IPvPR/juFaKFd4k328bbSH+JgPcT8KxwKX+CfSkxCO04BYeee8N8rrsc5kLhUv4Qmwdw63jrnHDRoDDvJK5/MrQ26oer0C2J9ri4q2S68rkkXFxJk55V3whUR7iwHfS7SzuIZl0kEima/pYDQfVZ4wg9L1xqPMuUIBEgAjVMwGPCRfPhEtLiwxGV9Dtu1721YUZudJFwKXuArcMi4MNPxdc54VKBs1MGYs0TwcJC9VOcyrmHuixrjQpLrX1LwqXWuo4M9wIC1RMugPreMnQ02TcYi4xHgvqzhvNFwqWGgVNyRKAeEvCIcCl5kI0RbZujz9LL+ODAzLb6ywOc2rwQ4wfGoU14YwT4yuEbEIqouGGYvf0GPprU2ww+/JWF5Wz0KtH/5diWV6RbF1xRgLPpIxHXPBCKoGiMyH5kGoJX/QUPTm3GwvEDEdcmHI0DfCH3DUBoVByGzd6OG6YJc0XKhnApvY19K4xtY98vx1bOPnXhBaTFh0DGixb2rzQY3can6fO04tADkyAIzPf/cHTleCR0iECwwg+K4EjEDp2N7Tc/ipflMR/wV9Zy/bP0nJZvQx63gb6i4CzSR8aheaACQdEjkP3I/iDFjD1LxaruIK1Td2QIhYvFH2UV3l1ej4n9Y9CskT/8AyPQceBMbM17jY/X5iNu1GGUmb2XwbcHR7FyfAI6RQZDIffRlp3WXYdhZlYeCgUbYUW3V9v3pbi9d4UpzyUrsCe/BEzZc5zJSEGvNk0Q4KdA46geGLU8B09KRamavmG+47+jKzE+oQMighXwUwQjMnYoZm+/aabcm97uzk9IuLiTLj27rhOornBB5UUow8XRKiUSH7RL+xdmqzEH6o6qd5exfmJ/xDRrBH//QER0HIiZW/Pw+uM1zI8bhcNGlax14VKK2/vM1YlLsHxrHrTNjIPtkOrBIawQte269nR59nV84SbwS2/vNXvNij35KGHK8PxMBlJ6tUGTAD8oGkehx6jlyLFSIdvLxh7b6nrZpvwRAVcSqGHhosa7s3PRtXELjDpQYCoMbOasEgVHpyGusRyBXVNx7P5HlFV8xoNDSkEYZjkik3biqXGwrapiPD44Fq30G/fYDXy6wAFVpXexMSFUJAqkIRNwTjDMX1lwFNPiGkMe2BWpx+7jY1kFPj84BGVHXeQrNlqWPDIJO00SZjNlQ7hAje8vryCDXwImkcCvdRLWnXuMz5UAU3wGkyKNoqUIBQz32u+XgxD2e0vv/4GkFmxQAAXaTz2OZ1++4OGOZETIJJDIIzBs6wNR576q+DEOjm1lmNFhnyuPRfqjKpTe3YiEUOGaailCJpyzeybEHuFSfi0Vbfzj7BAuDApzxqElO9ro3wFTTzxHcfFb5B9ejIQIXfQ238QdZpZMlODuluGIZPfa+LeD8vhzfHp5HONb8vnyQdOBWXgo8DvrPUd9ryl7j5trB6CxaN26L/qtOY5lPYzChmp9KEWj2Hm4aGmtR+l9/JHUQrv5VdF+Ko4/+4IvD3cgWbvWXY6IYVvxwKgjYfMn5cILSLi4ECY9qt4RqLZw0bxGZrxpuyDvvh4FxgOCDtQdTGEOxrVkn++PDlNP4HlxMd7mH8bihAhd5DDfROwwqqusCxdA/f0lrmQMQAhfJ/q1RtK6c3jMNnTcP4faIU05PtzegqFN+Lpct0Ff3n0dXvAsNGV4f3MtBjQWiz3ffmtwfFkPBPE2CdpWaaNYzLv4ySToQbXY2GMbn3n6SwSIgE0CNSdcmO+4vXkYIrVT276InpqLz4atDDYNBRh8vTANbbT3+yBmUb5A+JQgZ2SgYKNiA/TOfAG+vtI/vPISlM2ElZYcsavycHJSK6O1whJIFEk4xEWYZL5ewDR2MzwbnjJmEfINdSxKckYiUFDRNeidaago9QnbEi7shRq8zozX2iELT8LeAtMxs6q7S9FBKLysLBWrep6NQWG6SlzWYhou84pG8xq/9/XXsZK3wcy/xAd0VV5SopmwApfHYlXeSUxqZdpAKpIO2X0WjS3hov54EXM6KyCR2yFcfuRiMrcxVd5hGe4JZtiqCnZiaJgU8vhMvBYVAA3eHuREm0SGZhPOQpdzFa7ObiEQrQrEb3quLztO+/7rbgz046PcsH+lCAwOQYuhG/DXq2/4/uo8FvcIFJw9IEXoL/vwTmQ7u+f0ObIHhenslLXANIND8fr3vty5N3K0mfkXly994auxFyRcagw1JVQHCVRbuKACOaOMo3hKIA0eizPCwReH6o4fyJ0coatv5B2wTFzJYufQMEjl8cgUV7KwJVxYt2leZyKebcdl4UjaW2B2dsixdqgMx5IDBP0ACUTCRVtmvmL3QHGET2lgMEJaDMWGv17h2/dXOL+4BwIFbaA09BfsE1XIjrCxx7Y6WKgpS0TADQRqRrisPI9j07qgkaAykEjDMHRXgXi5krUMal4iM15Q4QT0xPrHfI9VheuprQSdTwn8EneZCqOqm5gTJRyR8UFkXBxi+izHlXeFuJHeRz863rB/FjdqpcHLzHhBiMcA9Fz/WG+36noqWrEzGLx48UvELhNFZodwUT3Cmu4KSPzaY84V82Et7RYumlfY/jPfGZYhYuplgcirwu3FMfpZFUWfzXgp6CRX3ZyDKGF+fCIRFxeDPsuv4F3hDaT3acx1shuif1aBvoNvzXXsd2aFi08UBqfOw4yURLRrzB2sZodwqTg3wRA21CcSIw8UCJbIafBmx0CExKZDuNSbKTqKkWG8aA3CqBxeyTH4uCNRdOClIolfZuYC31fkYFSAoHywM3PRqbgqOHZBlb8YMUJB6hOF1GvCnocGr7b/rG9MZRFTcVkgnqtuC+5X9MFmoUNtOcaF35NwcSFMelS9I1B94VKJ85ObCAY9uHpGdD6Wg3VHxTlMCOXrSx9EjjyAAsEqBs2bHRgYws7G822wzl22hYsKj9Z0h0Lih/Zzrlg8+sCxdqgSuZPDRDxMhQsr9sTiRiKPRqq4QsbiGK490rbrPohKvWZYXeAQG3tsq3dFnjJMBBwiUAPCRQpFw8Zo4M9XgoJOXEAcVuTzHUgb9quuYLoo/KMv+m55x03hVuHWgrb6zrh22VbXtXgu6JBrn171N+a2FlZI7AFZ3bHuKV/5lqPg0g5szDyMO/zCWKhwZTo38sSJE9++W/COmy2qurUAbYWdTnlXrDVJ2JZwKcWt5XFoIG2Inqstb0S3V7iIOrISOfr8/lYgMDR4xc3saMWWb29sfmMAVfX3XLQW5oddttZ9HQyICnBpx0ZkHr6jXztsw3Par80Ll1YYODMVylH9ER3ECUqbwoXB552J4kPOfJqg39ILeM9PUlVcx/yhaYITk9V4nBFnuMenA5YKTnXTvN+H4SF8+VQgLuMBJ0xd4PuKExjdUFDmJXL03GAk+FTXkdpKKKhlCFdeNDSUVbdFDam8z+8QRj3VvOJGMLXl0xe9N78R+Nse77jmGhIuruFIT6mfBKovXFTImxEpGrDT1en98Uch30A5VneYnrvlgyb9luKCoZLF9flDkWZ0LL0t4VJ6azniGkjRsOdq3BOOzRi53LF2qBLnp4iFnDnhYnzWnLznBqOldaYDobJwJS5y9jrGxh7bjCDQWyJABMwSqAHh4oMoZS4KLqeinWjJjK4zJ281Eac/2rNm7DsuzYo2zHwofsJKfeeTFS7RYuHyUzr+4/UIn3UzwkXec6NRpcVfbPj7/dIsROttV+CnlXf109uscIkWdvTlPyHdJGErwoX5jvwNiQgPaoeUP/LxxaAhDAZwr+wTLmo8XNlZsPTND4P3FguexaBwW4KhEy8NRsppQwti2mDI0XOjUUdb8DR7X5oVLoKRQdXLI0iJktu1VKzy/GST8w7YTalhveYi50W5qUnqp1gdJ1jqJu+GdfqFz7rLywsuYdeGtdh89A4+C3zgtO9NhIsvErYWGq2ZNl2+4NN+Cf7lhJj64Up01i6R1P1m/AbvhcijhduQoD8jR4rglNMG0WNKw22fkHBxG1p6cD0gUH3hUomLymaiGQatcPEfiv3fdcAcrjsqz2NyE34wxzDw4hPWC3NzXsBMLatN0LJwYfA9fwMSw4PQLuUP5Ftr6NiVsSYDaPa0Q/aIA9NDsn0TtoLXeXwx+7p7oKGvwQ4I+bTHEr5CdoiNPbbxqdNfIkAErBGoAeHCH0BZiYcb+5rZACdFSOJWPBNMQ1s0mCnGg1NbsTYjE4dvf9KOKqs/3cb+tF/RIVg8kyLvvBIPbQoX3TIq20kzKH5wClvXZiDz8G18Yju26k+4vT8Nv3YIFgkmibwzVpokbEG4qAuROy9Oy0TxUxr+FiwfMsfAPuFSisO/GgIGaBsybqbI/Gtf9Bd0pE0aDFkEpl62TcicvcLPbAkXdg9T8dmJaO5nxx6XsjzMihL7m8+bNCgWM3NeCpaOASg5gl+Fy7XksXYEAOCtd9L3dgmXSuRODBV3QAJG4DjXOyg9/CsUVn1o6FiwHHz7mzbEfG7c+ZeEizvp0rPrOoHqC5cK5Iw0WvYkkUDWYhauclW243VHGfJmRYnbNr4OkgYhdmYOXpppFswLFzUKc+chLkgKieInpNlq6MwJF7vaIXvEgX3CpTJ3omE5sjbfARjBV8hwhI09ttX1Ek75IwKuIVCDwoXdlfcOR0YJziHhK0KJAl0W36jWpmKm+AEOpw1DdEMZAtqNhnKweDmXfcJFjk7L7+v3q9iFlBVPh9MwLLohZAHtMFo5WBeli8+LvcIlcTm2jWkj2FshR8vxJ/HByuSTXcKFeYctfXWRtXSdeTk6r+SXPtnOoYlwkXfC8vvGCtD2c4yvsC1c2NbqFha072aHqGDw9VKqIJKcuOMukTdH0u7n+lkx/WZQ3keySMzMM9PqGhtt/N4R39slXFTIm2m05MM3ETu1e6UYvNvS1zBDxu6R6bwSD5x3iXHunH5PwsVphPSAekyg2sLFQlSxRkmHuBlZ5+oO5uslpAqiZvKDQ3y70jxpN57zy3M5v5kKl0Qs3zYGbfwNdbS85XictNbQmRMudrVD9ogD+4SLKm8mIoV7PSW+SNz5WT9TXn029thWjws/ZZ0IVINAzQoXdpP2tzzM68hFteI7kuxfn0ikHC+0vTaf+Yb7e6ejRxi79EeG0IS1uPVNZbpUzK4ZF104ZPv6gAy+3d+L6T3CdJG/QhOw9tY3qEyWitk34yKRNkRM1/biGShpCH7OeiqeLRA40z7hUoit/YXCRYqwybmCzfmCB5p5aSpcTDdgmrnN5kd2CRdU4M/JRgdQap+swauDa7DvhdBTGhRdWY6+YeZnXiQBvZHJ7TUyES4Sc8u1rGXBCd/bKVxuGAWXkPgNxX5t2DMGhVv7i4SLNGwycgWb861ZXpPfkXCpSdqUVl0jUG3hUnkeU0yWcwVi+H4+fK/zdYem6AqW9w0zP/MiCUDvzOciN5gIF4kUDWO6oj0726Jv76UI+TnL9MgCwZMca4fsEQd2CpcbRkF3JH4YqquQ9VZWj409tukfTS+IABGwQqDGhQtrS+WjTPQPFlZkutEYaVB/ZP5npUdW+Qz7xrTVL5vxbZeKK9/YKQoze1xcKlwq8WzfGLRVcKNGvu2QykX+Mt3jYp9w8f05G0Xq19g7XBwFRaLogkXXxSGKef/ZJVxQahoS0tx+H/6hRn8dazCMHmLmrX3ChcGHvFO4bnQ2ANRPsSZ+qMmZAWwyqjfnkNa3qWBPDz+yJ0enFfd1lpQcRbJwqZhEgqDko/hmxk7Tj5z0vZ3CxTgAhLSZEpe4n0LpsWQE6Bt99mwdc/uoTC2v6U9IuNQ0cUqvLhGornCpupOGdsL9lewysUglLgiWHLuk7lC9wbm0vmgq2GfHixB5pxUiF5gIF+0+RjVe7x2OMGFUUXaVxaLrFldZONYO2SMO7BQuV6aLV1JIm0HJV8jCHNvNxh7bhA+m10SACFgi4BHhwp5ZUnh8DCKNKl22MvTvMAd5WjFibPIP5KVGG0aepaEYc4LverpXuPzIS0W0YPNz6JgT+k6vo8LFb/gB7RkomveHMSJcGFFKAp/I8TjFnVYvpKC+twwdhY2H2XNc1HicHivuyLOHSJoEDBA+2fDasQbDcL+lV/YJF/N3fzs3CZGR0/AXt7pL8/4vnPqnWD9tD/UH5GUkIkLIhhUnKad1D9S8wPrugs35EgmkQUk4YCyQzCTvtO/tEi4VOJ0SJBiRlMB/QLZ+2aD6cTpiRXljZwr/q94SRzN5c/VHJFxcTZSeV58IVE+4qJC/0BDWXiskpCEYskscUdDhukPzHn+d+gfF+qXLanzIy0BihLgelQSliFxkIlz8huMAK6Q073F4RLg4AppPJMafKjLU44InOdYO2SMO7BMuFadTECQcLPIfgGx+eZtDbOyxTQCAXhIBImCRgBuEi/AgSHb0m9+cb2zDd+TNaWcQIvpKQobw5ANGhwcCzIedGNiAH02XQOLbD1nv+VrVceHSZZWNDiDzATsHNhB0Kn3RL+u9vrJ1Vriwm9KLTo4zEnEyRPx2XN9x5cmp/0vHT8IOrKwFZl8z3athInAkMkSknDRzknwlHm4ah7Q8Q4wY0wajC1bZKXp4O839ZYVLol788TNXCdjONwbmbmKXFhad0R5+Ke+1Ca+4aF/qh6vQs98mo4M+q/Dm+Fi00vORoeXsa9xTNSjIjNfP1OlGC33RMS3fTHQcBl8LCnTR3Vzhe3uEC2O8vM8fvTe/MiybVN/Dso7iDoMsIgUnzQivyoebMC4tz0y+LAB24cckXFwIkx5V7wiYi5bo02Ep9MEzBUSY9/vxiz6EO1uf+iJqXA7eCyIiai93tO5QP8Sqnv2wySj6YtWb4xgrOIxY1nK2wCpYPYCSKTqJcZHipb2yiN9w3Ewb4Fg7ZI84sEe4mC6x8++9Wd/+wCE29tgmQklviAARsEDAxcKlHEeTjSNaydHR0gb4kjzMbiOuyHSdygDELr4qGO0BVDeMDkaURULJzYkzRblQRgv3dbAn3C/GbaONg1Bdw+wWwtkNH7Rf8q9+E7dZRqobRodWyhCpvKA7MZ4pQq5SMAvEii+fGCw2SfgLdg0U28eGtOXni8B8Qa6ylXgdsawpkg++M3Re2U78+yz0E3X+2YMUdesCSvLTMXktF6ZZ8w67hwSLo1TJwjFs238wnJqjQeGf0xAXvxK3DdGQobo2Gy2EmxKFYSDNArLvQ6bwD/QX2c4ueeqO9UYNo/Bp5QU5mPFTQ0gl4hC/mleb0MsvDMP3vBbPOmgKsKEH18GXhWNSriG3+H4J04wjkflFY3LOa8H+nyq8z52H3n2WI5/Vcq7wvYlwkaPz8vvifUzl5zBRfzimBNLQkTgqEiUavNs9BMGipRYyhA/bhv8EWdQU/olpcfFYKXSoEKibX5NwcTNgenydJlD55zj9Aci6dlACn+iFgvOouOyX3cOmhBBD/S5thM7K42ajfLGrGxyqOzSvsKmXH8KG78Fr4dZCaFCwoQc3oy9D+KRckU++7BooHoz0G4y9hoYOX3KVaCVaaSFD0+SDEB1Mz1a9DrVDlTg7XsCFDWQSm4EnIvtNhYu883LcF43/lePcRMESbmkoRh7l9w2xs0eOsLHHNhFKekMEiIAFAq4VLuU3MTfaWIhIETR8P8wf1VKFf+a3EXfY+ZkXaRC6zc/FO058aF7/jj6CyCRsxS4P64YxM6ciZexSbF/YS1xhyiOROHMJNp19ZRAmxQfwi2ivgxRBSQdhctC9EJbmNX7vYxRMQB6GbmNmYmrKWCzdvhC9RB1yOSITZ2LJprN4xQsn9QOs6CweMTeOesZ8PoIRohE0CaQhich6Itjzo36K9T3FwtAvMgGTlEnoHJmA358Zamh1wW4MbyYUaRJIpAFo1S8Fs+alYvKQjgiNGILsp6IaG8UHfhHvp5AGIemgIZqKEE11XhefGY9woSDS+lmBn1L/RMEPzm51Bb4XFeDfS4ewfnoiWgfw+6Dk6LLqoV6kMJ926GZvFO0wfs8DfOcn3spvYp62/EkR1G+z4dBMraEMvt9cge6iTaIsk4Zok5CC6XNSMWVoJzRt+St2P+fXpLnA9ybCRYrgyASknivk8sOgcH8SQnhRIgvHr/tfiwSr1nx1AXYPbyZeaiGRIqBVP6TMmofUyUPQMTQCQ7ItB3eojr8cuZaEiyPU6B4iwBKoxP0VP4mX+LJ1pKIr0vLeo7yqEt8/PMW1Q+kY1b4RJ1p8ENwhGSvPFFifYXWk7mA+YUciO9imQLvxe/DAUMni5jzdmWnSoH7YrD+ZmM2DGg9WCM8QYwenjPZ8Mp9xZIRYXEikIUjMeiIYQIJj7ZBJRE0JpE0m4lyZsISZChdpcCQSUs+hkGuGmML9SNK3xTKE/7pfvALEETZ22Sa0k14TASJgiYALhIsaz05kIG2+EkldQsyLEIkCkfGjMX3RTtzi9p0zn65gk3KIUbQRwVIwbcdWhkZtEzB26QmAKcaVBV3EnWr/5khYmIPnZexSsuNIaS4UBzKExC/BZe1eEQYfLq5GSvdmpg2DNAgdhk/H9luCHY0iWgyKryxAF5Hg8UfzhIXI0SWM4ynNRc+VhcRjyWXd2l3108NITWyDBrwg4/9KGyFmSCoOsxU/8xl5a4eKQkbyI26yxp2RvOG63iLVs70Y3VosXtizS2adeW/S2S17cgDTuoWKbNM91xfN4mfjyDPDEjEwH3BxdQq6NxMy1PlDGtQBw6dvh0VEeuuMXlTcw4EVizFn8iDEBPIixNjH9rxXIOmgIGBB2RH8GtwGgyaMQs/mQYiIS8Lk2TMxqisb8c0X4f2X4tJH4zUTrG0MvuZnIaVjoJEAYBvYEHRMTseFt7za1F3vjO+1NEyEiy/6Z17Doek/o1+SErOUgxDNCTTfpj0wdVl/EIgAACAASURBVP8jiNpZIdKyJzgwrRtC9cvhDOx8m8Vj9pFn1jswwme54TUJFzdApUfWaQKagjNYv2QhpifHIlQ0E2H4bevqbClkcgUCw1qgQ/wwTFyYiaM336CMH7SxRanadUcZjvwajDaDJmBUz+YIiohD0uTZmDmqK8LkEviG98fSSx8NbY76KQ6nJqKNcDm3tq2TolHMEKQefgo1GHzOW4uhbYwGAtnrZI3ROXkDrhc71g6p7u3GtMExaMQPAPHtrMQXET1TsOIMPxhkKlx8+2fi2qHp+LlfEpSzlBgUHaAThr5N0WPqfjwyqZCrx8Z+22w5kb4nAkSAJeAC4VKTIEtRcHkPNmZkIHPXGfz7UTxbUPXxNo5nrcaqjI3YdfYhvhgmIJw2srTgMvZszEBG5i6c+fejeKlP1UfcPp6F1asysHHXWTx0ZcLmLC99ibwDm5GxMh3rs0+ZcBDfUoa3+aexZ/NqrFqxCmt+34ezdwo9crK62C4n3qmf4kzOPV0HX/0VTy4fxJbV6ViduRMn8+3IG1OCVzdysGPzWqRnbMT2/Wdw651AxBmZ5pTvzQiXBO2Bnxp8e3YZB7LWIWPN79iTcx0vBcu+jEwQvS17m4/TezZj9aoVWLXmd+w7eweFguV+ootr8A0JlxqETUkRAQcI2F93qPH0TA7uaTvtanx9chkHt6xG+upM7DyZ7xX1jQPZB2BGuCToDuzVfHuGyweysC5jDX7fk4PrFivkusrGMaJ0FxGoaQK1TLjUNB5Kjwg4ScCicHHyuV54OwkXL3QKmUQEiICAgGXhIriIXhIBIuDFBEi4eLFzyLQ6QICESx1wImWBCBCBukGAhEvd8CPloj4TIOFSn71PeXc/ARIu7mdMKRABIkAE7CJAwsUuTHQREfBiAiRcvNg5ZFodIFB+DMkK4UZbOXpvFh8SVwdyqc0CLRWrK56kfBCBukqgHMeMjmyQ996MN+ZiudRVBJQvIlDLCZBwqeUOJPO9m4D6SQbiRFHAZIiccaV2B0ewgJyEiwUw9DERIALeQUD9BBlx4siZssgZuOIFwU28AxBZQQS8nwAJF+/3EVlYKwmUIn+bEgOixKGrtaFN/SLRZ3wq0k88159NUyuzaGQ0CRcjIPSWCBABryFQmr8NygFRUOhDJfMz4X6I7DMeqekn8NyFkUi9JuNkCBGoYwRIuNQxh1J2iICnCJBw8RR5SpcIEAEiQASIQP0gQMKlfviZckkE3E6AhIvbEVMCRIAIEAEiQATqNQESLvXa/ZR5IuA6AiRcXMeSnkQEiAARIAJEgAiYEiDhYsqEPiECRMABAiRcHIBGtxABIkAEiAARIAJ2EyDhYjcqupAIEAFrBEi4WKND3xEBIkAEiAARIALOEiDh4ixBup8IEAEtARIuVBCIABEgAkSACBABdxIg4eJOuvRsIlCPCJBwqUfOpqwSASJABIgAEfAAARIuHoBOSRKBukiAhEtd9CrliQgQASJABIiA9xAg4eI9viBLiECtJkDCpVa7j4wnAkSACBABIuD1BEi4eL2LyEAiUDsIkHCpHX4iK4kAESACRIAI1FYCJFxqq+fIbiLgZQRIuHiZQ8gcIkAEiAARIAJ1jAAJlzrmUMoOEfAUARIuniJP6RIBIkAEiAARqB8ESLjUDz9TLomA2wmQcHE7YkqACBABIkAEiEC9JkDCpV67nzJPBFxHgISL61jSk4gAESACRIAIEAFTAiRcTJnQJ0SACDhAgISLA9DoFiJABIgAESACRMBuAiRc7EZFFxIBImCNAAkXa3ToOyJABIgAESACRMBZAiRcnCVI9xMBIqAlQMKFCgIRIAJEgAgQASLgTgIkXNxJl55NBOoRARIu9cjZlFUiQASIABEgAh4gQMLFA9ApSSJQFwmQcKmLXqU8EQEiQASIABHwHgIkXLzHF2QJEajVBEi41Gr3kfFEgAgQASJABLyeAAkXr3cRGUgEagcBEi61w09kJREgAkSACBCB2kqAhEtt9RzZTQS8jAAJFy9zCJlDBIgAESACRKCOESDhUsccStkhAp4iQMLFU+QpXSJABIgAESAC9YMACZf64WfKJRFwOwESLm5HTAkQASJABIgAEajXBEi41Gv3U+aJgOsIkHBxHUt6EhEgAkSACBABImBKgISLKRP6hAgQAQcIkHBxABrdQgSIABEgAkSACNhNgISL3ajoQiJABKwRIOFijQ59RwSIABEgAkSACDhLgISLswTpfiJABLQESLhQQSACRIAIEAEiQATcSYCEizvp0rOJQD0iQMKlHjmbskoEiAARIAJEwAMESLh4ADolSQTqIgESLnXRq5QnIkAEiAARIALeQ4CEi/f4giwhArWaAAmXWu0+Mp4IEAEiQASIgNcTIOHi9S4iA4lA7SBAwqV2+ImsJAJEgAgQASJQWwmQcKmtniO7iYCXESDh4mUOIXOIABEgAkSACNQxAiRc6phDKTtEwFMESLh4ijylSwSIABEgAkSgfhAg4VI//Ey5JAJuJ0DCxe2IKQEiQASIABEgAvWaAAmXeu1+yjwRcB0BEi6uY0lPIgJEgAgQASJABEwJkHAxZUKfEAEi4AABEi4OQKNbiAARIAJEgAgQAbsJkHCxGxVdSASIgDUCJFys0aHviAARIAJEgAgQAWcJkHBxliDdTwSIgJYACRcqCESACBABIkAEiIA7CZBwcSddejYRqEcESLjUI2dTVokAESACRIAIeIAACRcPQKckiUBdJEDCpS56lfJEBIgAESACRMB7CJBw8R5fkCVEoFYTIOFSq91HxhMBIkAEiAAR8HoCJFy83kVkIBGoHQRIuNQOP5GVRIAIEAEiQARqKwESLrXVc2Q3EfAyAiRcvMwhZA4RIAJEgAgQgTpGgIRLHXMoZYcIeIoACRdPkad0iQARIAJEgAjUDwIkXOqHnymXRMDtBEi4uB0xJUAEiAARIAJEoF4TIOFSr91PmScCriNAwsV1LOlJRIAIEAEiQASIgCkBEi6mTOgTIkAEHCBAwsUBaHQLESACRIAIEAEiYDcBEi52o6ILiQARsEaAhIs1OvQdESACRIAIEAEi4CwBEi7OEqT7iQAR0BIg4UIFgQgQASJABIgAEXAnARIu7qRLzyYC9YgACZd65GzKKhEgAkSACBABDxAg4eIB6JQkEaiLBEi41EWvUp6IABEgAkSACHgPARIu3uMLsoQI1GoCJFxqtfvIeCJABIgAESACXk+AhIvXu4gMJAK1gwAJl9rhJ7KSCBABIkAEiEBtJUDCpbZ6juwmAl5GgISLlzmEzCECRIAIEAEiUMcIkHCpYw6l7BABTxEg4eIp8pQuESACRIAIEIH6QYCES/3wM+WSCLidAAkXtyOmBIgAESACRIAI1GsCJFzqtfsp80TAdQRIuLiOJT2JCBABIkAEiAARMCVAwsWUCX1CBIiAAwRIuDgAjW4hAkSACBABIkAE7CZAwsVuVHQhESAC1giQcLFGh74jAkSACBABIkAEnCVAwsVZgnQ/ESACWgIkXKggEAEiQASIABEgAu4kQMLFnXTp2USgHhEg4VKPnE1ZJQJEgAgQASLgAQIkXDwAnZIkAnWRAAmXuuhVyhMRIAJEgAgQAe8hQMLFe3xBlhCBWk2AhEutdh8ZTwSIABEgAkTA6wmQcPF6F5GBRKB2ECDhUjv8RFYSASJABIgAEaitBEi41FbPkd1EwMsIkHDxMoeQOUSACBABIkAE6hgBEi51zKGUHSLgKQIkXDxFntIlAkSACBABIlA/CJBwqR9+plwSAbcTIOHidsSUABEgAkSACBCBek2AhEu9dj9lngi4jgAJF9expCcRASJABIgAESACpgRIuJgyoU+IABFwgAAJFweg0S1EgAgQASJABIiA3QRIuNiNii4kAkTAGgESLtbo0HdEgAgQASJABIiAswRIuDhLkO4nAkRAS4CECxUEIkAEiAARIAJEwJ0ESLi4ky49mwjUIwIkXOqRsymrRIAIEAEiQAQ8QICEiwegU5JEoC4SIOFSF71KeSICRIAIEAEi4D0ESLh4jy/IEiJQqwmQcKnV7iPjiQARIAJEgAh4PQESLl7vIjKQCNQOAiRcaoefyEoiQASIABEgArWVAAmX2uo5spsIeBkBEi5e5hAyhwgQASJABIhAHSNAwqWOOZSyQwQ8RYCEi6fIU7pEgAgQASJABOoHARIu9cPPlEsi4HYCJFzcjpgSIAJEgAgQASJQrwmYFS7l5eV6KP/3//5fPHjwgP4TAyoDVAaoDFAZoDJAZYDKAJUBKgNUBjxaBr59+6bVKf9Hr1YEL/7f//t/oP/EgMoAlQFbZeC///7D//73P6ovqM6kMkBlgMoAlQEqA1QG3FIGnj9/Dn6CxaxwEWgYekkEiAARsEiAlopZRENfEAEiQASIABEgAi4gYHapmAueS48gAkSgnhEg4VLPHE7ZJQJEgAgQASJQwwRIuNQwcEqOCNRVAiRc6qpnKV9EgAgQASJABLyDAAkX7/ADWUEEaj0BEi613oWUASJABIgAESACXk2AhItXu4eMIwK1hwAJl9rjK7KUCBABIkAEiEBtJEDCpTZ6jWwmAl5IgISLFzqFTCICRIAIEAEiUIcIkHCpQ86krBABTxIg4eJJ+pQ2ESACRIAIEIG6T4CES933MeWQCNQIARIuNYKZEiECRIAIEAEiUG8JkHCpt66njBMB1xIg4eJanvQ0IkAEiAARIAJEQEyAhIuYB70jAkTAQQIkXBwER7cRASJABIgAESACdhEg4WIXJrqICBABWwRIuNgiRN8TASJABIgAESACzhBwWrho3uZi47I9uF3qjBm1/1518RNc3LUGa0++gNpsdkrw9MwWZKzOxsWXFWavoA+JQG0mUD+FSxW+PMpF9ur1OPNSU0PuU6P4yUXsWrMWJ1+Yr21qyBBA9QkPzm5HxqZcvKmp7Asyx5S+wrWDG7Fq/11UCj6nl54gYLtcljw9gy0Zq5F98SXqVivIoPTVNRzcuAr775orie5r/233PdxXFmz6s+oLHuVmY/X6M6ix6tF92aUnewkBp4ULSv/E+KahGHPyh5dkqQbNKH+Hf46ux8zhsWjqL4FEIkVT5UWzDajqxhxEydhrJJDHpuM/D/c3apASJVVPCNgWLgw+Xd2GZWmLsXjRIiyy8H/x4jQsWbYSGes2I/vAKVy59w6lHugUW3Ybg7K3N3F47XQM7dIEfhIJJLLmmH5FZfkWF3xT/u4fHF0/E8Njm8KfTVPaFMqL5jpJLkjM2iOYErzM24905UB0CPHV1mk+refi7yprN7nwO9Un3P8zCwtG9UJkgEybvt/Q/aiHLZALoTr+KLvLpeoG5kTp/CWRxyK9DjSCqk/38WfWAozqFYkAbfvuh6H7TUuiq9t/puwtbh5ZhxnDfkITP+t9D8c9a+NOS/5kyvD25mGsnT4UXZr4aX+fsubT4ebq0Yax9HVdIuC8cEEp/hzfFKEpJ+tdw6F+fQVHcs7hYGocGrAdCSvChfl0Hgt6RaBRYAskpF/H97pUiigvRACAbeHCYVJ/x4uzaYgPlmobNa2YD4lBv18nYMachViydAkWpiox6ucuaKZgr5FC0SwWI5Yew6MfjBewVuPlX0dxOvcQZsUqdHlwu3BR4/WVI8g5dxCpcQ10aXpKuFQ8Ru6h0zi7azLa+eoGY2pSuGg+3ETOsbPIWTUAIVJd+iRcPPWzqEa5ZD7h/IJeiGgUiBYJ6bhe6xtBDT7czMGxszlYNSAEUm0fwLxwcXX7X/X8Ig6dPIcDs233PdxWMiz5U/0Sfx09jdxDsxCr0P0+Sbi4zQv18sEuEC5A6Z/j0CQ0BfVx0oUtNZpXmYiXWxcu9bJ0UabrFQG7hYuWSiUuKyMg4wR/kynnzc5Uqj/lY8ekTmjEdVAVMZNw7HVNDe3bcp8GL9Z1g5zNg9uFC2+LBq8y43Vpekq48Kao72N5J7lWRNWkcOGTR+kxJAeQcNHz8OgLLyqXHuBQeiwZAVaEi7tM0rzZ7L19D80LrOumqx9IuLirBNTP57pEuLDLxcY1CUVKfVUuxXsx2FPTtfWz3FKuvZBA9YSLBgXre+g64BIpLAkXbTaZzzg/LZq7VoKAHmvx0Cu0C4Oi7J/hW6PCBSjeO1i3PM3TwkXzFr/39qBwqbwIZTPdrB3NuHi+QvCacukBFJUXlWimHVwxP+PiNpN+7Mcwb+17MEXI/lm3lJSEi9tKQL18sGuEC0pwZlyTerlcTFtqSg9iuLdWHvWyWFOmPUGgesKFwfusfrpOvy3hAoD5egwjQ7ilZdIwjDtT4oksmqRZvIcTETU24wKUHhzuHcKF+YBtCR7Y48J7QZWHGZG0x4XH4em/XlMuPQBClTcDkVb2uLjNpIoj+NXG/lq3pW3zwcXYM5j2uNjERBdUm4CLhAtQcmYcmoSl4JTpvrRqG1Xrbig7hCQSLrXObWSwawlUV7gU/mG/cAHzGTsTdZ1kicQHbeb9DW+YdPm+b0iNbc7nvVV2KMlLhMtHZA/wpHC5ilkkXPhi4fG/XlMuPUBCdXWWh4TLMSRr95FYDgzkARxckt+xbwgJF8/xr7spu0y4oOQMxjUJQ4pdyoWBxhv22LrKr9USLgw0VjNfx9i4ijE9x+sJuFW44Af2D9M1guxm/WYWovfVNCT3ChcG5qpJz3QQzdjC1HXh4ua6mNGY9W9Nl2FXpVedcslobOS9lrGxX7jYav+r6Y0K7xAu5v3peeHCWO1rVZM1Xe41BFwnXNjlYmObICzllIXoYuV4n38cG1OTEBfeEB2W/KsdMWV+PMbxZSMQFxkEf79ARHZLwYa8j7Aa/bT8JXI3TsXQ2JYIaSCHTB6AJtG9MWbFcVHUIeZTHv5IMw27mrYxF281AFN0BVvMfL9o0WIsPfjAMKJbfgd7lywWhG9Nw5YrHw1OtClcVCi6/yf+WDga8S0D0WRirtFG5JpnYzCeXhEB1xBwq3ARht6U+KLXppdm6wjN53zsXTQKvdtFIMhfDqlUDkVIK8QNmYbMy29hPWCxGp/yd2PR6N6IaRYEfx8f+AVFosvg6ci6Wmj2fCaLwoUpxo3sJaZhnxenYdu1L4YOK/Md9/bNwdAuEWjkK4PMLwiRnfsjecosTOj9E6ZdMg13bLuDqMHn/L1YNKo32kUEwV8uhVSuQEirOAyZlonLby1QqK4t5oQL8w339i/ALz9FoKHcRxsNbuTaPBRZrdBtlL/SZzi9RonETs3RWCGHj38IWsePxZqzBzHV6oyLIxxcWBeby1b5e+Qf34jUpDiEN+yAJf+y84YMfjw+jmUj4hAZ5A+/wEh0S9mAvI/WoZW/zMXGqUMR2zIEDeQyyAOaILr3GKw4/gj64HvMJ+T9kSZou7j2MG0jcnWNIK5sMfP9okVYvPQgHuinNctxZ6+4PKdtuYKPAmVtq1yqiu7jzz8WYnR8SwQ2mYhc46LtMjbleJm7EVOHxqJlSAPIZXIENIlG7zErcPzRD8Nvz5x/bHxW+uw01igT0al5YyjkPvAPaY34sWtw9uBUKzMuttp/LlHNZ+TvXYRRvdshIsgfcqkUckUIWsUNwbTMyzD7szURLgy+3z+Ixb+yZckPckVjtI5PQfqZApRbypsj6QKw6U9YFi5M8Q1ki/pUunK5OG0brn0RFCoHbCt/n4/jG1ORFBeOhh2WQPcT+4HHx5dhRFwkgvz9EBjZDSkb8mDjJ2aJGH3uYQIuFC7scrGxZpeLlf6TBWVyX7QN4mK4S3zQLu1flL3MwdTOjbgwgrroMGxoVEnDeGx4pK8xRYhUL49hSodwxCp34PqbEqjKCnH70Hz0DtM9O6DjNJx+z1f4lfiQvxvjY/y5sKtSBCX+jsc/+O8ZVH66i12/Rek3/koadsei3Bf4ZpS8+tt/2JwYBKk0DAMy/sJbYS1gRbhUPdyL2aMT0TGMX+YiRahAuHiOjQgrvSECThNwn3BhUHjwV4RxkcWkQYOwk+10Gf2rfLoDSc3lkCjaY/L+e/is0qCi6D6OpnZFIHuvvDnGHCs033FhPuHKst4IC2yPsVlXUPBNBXXpa1xc3gfB2nubYVDWQ5ND8ywKFzba4PfbWBrLbl6XIrD9SKQfuYkXn8oEAqgEfy+LQ6Ogrkg9eh+fKhlUfXuJqzunIY4NFS1tBmW1hUslnu5IQnO5BIr2k7H/3meoNBUoun8UqV0DtXWtvPkYHCsUdA60HB2wxUi43Cx/h1NTO3LRlQT1ubQR+mQ+FeTbyHFW3la9PIJJ7RrCJ6wPFh65iw8VKvwoyMMfEzqhkY8v/LTRHCUw3ZxffQ6urItNs1SKf7KUSO7bFkHceV4Sn3ZI+7cML3OmonMjQ2hwbRsokaBh/AaYbwZVeHlsCjqEx0K54zrelKhQVngbh+b3Rpj22QHoOO00+Gaw8kM+do+P0Z39I5FAGpSI3x//0At/pvIT7u76DVEcS4mkIbovysUL00YQ/21ORJBUirABGfhL1AgCFoVL1UPsnT0aiR3DuD1tEkhDhcLFhWxUL3FsSgeExyqx4/oblKjKUHj7EOb3DtNFMAzoiGmn3+vzbuonS59U4eWRSWjX0AdhfRbiyN0PqFD9QEHeH5jQqRF8fP24PoR4c76t9l+fWuVT7EhqDrlEgfaT9+PeZxU0FUW4fzQVXQPZsiFH8zHHYPKzFQmXXDw9OhExDQS/PW2kM/bMpyD0WnEdxcY/e0fStelPPleWhQugwffbSxHLljlpINqPTMeRmy/wqUxwwF11bSv9B1nKZPRtG8RFq5TAp10a/i17iZypnfWRKfnfF1vO4zc8MgxQ82bTX68n4FLhgpLTGKtdLmZ+4+yP02O5zocPYqakY1JcF4zMOIE770ugKn+PvFV90VjbOZGi2aRclBrhY76cx7S2CkQpc/HZ6Af4I2822vqwP1gpggZsRYGgX1N+Y47+uyaTTcOuMl9y8FuYruGQx2bgseC3YzChBDmjgtF4+H58MEobVoQLf3/ljTlozdknFC78955iw6dPf4mAswTcI1xK8PToTMRqG29WfERixP4C006w5hWy+uvON2mQdFB8TlLVv1jS3kc7eGH+9/0D19Ni0UAWiqR9b8WdGtU1zG7JDbj4xyHD6NA8a8Kl8tkODG3aANEpe/G4zJSu5tkG9PSXo+Py+0b5YfD5z4mIlFdfuGheZaG/tuPSAEkHxQdlVP27BO21dZAcsRmPRWk6ZItQuESNxXJlV3QZuRqn739Eueo7np2Zj+6c32SR03GlmkelM18uYlY7f0gbdEP6HSOAzAccGx2u76AYCxdHObBecrYuNvW08JMfOD02TDdY5xODKemTENdlJDJO3MH7EhXK3+dhVd/Guu+lzTAp16QVxJfz09BWEQVl7mcjEf4DebPbwoftrEqDMGBrgaEsl9/AnLa634C0yWScN57tYL4g5zfOLnksMsw3gijJGYXgxsOx36QRtCJc+OxX3sCc1pwNIuHCX+AkG+YLzk9rC0WUErmmHQTM5vMfNABbhR0EPnmLfxl8uTgL7fylaNAtHaZF8RhGh/ODsmLhwj/Sevuvwaus/rqz4BokQfyzrcK/S9rrfGrOLwLhEtghDp07JmFVzh0UlqlQ9j4fB+f1Rpj2N8+WiaZIPiQcuHEiXTZjNv1pTbhU4tmOoWjaIBopex/D6NfNDvs4zuTHaYzl+nM+MVOQPikOXUZm4MSd9yhRleN93ir0bazr70mbTYLJT4x3Gv31WgKuFS4o0VbK7HIxc9JF82wNunKjOvJmg5B51+gq1d+Y10ZXsfm0XYBbolmPclyf0xZy/37IeiNQJTxa9T0s66gLzSmRRSH1umA5hOY51vfQzXjIolJx3bjSRgWuzIjUNYL+8dhkrlIrPYeJEc2hvGD6E7NHuDCfduBn7WFt4hkX3nyPseENoL9EwEkCjgsXCXwj4zFqyizMW5iGJUvSsHj+bCjHDEGPqCBdoy3xQ5O4FGzMM79kCxWnkRKkG2kMGJljNDNSgTNjg3WdwaAUnDbqQJfdmIcYuQTyn1bhofGgBfMFewbzM7a+GJBdJKJkSbhUPN2NES2D0Gn6Gf3It+hGMPi8MxF+Eh90WHpXJCK012kKkNmnVbVnXCpOpyBIO8oagJE5RhmtOIOx3KGfQSmnBYwctEUgXCQ+oUhYcwvfRYM6Kvw9j+tIyzthxQNjuGIi4nffcF7ZAj4SGVrNyjO7zEX9cCU6W5hxcYyDzgLn6mJxLkzfafBsTVdudF6OZoMyYdoMzkMbbWfTB20X3BKPCJdfx5y2cvj3y4L5ZnAZOnJMtG2dvhnU4Pn6HlzobrZ9NGkEUXGFj4zlj/hNAtGjz0Qpzk2MQHPlBTMdTTuEC/MJO7jwuOIZFz4B59iUX5+DtnJ/9Mt6YxBs/KOhxr1lHTnuMkSlXtd/Y/PFt/NQtvCBRNYKs/KESy34O9V4uLKz2RkX/grr7X8FTqcE6VaFBIyE6c92rG7WVxKEFOPKSy9cJPDvlIpLRaIfIIAy/JvRC424mRefNnNxU+96J9JlM2bTn5aESwWe7h6BlkGdMP2MpdkvJ2zTPMOarlxfUN4MgzLvGvVH2Xqpja5d8WmLBeKOJu8y+uvFBFwsXICS07rlYqeNNAnLgD0sqbe2UtUtFRPpEi2kMhxLDtD9gAPH4JSw3f1xCikhUsg7rzTtXGjvZTfv8h0MOTqvfCDArsHbrQlQsD9eWXMoL5lWPqq/+cZCjk4rjEdAgeKc0QhrMwc39D96wePtmHFhxc0vXOQxczMunmMjyAe9JAJOEHBGuCjaDoQydR4WpaUhLW0h5s6cjNGDuiMqiG+AQhCTkIK0Xdfx3txvkCnE8YnRCGzUBimHjGZNoELeTG5gwu8XHBQOYjOfcSApCFJOQJjWSQyKzqUiNsQfAS2HY/sTcefbnHApubsZgyKCETfvopU11AwKt/bXUTguoQAAIABJREFUdiRl4UnY88I4Uxq8yfoNs6u5VIwpPI6J0YFo1CYFh4yX06nyMJPfE/LLQcGMtoO2CIQLewDlTVN4KDmUpKt3pWGYZLKpwXJhUz9dh+5smFdZK6Te0Pe+xTdUXsCUprqRU+MZF8c46B7vVF0sttDMOw3ebO6t6+Rql4qZgVZmOFgzcMwpgcAEfpxKQYiUbd8emopdNjX2XA9teFx2drIzVgrEoubtViRoI1DJ0Fx5yVQMCgYO5Z1W4L64qLONIEaHtcEcs42gHcIFZTj0iy7AhiXh4jibHziVEgIpm2eT0QedG37sH6ZfLsf2I+z7p8bTdd2198lapcJyUZyCptrVIuZnXKy3/wwKj09EdGAjtEk5pN1/K7RNlTdTv3/mF1HlBUAvXKxEFVPdxVL9oG4LzLrK/56cSFdroC1/mhMuJbi7eRAiguMw76K1vcxO2KZ5g838+VLsUjGzPzH+wNBAjBF1NIXk6bW3EnC5cNEvFzOjXJj3WeinnXWwJFwqcVHZTDcy6p+EIwJ9oboyHc35tcHc6IFhraLxmk4pQiacEzFnivZiaCPdUrIm484YKXAN3mUnGkYlWhsJFKYI+4YFo+PSu+LRLz4Fe4RLxVF92EJzwsWTbPhs0F8i4AwBx4WLlQMoKwpxY8dUdAvhl2JI0aizEjmvzLRGJsZXovDWQawaF49Iha6DK/Ebhv3CkO0lORipnanxx/ADZkZbTJ4p/kAsXCrx9foq9A5pjB5L8yDcYyq+S/eu6k4a2vGj441jMXHzFbwRDtaYu4kdQ61uOOTKQtw6uArj4iOh0HauJPAbtl8URMUhW4yEy99mXFJ5djxCtGk2MJ0BspA/QI37y7nRcf9h2P/NwoWqaoZDtoMDm5IzdbEFSwUfC84vsiRcBAdr+icdEQgMFa5Mb65fHme5/ePaQ2kIJpwTCGKmCHuHNtIODEqbjIPxUUiad9lI1LaREkh8WhsJFAZF+4YhuONS3DXjZzaDtstlBY4mK3Tpm10q5gQb1RVMb87XEcb9AdP30pAJAp9Yeam+j+Vcp99/2H5YLoo2wiHbaP/NWVBZeAsHV41DfKRC1yeS+GGYqPKyU7hAjScZcfpZvvjMV+aS039mV7raq23500i4VH7F9VW9EdK4B5bmCQKU6FO2/cIu25j3yOqnW2Gj3eNiprwaDgz1R5Kwo2nbBLrCCwi4Xriwy8VSwhCWctpIHABM4R82hIsKf02L0FXMfkk4pF+VxeDD9gTt6KS89+8mIxL2cSzGsZG6tcPSxiNxrFhwV9UdLOnYGF3jO+tGZGThmCxY+Kh5uw0JQd2w9pnxEBT3DLuEiyFsoVnh4lE2Ahb0kgg4SMAtwoWzpfzhJvTnljmxHTZF3Cr8K+iTiU0uwfOz6zChZwRC2yZiVtZZ7J7Iz7gMFQkX9f3l3NKahhh9wg7VIE4IBuESgeTFMxHbSKrd/Ly9wEJdIbyf+YJLc7ugoWAgxr95Hyi3XMZrwaCN8Bb2te0OIndHyXOcXTcBPSNC0TZxFrLO7sZEfsZlqFi4wBFb7BEuFwwj0UmHrWRKmEnNW/zeRzfTZn5knrvYXuFSHQ6scHG4LhZmwtJrBvrziywJF9VfmBah64T7JR0yLMtiPmC79sBPOXr/bjyraCk98efFx0bq9pFKG2OkuBHEnSUd0bhrPDprZ2xkCJ8s2GeqeYttCUHotvaZ+Zkeu8plBY7ZEC6OsmE+bEcCOygq743fjWcaxQiq9U7z9nf00Q4umF/izT/MZjhkwcyIufaffw77t+T5Wayb0BMRoW2ROCsLZ3dP1M+4DHVIuACV56egiXYAwQdt5/8jTE7/ulrpau+y5U+BcIlIxuKZsWgkZQMkbYc91aPesOoyYQrxhw3hovprGiK4A0OTDB1NYZL02osJuEG4sMvFUhAWNhbGky6ONwiGEQOfDktx144+gTnmJWcnctO5jTBsX5F+Y2PxyRSEt5qBy6/26GdlgpOP4Kt2uagGLzb0RFD/P8yuKdam41Hh4ho25njRZ0SgOgTcKVzYUfj/0mO5UUN2o2ljjM4xHf8sf56D+f0ioAjpiqm78vFJW1eocHWWeeEiXIYxcPfX6mRXe61BuDTFzyP7cbMLEjTstgr5+oEXK49lfuDh/lmIb6YbIeRH0RUtB2H5+XdmZ3htC5dyPM+Zj34RCoR0nYpd+Z90nU1bHf3q2mKPcLmo1C+hsbuDILDTOeHiGAfH2ykrftZ/5YRwUT9BRhwr6Czsi9KnYeVFyVlM5JbXNRq2D/otEcUnkRLeCjMuv8IeflYmOBlHdI0gNC82oGdQf/xhbmMNl5ztcmmro+s4G/WTDMSxAsOnA5Y62kEwg80gSGpAuJQ/R878fohQhKDr1F3I11VeMNhgZhmaQBA1tXK2lXZGVbtvSoaoOTfEOXUkXe0TbPlTIFya/oyR/UK4maOG6LYq3yDIxdaI3zliGwkXMcM6+M4twoVdLpYS1gRjjZSL4w2CGs/WcFOdAcNxoPr9C53rKvIwo4VuJEsxYDvescJEU4DNfYLQbc0TqPENOaO5H1dAIrLZ2IPqB1jZpTGG7v2oFzom5cDDwsUlbEwyRR8QgeoRcK9wAdT/rUIXbmmVRKJrgPnV2uxZGF+vLkPPYCl8IpKw+5lwOsaKcLkxB1HakTcZWqXesHHOiykPg3Bpjul/vcWp8S31SzJaTzlr6Bia3ir+pPQFzq0fj65h3J4edhZG3gK/HTEdWbfaQWS+4uqyngiW+iAiaTfEGOxcWmWvLe4SLpXnMaUJt7SPXSomDo5m4CYQOMZ7XOAEB8fbKYNpll853jmH+hnWaIWLBAHDD8CxZrACeTNa6FY1KAZgu64RRMHmPgjqtgbsFq5vOaM5AR6AxGw2CpUaD1Z2QeOhe0Xnthjn0Wq51F5sq6PrOBv1szU64SIJwHCHOwjGORLOVEjALhWzXBRtLRWzseLi61Us6xkMqU8EknY/E53z5hLhIooo+ESfUcbRdO3yp0C4NJ+Ov96ewviW/J7F1phy1jB4rDdI8MJh20i4CCjWzZfuES7ccrEmY8XLxZxpEL7uGaxbxiUNRvIh4zCQRs5RF+BWvuCASP3XKuQvjNZFk/CLR2aBBhVsqOTQX3Hwky4aR9kFpX4KseeGF6i4tQAxTUbDzOCu/qnsxrskbuO9xVEPwciIualiz7MxZIdeEQFHCLhbuDCfdyJRu0eOXbMuQ+TMPL3QYIqO47dm7KBEIIbu/WA0yGBZuGgKNqAHJ4bY9dB3zKyH1rNgD2i8cV//ln0hEi5XVEDJ31gaqwvLLJGGYlD2C7OzJqKHCN4w3+5hrzIWQdxeFGnYGORwo978ZZY7iAyKjv+GZqwQCxyKvcYha6119PmHC/7atMVdwqXqH310SYlPG8wzt3mGtdNifpzj4ExdLMBn4aXjnXPgqz7CnTQ4GYeMQ/4apaguuIV84QmR3Peq/IWI1o6++yE+swCaCjZUcih+PfhJ97spuwAlv1St5wa8qLiFBTFNzM5wCpO0XC75q9wnXPB1DwZrl7hJEZx8yOS4BN4C3V81Cm7liz+y8K7qHz5ojwQ+bebBclF0QrgwRTj+WzOtmAwcutfkuAVXCBd2j7B2aZQ0BGPPcFPBzqSr5WXLn2LhoqselyKWO2dGGjoI2S8sVLjO2EbCxUJprjsfu0m4ACWnUhDWRLxczJkGwXAGgQR+nZcg3+JyaQZfTkzAkNWPzXqJDaGpG7WVIy79Kvb/GorWs68aNkCqbuobTXnHBchUtkRz4Vpfc0/1sHBxFRtzWaPPiIC9BNwtXKruLkUH/kwCiQKJ2bxAYVC4PUE3sCHvijXPjMOlWxYuEOwnkMjCMfb0VyPRY8i96n4GBk/LNXxgTrgAqHqRjUEh3IxBg1gs+dv8pv/yu2dx0ezSmx+4ubCTLnStmWhcFjuITCG2J+giK8q7roEpBsszLg7Z4i7hwnzBvqGc+JP4IHrBLdEItN4BQuEyZJ9hNNwJDuyznWmn9LZZfOGMcBGc6SHxQ+cl+YZ2yzg95gtOTBiC1ebOY1E/xMouupFveVw6ru7/FaGtZ+Oqvk1V4SYfLlbeEQsylWjZfLLN8y4slku9bbY6uk6wEZzVJPHrjCWWOwhgvpzAhCGr9VZZe8F82Yeh/IGOPtFYcEs4k2u4UyguhuwzMy9jZeCSKdyOBK3okqPrmmcmoZyFz3ZsjwuDwm26PcLC/b1OpavNui1/mgoXoAovsgfpl9Q2iF0Cc9WjU7aRcDEUzDr6ym3CBSWnTJaLOdUgVN1BWjt+GYUvolIO46UZsc4UncWUmO7IeGRhI4zmBTb01IVklDWNRESjXtj4XNjRUePBCj4muy/8FFFIvWa+stKXCQ8LF7iKjT5D9IIIVJ9A9YSLBm9/58LCSqxEFdObUYK8Wa25M13Yk7dH4Cg3S8o2hnfSYri4/K0x12RYtFIQ9GMQ9ggDc6Acf03j9r9IJJC3nIBTH4T1gc4A5vvfWNo9BsrzwljKZmZctJczKPpzsv4kcnmLscgxOfKawZddwxC/xvxmZ+Y9H8gkCClG4TotdhDZeiCGOwer9VzT0eFKwabvQXtgwOCgLe4SLmDwPjsRAVzQAmnQAGQ9N1PZC4SLb+JOwyi7wxw4X3vr5nxWFAsi0Ul8o5By+KWZGT0GRWenIKZ7Bsw3g7p9m34sX1lTREY0Qq+Nz0UdZvWDFfozcnz9FIhKvWZePOp/n/YEjbDV0XVCuGjrgHb6PXC+USk4bL6DgLNTYtA945HAcisvmffITuSOaNAebp0F80WRn3HxReJOMytCrAgX1qcx3Lk9ref+beLPSsFG8kHiysu+cMhsVNShDSGRyBGz4G99eG2n0tUis+VPc8KFHRkowp+To/RLaluMzYFx9eiUbSRcrBTouvGV+4QL2LjqYWgy1hB6WPMqE/HaZRk+iFmcb/IDBVS4pAzXbeDyG4y9or23DAoPJiOMW0LBblAM7a7EltwHKPxRCdWPd7hzcjWSoxsiYtxpK6FINXi7jTvTRSJFyIijhgaP86mmYBN6aZd+SWApnJ7I/d/2YjC3VCxk/FnzFXzJAQznnik+/E33JO9gI8oVvSEC1SJQPeEiCHlrU7iU4cnukWjB72+RNUPSvleCjpYGrzPjuYZQhoiRh/GOH7dQf8C19cPR0p+bAZH3xmZ2lqOqEE+e63YJaAqykMCd8K6NWNYmCek5d/D2Wxl+FD7B9YNLMKR1ABr1yYQ4sCCDouyfuZmRplBeFA5wlCJ/eZzuNGy2w9NnPe6LgpaxYmEgFM3H4ZRegAlws0tf2PrCvzc2vxILqW97B0Pb6ZSGYPxZQZqa18iM5wZ3ZBEYefidPgKU+sM1rB/eEv5c/SnvvVkbbKSq8Amef1U7ZgvzDlv66oIKWDrjovL8ZC6akR8Giyt0QWbNvCy5gpncKeusT/yix2H/U2G0gxI8zB6BllyZkHdbhxc8Joc56JYLO1cXm8mL6CMNXvFl1ScGi/PNCbJLUIbryqvf4L3iELxMIQ4mcyfcs8LDJxTdlVuQ+6AQPypV+PHuDk6uTkZ0wwiMO2055Kw2Uqb2TBcJpCEjcNR42ZmmAJt66Qb4JJain4nyBVgsl/rrSnBgOPdMMwfBak9Ld4INU3gQydyJ6WyZ8QntDuWWXDwo/IFK1Q+8u3MSq5Oj0TBiHE7bilWutxkouTITrfUzvX6IHrcf4qL4ENkjDHvbuq17IaibuAdZaf81r/l+kQSyiJE4bKi88OHaegxv6c9tapej92b2cM0qFD55rnuwQBCFTczVixKB+SjPT0NHXwn8O8xF3jddGWe/dypdbQI2/MkUIZs/cLSpEuLqMR/L4/gltUHos/6+yHanbNO80teDPjGLYf4npkS4ti6sZr0kBEuvPUbAjcJFd1hWmCBefFnuZIRrN8JKETziqOnmQqYQ2T/r4rxLfGKwKN+w9VZLiPmIczM6cJ0B09jsbGXlHzMTF2xUSkzRPgwLZCv9Nph7Q9Sb0DmCKcQO7SiLL+JWP9U3/pa8pMpfxI2YSODbaxNe8g2o4AbV7cX6a+TdBY0sd423sBGYTC+JQLUIVEu4qJ5gXU/+wFgJGsXPw4Hcf/D4TRGKy1RQq8pQ/P4xbpzIwryh0WjI7/kI7IgJe/4ziUijfrIG3fiD9yS+iOg5BjNmT0RiTChaDtuA7Onc3jaJAtHDlBjTNwGL8vglHWq8OjwGrfT7Z0zrFnbD/x6T9dgVuJYaxZ2r4Y+EbexGZsE/du9AG90MCDvaGfXbfjzTVzc64eIrkSK4xzycfC6cyanAw/W90VDqi+iZlyDoa7AbO5C/iJtdkvii16aXgk6SGk/WdNMtmWM7tb4R6DlmBmZPTERMaEsM25CN6dGcPYpoDFOOQd+ERcj77qAtFXmY1ZI7OyMwCYdMdoszKMz+WXcApcQHMWm3zQxWCXgZvfx+Yzm6CQSlRBGJ+JHTMHfedIzsGYmIXsPQm++o+nfClJ2nceJALp6oHOWgM8DputgoH+K3ZcidHK4rM9JgjDhqAg1MYTZ+5kSFT8wimDaD5zCjA7+UzrSsSiT+iJl5wcrgnW7Ue9+wQG2EsjZzb4g6jTp7GRTu0M16+catxlN+IECcGcE7a+WSu0x1G4u5GUGJvDvW6ZUm/xhn2TD4eG4GOvBLu7gZO7ZfoP/vH4OZFywLOt4S8d/vuLG8GwL1g6YSKCLjMXLaXMybPhI9IyPQa1hv/aCqf6cp2Hn6BA7kGjbBW23/1U+wppuhLvSN6IkxM2ZjYmIMQlsOw4bs6dyeJAkU0cOgHNMXCYvydCZWnsW4xtygjF9rjPgjn4uGyn398gjGtfFDQPspOG589pUz6bKPt+XPimtIjeLqB/8EbDOaVmH3F7fhBaE8Cr/tf2Yoh87YVpaLyeG6dKXBI2D6EzOqlxbl6/dKiv1O77yVgFuFC9jT7tnoYtuOYM2csYiPEIT8lIXgp+TpWLj5MgqrXiN3w0JM+6WDflMqW9EoWiVg4tyNOP9OoASYT7i2PhnRAdyPVV8p+SEiYQlyCwXXWqRejOOjQtCgdyYKzF7O4MuRZAQr+mHLa7MXaJ/MfLmObQum4OcoTmyxtkgDED1wMuau+VN7jabwIjLnT8YA42sGKbFw+3VoCs54GRuL0OgLImCVgG3hwuDT1W1YunA6RsQ10S/r0Hcq9L9lrqMhk0PRKAQRbTojfnAK5mw4jn8/mRmh1lpVhjvr+yNUOzDC3S9vin5LL6BQDfw4M44b+ZdA2rATpua8NupEV+H1mUXoL6yjtPb4IbzvPJx8KZjZQAnydy3CtJHdES4QO9LgzkiaOh/rc99AwxTjeuZIdGgorKekCIwZDOWCTFx4/z/tLIcvn2f/CMQNScH0uXOhHNYBwYpw9Fv4J97os8vgy/VtWDDlZ0RxnVqWmzQgGgMnz8WaP1/qfFN2B+v7h3JiSsdB3rQfll4ohBo/cGZcE270VoqGnaYi5zWbAC9cOG62bNEU4HT6DIzs1kzgQxmCOgyDcn4mLr5X4eXZdVg4LQkdgwT5V0RhwKT5+OPqJ6vlyPAlg+J/NmNEdABnM2efJAAxo7fizqc8zOLOpfFvGovhM9fj6D/vdPs+HODg0rrYkAnulQYFZ9Zgzth4RAjKjCzkJyRPX4jNlwtR9ToXGxZOwy8dggT5VaBVwkTM3Xge4mbwGtYnRyNA0JnW/o78IpCwJBf2NIPFx0chpEFvbZAaE3PZUvHlCJKDFei35bVAHBtfaUe51BTiYuZ8TB4QxYlY1o9SBEQPgnLhdlz/+j8XsmHw6dp6JJuUGQn8IhKwJLfQSl6M8yZ4zxTjn80jTPsdATEYvfUOPuXxS8X80TR2OGauP4p/3pXDVvvPp1B2Zz36h3KdfG2dIEfTfktx4f+zdyd+UVWP/8e/f8cMDAguGEKKpKViZaW2qGmlpZV+tE+GthjmbmVhZqKmFi5ZftLM5ZOFe5pWD03LSM2lzO2RGw9zF77sX5jf+/eYDYZhBhhmhtlePR48GGbuveec57nSfXPOPdf2y0tjHavsGduo1/g8Wf/Z2ncuP/+9cl9/XHclWv6tmXRHzyEaM+lNTRs3VD1TO6v/hFU6XPevH45i1axyG+vPcwe08p039MIjnWyj0db2GNX+gREa/9ZC7ThfLfPNfcp94b6aP0hZz11jO2UMzdLbud9Z6+d13crOaOv8aRrTP82p3BglPzRSE2Ys1vcFlTq3Y5FmvDFc99X5vdRVT746XR/tvFjjwovQFghscFGJDq6Zo9ydF/yuUHXzpH5Yv1yL5uZoXu7n2pxv/x9WE0sqPfxfrTlwu+5fSJ33LTmkdSt/qjeNzHmTUH3tq02otot6hbZA48El0PWv1JWDeVo+P0fzFq/R7pO3ai9SzIU6vnGJFuSu1b6LziHEpU5ll5S/6XPlzsvR3I+9/73icrQGfyw9lKdvjtzUjb8P64eNX2r5orn6YHaOFq7I0y/nnadFNXiY+h9WXtHBvOWanzNPi9fs1slbtX98MRce18YlC5S7dp+cGQJWl/q18/6dyms6tuNLLfnQ8rt+lbb9fsX2F9Lqc/o2d4FWfndCN9yNCDTDwfvKBXOPKt08+YPWL1+kuTnzlPv5ZuVfrLnDvvGKlR7Wf9cc0O06w4TOu5Xo0LqV+sl1GpnzJqH6uuqmTv6w3vpvKmderj7fnC9vaDw1q/LaMe34cok+tHiv2qbfr9hmhVSf+1a5C1bquxM3Gp2h4fHYVw4qb/l85cxbrDW7T6r2n61Zhcc3asmCXK3dd9H9VHRJVbfP6tdtX2rZwrmaM3eRlq/9TseuusxacVN4pY/lujmk394K5br5rZEcyGuBAAcXr+vDDgggEKYCwQ8uYQpHtRFAAAEEEECgSQIElyYxsRECCDQmQHBpTIjPEUAAAQQQQMAXAYKLL3rsiwACNQIElxoKXiCAAAIIIIBAAAQILgFA5ZAIRKMAwSUae502I4AAAggg0HICBJeWs6YkBCJagOAS0d1L4xBAAAEEEAi6AMEl6F1ABRCIDAGCS2T0I61AAAEEEEAgVAUILqHaM9QLgTATILiEWYdRXQQQQAABBMJMgOASZh1GdREIVQGCS6j2DPVCAAEEEEAgMgQILpHRj7QCgaALEFyC3gVUAAEEEEAAgYgWILhEdPfSOARaToDg0nLWlIQAAggggEA0ChBcorHXaTMCARAguAQAlUMigAACCCCAQI0AwaWGghcIIOCLAMHFFz32RQABBBBAAIHGBAgujQnxOQIINEmA4NIkJjZCAAEEEEAAgWYKEFyaCcduCCBQV4DgUteDnxBAAAEEEEDAvwIEF/96cjQEolaA4BK1XU/DEUAAAQQQaBEBgkuLMFMIApEvQHCJ/D6mhQgggAACCARTgOASTH3KRiCCBAguEdSZNAUBBBBAAIEQFCC4hGCnUCUEwlGA4BKOvUadEUAAAQQQCB8Bgkv49BU1RSCkBQguId09VA4BBBBAAIGwFyC4hH0X0gAEQkOA4BIa/UAtEEAAAQQQiFQBgkuk9iztQqCFBQguLQxOcQgggAACCESZAMElyjqc5iIQKAGCS6BkOS4CCCCAAAIIWAQILpwHCCDgFwGCi18YOQgCCCCAAAIIeBAguHiA4W0EEPBOgODinRdbI4AAAggggIB3AgQX77zYGgEEPAgQXDzA8DYCCCCAAAII+EWA4OIXRg6CAAIEF84BBBBAAAEEEAikAMElkLocG4EoEiC4RFFn01QEEEAAAQSCIEBwCQI6RSIQiQIEl0jsVdqEAAIIIIBA6AgQXEKnL6gJAmEtQHAJ6+6j8ggggAACCIS8AMEl5LuICiIQHgIEl/DoJ2qJAAIIIIBAuAoQXMK156g3AiEmQHAJsQ6hOggggAACCESYAMElwjqU5iAQLAGCS7DkKRcBBBBAAIHoECC4REc/00oEAi5AcAk4MQUggAACCCAQ1QIEl6jufhqPgP8ECC7+s+RICCCAAAIIIFBfgOBS34R3EECgGQIEl2agsQsCCCCAAAIINFmA4NJkKjZEAIGGBAguDenwGQIIIIAAAgj4KkBw8VWQ/RFAwCpAcOFEQAABBBBAAIFAChBcAqnLsRGIIgGCSxR1Nk1FAAEEEEAgCAIElyCgUyQCkShAcInEXqVNCCCAAAIIhI4AwSV0+oKaIBDWAgSXsO4+Ko8AAggggEDICxBcQr6LqCAC4SFAcAmPfqKWCCCAAAIIhKsAwSVce456IxBiAgSXEOsQqoMAAggggECECRBcIqxDaQ4CwRIguARLnnIRQAABBBCIDgGCS3T0M61EIOACBJeAE1MAAggggAACUS1AcInq7qfxCPhPgODiP0uOhAACCCCAAAL1BQgu9U14BwEEmiFAcGkGGrsggAACCCCAQJMFCC5NpmJDBBBoSIDg0pAOnyGAAAIIIICArwIEF18F2R8BBKwCBBdOBAQQQAABBBAIpADBJZC6HBuBKBIguERRZ9NUBBBAAAEEgiBAcAkCOkUiEIkCBJdI7FXahAACCCCAQOgIEFxCpy+oCQJhLUBwCevuo/IIIIAAAgiEvADBJeS7iAoiEB4CBJfw6CdqiQACCCCAQLgKEFzCteeoNwIhJkBwCbEOoToIIIAAAghEmADBJcI6lOYgECwBgkuw5CkXAQQQQACB6BAguERHP9NKBAIuQHAJODEFIIAAAgggENUCBJeo7n4aj4D/BAgu/rPkSAgggAACCCBQX4DgUt+EdxBAoBkCBJdmoLELAggggAACCDRZgODSZCo2RACBhgQILg3p8BkCCCCAAAII+CpAcPFVkP0RQMAqQHDhREAAAQQQQACBQAoQXAKpy7ERiCIBgksUdTZNRQABBBBAIAgCBJcgoFMkApEoQHCJxF6lTQgggAACCISOAMEldPqCmiAQ1gIEl7DuPiqPAAIIIIAi1yfMAAAgAElEQVRAyAsQXEK+i6ggAuEhQHAJj36ilggggAACCISrAMElXHuOeiMQYgIElxDrEKqDAAIIIIBAhAkQXCKsQ2kOAsESILgES55yEUAAAQQQiA4Bgkt09DOtRCDgAgSXgBNTAAIIIIAAAlEtQHCJ6u6n8Qj4T4Dg4j9LjoQAAggggAAC9QUILvVNeAcBBJohQHBpBhq7IIAAAggggECTBQguTaZiQwQQaEiA4NKQDp8hgAACCCCAgK8CBBdfBdkfAQSsAgQXTgQEEEAAAQQQCKQAwSWQuhwbgSgSILhEUWfTVAQQQAABBIIgQHAJAjpFIhCJAgSXSOxV2oQAAggggEDoCBBcQqcvqAkCYS1AcAnr7qPyCCCAAAIIhLwAwSXku4gKIhAeAgSX8OgnaokAAggggEC4ChBcwrXnqDcCISZAcAmxDqE6CCCAAAIIRJgAwSXCOpTmIBAsAYJLsOQpFwEEEEAAgegQILhERz/TSgQCLkBwCTgxBSCAAAIIIBDVAgSXqO5+Go+A/wQILv6z5EgIIIAAAgggUF+A4FLfhHcQQKAZAgSXZqCxCwIIIIAAAgg0WYDg0mQqNkQAgYYECC4N6fAZAggggAACCPgqQHDxVZD9EUDAKkBw4URAAAEEEEAAgUAKEFwCqcuxEYgiAYJLFHU2TUUAAQQQQCAIAgSXIKBTJAKRKEBwicRepU0IIIAAAgiEjgDBJXT6gpogENYCBJew7j4qjwACCCCAQMgLuA0u//d//1dT8crKSl2/fp0vDDgHOAcaPAeOHTumK1euNLgNv0v4Xco5wDnAOcA5wDnAOdDcc+DEiRP63//9X2tO+R9HWrGEFcd/5eXlKigo4AsDzgHOgQbPAUtwuXjxYoPb8LuE36WcA5wDnAOcA5wDnAPNPQcsszuKiorqBhdHaOE7Aggg0FQBpoo1VYrtEEAAAQQQQKA5Am6nijXnQOyDAALRLUBwie7+p/UIIIAAAggEWoDgEmhhjo9AlAgQXKKko2kmAggggAACQRIguAQJnmIRiDQBgkuk9SjtQQABBBBAILQECC6h1R/UBoGwFSC4hG3XUXEEEEAAAQTCQoDgEhbdRCURCH0Bgkvo9xE1RAABBBBAIJwFCC7h3HvUHYEQEiC4hFBnUBUEEEAAAQQiUIDgEoGdSpMQCIYAwSUY6pSJAAIIIIBA9AgQXKKnr2kpAgEVILgElJeDI4AAAgggEPUCBJeoPwUAQMA/AgQX/zhyFAQQQAABBBBwL0Bwce/Cuwgg4KUAwcVLMDZHAAEEEEAAAa8ECC5ecbExAgh4EiC4eJLhfQQQQAABBBDwh4DPwaX64i4tnbtOh0s9VadaF3ct1dx1h+VxE0+78j4CCISNQFQGl+rbOv3jGuUu2aG/q1uqq8wqOrtX63IXa/uZFivUfeOqburk7tX6+JNduhjkqrivIO8igAACCESSgM/BRUVblJmSqjFbijy6FG3JVErqGDWwicd9+QABBMJDoPHgYta1ff9RzuzZmt3A1wcfzFHO3PlatPgzrd7wrfb9cVml5lAyKFNBfp5yp/5LfdMSZDQYFNN5gn6sCGwdyy8f1KbF0zXqkc5KNBpkMN6prF3lgS3U3dHNxTr/81daMPF5PXRnKxkMBsXeM12/VLrbmPcQQAABBBDwn4DvwUVF2pKZotQxW+QxujQh3PivSRwJAQSCIdB4cLHVylxxXSc2z9BjSUbrRa/1wrd9D/V/PlNZk6frnXff0fSJr+hfg+5VSrxBBkOMEjs/opdyNutkcTBa5lJm1RntWpenbWsm6MEES/1aIrhU6ezutdqw5UtN6p1gcwtWcCk9rm1r8rR5xSvKMNnaT3BxOUf4EQEEEEAgIAJ+CC5S4yMqTQg3AWkeB0UAgZYSaGpwsdWnXLuz0hRjsFz4GpX6+k65GzuovPyzPsnsqUT7dm3uf0ObL1a1VJMaLqf6lD582NRCwcVRlWr9/XE/mSwewQoujqpUHdH799vaT3BxoPAdAQQQQCCQAn4JLkwXC2QXcWwEwkPAu+BSrTMLH7FdgDcQXKwtN/+jra/dXbNt28dzdSIUsov5ilYMjmvh4CLd/GKo4kMhuFRf0JIBBJfw+NdJLRFAAIHIEPBPcGG6WGScDbQCAR8EvAsuZl1aNlBxjYy4OKpjvrpWIxxTy4wdNW5HieOjIH6/qS+Gxrd4cCle93xoBBfzZX36pC24MeISxNOQohFAAIEoEvBTcJGKNmcqJaWhG/CLtDkzRSkN3QsTRfA0FYFIE/A2uBR8MqjJwUVOF8kGQ6wy3slX8O8Fv60vh7V8cClZPyJEgss/WvEUwSXS/h3THgQQQCCUBfwWXFS0ufHVxSzhhtXFQvl8oG4INFsgoMFFtaMblpv1O0/4UQFexKsJDgQXgksTThM2QQABBBDwm4D/gotsIyoNry7WeLjxW8s4EAIItKhAQINL+U+a0iXGtpqWIU4DFp+Tu8eGmG8c0tqZmXqiV7qSE+MUGxuvtqnd9cjwyVq251IjozTVuvbbl5qZ+YTuS7tDiXFxSkzuqj7PT9GKn6+4Kc9zcDHf/Fmfvz9TM2e6fL3/H/18o3ZtZ3PhUa17e4T63NVerUwma3m9B7+o8dNe16Deb2i3mxULGh9xMevGobXWdvRKT1ZiXKxi49sqtfsjGj55mfZc8jBWZS7U0XVva0Sfu9S+lUmmxGR17T1YL46fptcH9dYbrpUxuxlxMRfq2H+zNbJPupIS4tUu/WFl5u7Xtdomt+g5SWEIIIAAApEl4MfgYp8u1uCIShPCTWT50hoEokYgcMHFrIK1I9TB8uwSg0HG9s/qi0v1r4QrTq7SyPQ4GVpl6JUvflNBSbmKCw5q3cTeamvZ15SuMXmXVX9PSear2vP+QKW2zdDo3F3661qpym+f0Y6Z/ZVk3bezhq844bLymefgIlXpxoFs9bYsF2xsq4yRH2j9T3/pcmFFbflFv+qDR5KU1Gei1h0sUHFFqa6d+kGfZfW2lmnsmNWM4FKhk6tGKj3OoFYZr+iL3wpUUl6sgoPrNLF3W+szZ0zpY5R32VWhSL9+8IiSkvpo4rqDKiiuUOm1U/rhsyz1ttxbZOyorMaCS9klbZ34gNrY+8nSV9YvY5KeWn7GTfCLmn8aNBQBBBBAwE8Cfg0uTBfzU69wGATCUCAwwaVYJ7+epN7t7M98ieuiF9efU71FxarPafmTra0XygnD1+m2s1/FQWX3jLV+Zuozz82KZIXal91biTHJeu6L83UvsCv21o70JDymhX85l9xQcKnQ6ZXPq2NCN41edVz1Hz9TrVOL+qmV6X7N+t1lBMR8VVteTpepGcGl+txyPdnaEhgSNHxdHQVVHMxWz1jLZyb1mXeijmH1qUXq18qk+2f97jIqZdbVLS8r3dRIcLl7jN7P6qNe/8pR3sFLKiy5rj82TlXftrZ+i+k6VfuCP7fP+azgNQIIIIBAGAr4N7gwXSwMTwGqjIB/BJofXAyKT++vF7Mm680Z2Zo5M1vvvjVFWS89q37dkuzLIMfrzr5jlbv3cp0L7pqal29RZpLtL/ytX8hTWc0Hlhdl2jqmvXW0wXjHWG13mX5Vsv9N64MUTQ9+oKPOucSyq/maVj1jezq8wRCnp1dedzqyp+BSrlNrXtTdSfdp/OaL7utrvqaVQ+JlsAYX10Kl6jMfa0BX70dcyrdkKsk60tFaL+TVVVDZVo1pbwkSRt0xdrvT6JFZ11YOUbzBFlzq1ab6jD4e0LXBERdDbLIG5vyiW3UGcsr18/RuirXUx9Rbc/+sd2QnS14igAACCCDQuICfg4tUaL8Bf2uRp8ILrauLpY7ZKo+beNqV9xFAIGQFfAkuCd2fVtbUN/VOdrays2do+qRx+vfTfdWlne05IQZTsno+NVbvrf5FBe7+cm8u0Dev9lC7tt2Uuf5C3VETVWjPpHTbwy4TRmqD8/W8+ZrWjUiS0RCre2cechltsFCbdeXbqeqd3EqtuwzXikZHXIr1+7Jn1bl9b03b+Y9LPZy6zlyg5U9YVuSKUad/faHTLmFK1ee1bPQUr6eKmQu+0as92qltt0ytv+ByF1DFHk1Kt90nlDByg1O4M6tg+RPWFd5iOv1LX9SvjM4vG60pjUwV+9ll4MjS2qJ1w5VgCS7uppo5cfASAQQQQACBpgj4Pbio0H4Dvufk0oRw05Sqsw0CCISSQPODi1Gpr+90GgFwalXpee355DX1TnLcmG9Uu4cmaOP5pvz1vkKX89crZ2x/pSfYp5rFj9B/S52OX5Snf1tHalrp+bXe/inFZcSl/Ib25wxUhzse1Xt7rtfey+JUXO3LSv2WnWEbjTDE6I4+r2nJj+edwkTtlq6vGr8532WPisvKX5+jsf3TlWC//yR+xH/lzFD5W7YyrNPIDIq5o49eW/KjzjsHPJdDWn90d3O+y3bl219WsrXMdnppU2MHdNmZHxFAAAEEEHAR8H9wURNGVJoQblzqyY8IIBDiAgEJLvY2Fx+ap/6O+1wMBiU+PFdH3I28WLcv1ulvF+m1/ulK6T5Ek5dt16pX7SMu8SO03unZlVVH3lcvyw30hjZ6caO3F9ZOwSVtpLInWRYBMCppyGc604RcZb72nab2st2XY7uRvZU6P56lpd+fqxMqXLu9ycGl+LS+XfSa+qenqPuQyVq2fZVetY+4xI9YLycG65S476b2UmvHDfUGg1p1flxZS7/XOeeE41yZpgSX717XndbgkqhR33jr61wYrxFAAAEEEJACEFyYLsaJhUA0CgQyuEiVOjzrfvv9LpapR8nK3FxYj7n0VJ7eGpSmhOQ+Gv95vq5aA0SF9k52H1wq9kxSeowluMTr6VU36h2v4Tecgsudg/XCoGTrfTSWEPTwnPy6wcDDgcy3j2rNpP7qGGe7P8cWYBLU5ZnZ2nnRzdwrSY0Hl1KdyntLg9ISlNxnvD7Pv2q7z6ZiryZ7Ci6W+plv6+iaSerf0fZQSceqYAldntHsnRfrT6NrSnDZlWUPLgka+TXBxcNpwNsIIIAAAk0UCEhwYbpYE/XZDIEIEghscJGqfp+l+6yjI5aL/Fj1ePtXp4tps27snaXH2hsV02m4Pv/L+SK5geCyf6q6WoNLjO6ett/Lh1o6BZfOE/TDhc16uYvjnpx79Pr2K41MF6vt/OLT32rhy32VUtM+g0xdXtJXrvepNBZczDe0d9Zjam+MUafhn6suQyPBxVEdy0jNwpfVN8XeFuvN9V300lcu9w4RXBxifEcAAQQQaCGBwAQXpou1UPdRDAKhIxDo4GK+/JmerBmZiFHXqftqgob5Sp5Gd7TcB9NWw1YVuAQGz8Gl+sxCPWoPC7E9s3XI/SCHDdl8U4d/PuYEXje4/FghFf3ynnon2kZPjB2e0YrTDR3Q6VDWl2bd+n21snpbFguwHMOolMyNrhs1MOJi1pW80epoCWJth2lVQZ0lvqTGRlxcSjLf+l2r7c+UsYy+GFMytfGm00YEFycMXiKAAAIItIRAgIKLY7rYWHm+R99+L8xYVhdriY6mDAQCLRDo4OJ8A7nlOSXPrHSMaJhV8NlTamUdGeir+SddVtOS5+Ci8h80Ps1+439Mml7eetMl9NSqlR/+QEMnflf7huoHF8uUttMrnrHfkG5QYu+Z+sXtPf+lOrx9l867VtVy9MKfNaOXbbqWMWWcU3m2lx6nipkL9NlTtqWbTX3nqz6D5xGX0sPbtct9ZfTzjF7WFccMxhSN2+G0/BnBpV7f8AYCCCCAQGAFAhZcHNPFxnpOLvbVxRoKN4FtPEdHAAH/CXgXXKp1YckA+z0rDawqVlO9Qv0w8W77KlwGGVNHK++aY0ShUgcdK3TFdtObB1xHOcr1wxtptuWQ45/Tmjq3xpRq9/jOts8MBpnuHqet/ziOW1O4zLd+VvbDGXpjt/Mt7e6Ci+VekSvaNu5ue9tMumvsRrkOfsh8XSuf66/5J93dxW/WpU8G2cJC0ku1lbC/8hhcKg8qO8P2oM3Ybm+qPsMPesMe0uKfW6NaBrOur3xO/eefdPvMGfOlTzTIOtKVpJc2O03BI7jU6xveQAABBBAIrEDggotjulhDIyr21cUaCjeBbT5HRwABfwl4F1yqdOT9Xk0MLiU68cULustx/0dsmkauc37CfbXO5fa3HytGaaO/1iVHHqi6rJ8WPq8u8fblkOOe0HJLiqgs0IlTtnlP1aeXaFDb2pvjE7r9S3M3HtSFWyUqLDihfetmatg9rdVu0FKddh4hMV/RisH2kZE7s7TLaTBCxfl6v0+irDe4G9vridzjdZd7tgSXpxPUeexmXa2fk3Tji6GKt6zsNSC3XvfcWm37zLJAwcvOT9OsPqfc/vb7UmLSNPrrSzVBpOryT1r4fBfF25dDjntiuTVMVRac0KmbVbq+8mkldB6rze4ro6HxBhlaDVDuWScA80UtHWhrf0zXqdrvZpW38p3jlGotM74Zy03XazpvIIAAAghEuUAAgwvTxaL83KL5USbgVXCpPKlF/RJsF/YGg9oOmKGvduXrr4tXdaukUlWVJbpZcEL7Ny3Tm8/2UBv7Bbcx6QGNW3Oi3nLBVX/OUx/LxbX13pA4pfXL1MQpr2pIRgfdNexDLR/fwz5ak6iM4Vl6adBgzdznGHOo0tm1/64NRtZjOI5l+x7beaS+POMyklO2T1Pvto1wGFo9pRUuwypl+6epm/3ZKIb4Hnr5qzO14cUaXOJkMLbXo29u0qlip5Ol7JgWDmgjY1wPTdrtfFOJZZsK5b/reP5LnPp9fNbpIZdV+nNeH2vgsTrEpalf5kRNeXWIMjrcpWEfLtf4Hvb6JmZoeNZLGjR4pvYVWkZcnlacwaj2j76pTXUro2MLB6iNMU49Ju3WTeeQVbZHk7vYp9m1G6H19RZlM6tgxWDbAygNJt3//u9Oiyk4tZeXCCCAAAIINFEgoMGF6WJN7AU2QyACBBoPLmZd3fupZs2YqBf63GkfIakbEGzBw/5ejEkJbZOV1u0B9R82Rm9+lKffrzmGUlzBipU//3ElW1cIs+9v6qgn3vtOBVVS4dax9r/8G2Rs+6AmbDpfMxphO1KF/t78tgZ2clpJyxpg4pU26G1t/ttpOKUoXyvfnaAXH0uzTeeybmdU+wdGaPxbC7XjfLXMN/cp94X7agKXtV0xSer5bJbeXrxb1qliT9cuO9wqrY+GZU7Q9OlZeu6+9kroNEgztp13utA36/q+T/X264N1T0KtmbF1Dz09brrmbztra0ZxvuY/nlwz9c1SrqnjE3rvuwJVqVBbx6bW3Pjf9sEJ2mR9kKcjuNiP2ypNfYZlasL06cp67j61T+ikQTO26bwjt1Wf0ZaciXrh4Y5OfRijpPueU9Zbudp1qUJnty/QjDdG6P4k+0iXxSixm4a8/rY+3XfdtfP4GQEEEEAAgSYJBDa4qEQH18xR7s4LnitTclBr5uRqp5tlPz3vxCcIIBBqAo0Hl0DXuFL//Jan5fNzNG/xGn1/6nbtjfbmQh3fuEQLctdp/0WnEOJapdJLyt/0uXLn5Wjux59rc/7FeqM7rrs07+dSHcr7Rkdu3tDfh3/Qxi+Xa9HcDzQ7Z6FW5P2i88630nhbQOU/+i1vuebnzNPiNd/r1O3aYRJz4XFtXLJAuev2y5mh9FCevjlyUzf+PqwfNn6p5Yvm6oPZOVq4Ik+/+FQZbyvP9ggggAACCHgWCHBw8VwwnyCAQGQJBD+4RJYnrUEAAQQQQACBugIEl7oe/IQAAs0UILg0E47dEEAAAQQQQKBJAgSXJjGxEQIINCZAcGlMiM8RQAABBBBAwBcBgosveuyLAAI1AgSXGgpeIIAAAggggEAABAguAUDlkAhEowDBJRp7nTYjgAACCCDQcgIEl5azpiQEIlqA4BLR3UvjEEAAAQQQCLoAwSXoXUAFEIgMAYJLZPQjrUAAAQQQQCBUBQguodoz1AuBMBMguIRZh1FdBBBAAAEEwkyA4BJmHUZ1EQhVAYJLqPYM9UIAAQQQQCAyBAgukdGPtAKBoAsQXILeBVQAAQQQQACBiBYguER099I4BFpOgODSctaUhAACCCCAQDQKEFyisddpMwIBECC4BACVQyKAAAIIIIBAjQDBpYaCFwgg4IsAwcUXPfZFAAEEEEAAgcYECC6NCfE5Agg0SYDg0iQmNkIAAQQQQACBZgoQXJoJx24IIFBXgOBS14OfEEAAAQQQQMC/AgQX/3pyNASiVoDgErVdT8MRQAABBBBoEQGCS4swUwgCkS9AcIn8PqaFCCCAAAIIBFOA4BJMfcpGIIIECC4R1Jk0BQEEEEAAgRAUILiEYKdQJQTCUYDgEo69Rp0RQAABBBAIHwGCS/j0FTVFIKQFCC4h3T1UDgEEEEAAgbAXILiEfRfSAARCQ4DgEhr9QC0QQAABBBCIVAGCS6T2LO1CoIUFCC4tDE5xCCCAAAIIRJkAwSXKOpzmIhAoAYJLoGQ5LgIIIIAAAghYBAgunAcIIOAXAYKLXxg5CAIIIIAAAgh4ECC4eIDhbQQQ8E6A4OKdF1sjgAACCCCAgHcCBBfvvNgaAQQ8CBBcPMDwNgIIIIAAAgj4RYDg4hdGDoIAAgQXzgEEEEAAAQQQCKQAwSWQuhwbgSgSILhEUWfTVAQQQAABBIIgQHAJAjpFIhCJAgSXSOxV2oQAAggggEDoCBBcQqcvqAkCYS1AcAnr7qPyCCCAAAIIhLyA2+BSVlZWU/H//d//1fHjx/nCgHOAc6DBc+Do0aMNfs7vEX6Pcg5wDnAOcA5wDnAO+HIOWK41bt26Zc0p/+NIK//v//0/x0uZzWZVVVXxhQHnAOdAg+eA5RdRRUVFg9vwu4TfpZwDnAOcA5wDnAOcA809B06dOqXS0tK6waUmtfACAQQQaKIAU8WaCMVmCCCAAAIIINAsAbdTxZp1JHZCAIGoFiC4RHX303gEEEAAAQQCLkBwCTgxBSAQHQIEl+joZ1qJAAIIIIBAsAQILsGSp1wEIkyA4BJhHUpzEEAAAQQQCDEBgkuIdQjVQSBcBQgu4dpz1BsBBBBAAIHwECC4hEc/UUsEQl6A4BLyXUQFEUAAAQQQCGsBgktYdx+VRyB0BAguodMX1AQBBBBAAIFIFCC4RGKv0iYEgiBAcAkCOkUigAACCCAQRQIElyjqbJqKQCAFCC6B1OXYCCCAAAIIIEBw4RxAAAG/CBBc/MLIQRBAAAEEEEDAgwDBxQMMbyOAgHcCBBfvvNgaAQQQQAABBLwT8Dm4VF/cpaVz1+lwqXcFszUCCESWQHQFl2Kd3rlCH338hfacL4+sjqQ1kswqOrtX63IXa/uZakQQQAABBEJEwOfgoqItykxJ1ZgtRU1sUrFO7Vql3Nz/aNuxGzI3cS82QwCB0BZoPLiYdW3ff5Qze7Zme/yao9wd5+S4VLT+YWSOp+3n6ONvz9Zs25I6lT9P1z2xBhkMBsX1nqs/qlqydMoKlED55YPatHi6Rj3SWYlGgwzGO5W1i2AaKG+OiwACCHgr4HtwUZG2ZKYodcwWNR5dqvRX7gC1Mdj+h2+I76oX154V/8/3ttvYHoHQE2g8uNjqXFV8SflrJ6lPO6P1wt9y8W+Iu0cvLN2jM7cq6jXMXP6P9s54SHE1vzfS9PjE5dp5/LKKg/TLw/zPt5r2cKoSEtP0+Oy9ul2v1rwRfgJVOrt7rTZs+VKTeifYzk2CS/h1IzVGAIGIFvBDcJGKtmQqJXWMGh90Kdf2l++Q0XEBYjDI2PF17WSaWUSfZDQuOgSaGlxsGuX64Y3OirH/Lmj19Cpd8zj8Wq2/Fw9QvMGg+K4jtCT/ZuBHas23lP/tXl32WKfQ6FPzrXx9u/dy4D1Co7ktVItq/f1xP5ks5ybBpYXMKQYBBBBomoBfgos308WKDy7WiIxU3dnjIWWkmGQw9Vfu346JIU2rNFshgEDoCXgXXKp0Ym4f28WhwaiOWbvkaUJO9YV1GtkpVom9Jmr7pZYZYqm++JmeeWy2jrRMcc3szGpd/OwZPTb7CKPWzRT0tNvNL4ZagzLBxZMQ7yOAAALBEfBPcPFqupijoWZdWTFY8W3+pf8yz8KBwncEwlbAu+BSrTMfPWYPLjFKn7hH9SeJSebbP2tW37Zq1WOcNl1qqT9wlOu37PuU0CvEg0v5b8q+L0G9CC5+/zdTvO55govfVTkgAggg4LuAn4KLVLQ5UykpTZku5qh0pX7Lvld3vrChgSkijm35jgACoS7gU3CZ5Ca4lBxR7uAUxaWP0pozlS3W/PIj8/RookGmkA4u5Toy71ElGkwElwCcGSXrRxBcAuDKIRFAAAFfBfwWXFS02YvVxap15YcZeqTHCK0+G9JzMXz1ZX8EokbAr8Gl9LiWP9tJppQhWnqs5W6Cq760SeN6xFtvzA7d4FKtS5vGqUe8ZZETgksg/oERXAKhyjERQAAB3wX8F1xUpM1NWV2sukC7PxiqBx95XWv+bLkLEt+pOAICCDQk4LfgUnrMFlraD9Dc/MKGiqz9rOqEvsl5TzNnzqz9mr1GB0ucNjn+lT54z+nzmbOUu/OifTnlMp3fPU/P3RVXs9JZTOoAZWXbt5+1TN8XOKaqVer6Hzu0IjtTA+9J0p2v7qh7f071LZ36YbVysp7W/SnJGr2pTFKlLu1ZovGD71Wndq2UkJSu3sPf0pojt7y7sb7svHbPe053xdlXZjTEKHVAlrLt7Z615HN9+oEvDnav8ss6uGmx3hz1qNLb3aeZh2wjXkV/bdQHLz6irskJim/bWX1Hf6Sfrja8gkHxqe1amPWMenftoDbxJsW1TlbXPsOUtXCbThXX9o+nV83f36wbh9ZqZuYT6pWerMS4WMXGt1Vq90c0fPIy7bnkeRSP4OKpN3gfAQQQCK6AH4OLfbpYY6uLVZ/Vvh1HdI2BluD2PKUj4GcBvwSX4sNa/HRHmdr2UcQ0UrcAACAASURBVPYeL5/zVFWigvzlGpEWYwsfcUP0eZ2lyqpUcuWEts94WK2tq5nFqttbB2S9fC0/onWWC/7syRqSbtvfXXCpPLZaU14crHuTTfaAY1SHmuBSpT/XvaXMwRlqb3IEi7YavfGW/vh0mDrZn/tiXf7ZsbJi6wc1bdfVJoeX8iPrrOEre/IQpcdYynAJLsu+V0GFDw4q1oFlWRr5+D1qZz2+QYbYnso+VKq/897QQ85LWFvbYFTSE0t00u3v8yqdy8vS/W2MiuvyL338wxndKivSxV+/0OsPtK4JiDUexiSN2uB8w6Mv+1fo5KqRSo8zqFXGK/ritwKVlBer4OA6Tezd1rqypSl9jPI8LBtHcPHzLwcOhwACCPhJwK/BxbvpYn5qAYdBAIGQEPA1uJTfzteHT3ZQTMJ9mrTjnyZfzNdtfLl2Zd1pW3K9XnCxbWku+ESDrCMWTsHFcZDq81o8wBZKGpoqVvbTVN1tvbB3Di6Og1Tqr3mOFdPaaNjU8erda7Q+/u6ErpUU658jecoelFqzFLQxdaTWFzQ8auE4suN79fnFGmANR56mivnooNvanNnB5hiboddzxqn3AyOV802+zt0sUeG57/XBwPa2z2PSlLW7/uh5xe9z1TfREny6acpep6EvSdVnPtGT9hDUqneOjroJPr7sX31uuZ5sbQl2CRq+zjkMSRUHs9XTGiJN6jPvhNsV2QgujjON7wgggEBoCfg3uDR1ulhoGVAbBBDwg4AvwaVz5jzN7G97xlNcz8naXWekxJvKVWjf1K62UOAhuOjmag213h/S/OBivrJCg63hx11wkco2vmh/0K5RifdP1LeXHdPM7G0pOqDsB1vZRx1i1WPGr25XVfPU8saDi48OqtbJ+X3tq76Z1PHpXB1ymbVX8cub6mYNALHqmX3QNnJVU+FCbc5MtgYbY8cs7a631rVlarHtc0Nsd711wHXalm/7l2/JVJJ1RKi1XsizTNVz+q9sq8a0tzz81Kg7xm6vO83PvhnBxcmLlwgggEAICfg5uEiFltXFUsdoa1EItZKqIIBAwAWaH1yMatM5XXc4piYZjGrb5x392Kzw4uMFexNHXFS8TsOt4cdDcKm5cG6jF/Lqj0ZYOuP2tpfV0WibUhZz9zTtd7cetIdea4ngcn7xAFtwsU4Vcw0Wkkq+1kjrqIYlAGyrGwAq8/VOj1hrMIvtma2D9XY36+LSgYqzhot4Dfuy7qiIfNzfXPCNXu3RTm27ZWr9BZfQWLFHk+zTARNGbpBLrLGKE1w8nHi8jQACCARZwO/BRYX21cVILkHuWopHoGUFmh9cLM9x2a4DHz2lFJ/DSwsFl7INGplgCR2NBZe29pvz3fRF6U693tHyl3+DDKYBWuJ6ge1mF8dbgQ8uZl1aZg8WnoJL+S5l2eufOOqbugHAEjwybMElpvME/egmlBWvG25bctjQSs+tcRNcfNnfAeX8veKy8tfnaGz/dCXYA2P8iP/KXawkuDjD8RoBBBAIHQH/BxdZhvhTlDpmqxh0CZ2OpiYIBFrAp+BifY5LsQ7nDq4TXtr1fdfLkZeWCi5f+x5czFf1nyG2pZcNsT309q/1hiU8dllLBJeCTwbZRkQ8BZeKH/SGfSGEhJFf1w0uKtTGl+xTwUyPauEZl1EPmXXJcXzTg5pzzPUmF1/3d6IrPq1vF72m/ukp6j5kspZtX6VX7SMu8SPWq+7dN7b9CC5OfrxEAAEEQkggAMGF6WIh1L9UBYEWE/A9uFiqWqzfFw/RnU4jL5bwsud6U29eD6PgonLteM1+A3xMV031Yq5Y6AcXqfzgbPW2jkqZlDF9v+qsfGwu0Opnk2Q0GJU8/EtddM018n1/qVSn8t7SoLQEJfcZr8/zr9puxK/Yq8kElxb7vUBBCCCAgD8FAhJcmC7mzy7iWAiEh4B/goulrSU6svQZl/CS3cTwEk7BpUJ7Jna2LSTgdtTBc7+HQ3CxPLvGuoRyklEGU7qenb9Tp26Wq+zqcW3MflzJRqOS+s7QriueQqkP+5tvaO+sx9TeGKNOwz/XX843shBcPJ9YfIIAAgiEuEBgggvTxUK826keAv4X8F9wsdStRMc+GaaONc8+Mapd36aElwrtb4FVxVTmh6liKte3r9inU7X5l/7rsmpXQz3UlODik4PM8m2qmL325hva82Zv3d3nKfXrkao2cbYHUN7d51m9kfudzrq7wcS54c3a36wreaPV0TJq13aYVrkuNU1wcRbmNQIIIBBWAgEKLo7pYmNZXSysTgcqi0DzBfwbXCz1KNXx5c86PbjRqHYPNxZeKvXr2z0Ua7nhPe5JfebuAYNOyyHfM/2Xusv4NnVVsSYHl9b6t+tyvA5ic4GWPxlnvTm/1ROfuJ0u5djU9XvjwcVHB78ElxIdWvC4Ovaepd8aCyiuDbT+3Mz9zQX67CnbUtOmvvN10nUaGsHFrTZvIoAAAuEgELDg4pguNpbVxcLhPKCOCPgs4G1wOb3gYftzQmLUecKPHp5jUqo/VjyvNOeRlwbDi9PzR0y9NNvNkw0LD8xQL+vDG2OUPnlv3XLNF7V0oC1MuF/G187U5OASr2Grb7m3vb1Ro5ONMhiT9PyXl7164Kb54lINtD9Es/4zVCzF+ejgh+BSuv8tZZhMeijnuNuHPLpHqX232ftXHlS2fUWy2G5vqt4jYsprFxWIf26N3A10cXN+bT/wCgEEEAglgcAFF8d0sbGsLhZKHU5dEAiUgHfBpVL572bYRkYMRiVlbq37HJA6lSzV0UWPK8m+hK1lCeI2D7yhvLP1nmpo3atkc6baW7c16YGZvzmtGlWmM5vf1OB+9yndGoSMap+5xWU53FtaPdS+0le7EVpnXxSg+tL32rDncm2titbqeetzXAxKytzisqKWVFbzHJcYpWftrntjuvUo1Tq/YojaGQ1K6DNHh903pbY811e3HA/RNKjdiHWyVbNal77foD32USbfHKr1d25/+3NcMvRuvpsVzyp2K6uTbTnn+OfXuqwiWa4d41KsD6CM6dBH/57yrmbOnFn/673ZWvCf7Tp+3XVVMR/2rz6n3P4m2zLTMWka/fWlmuBUdfknLXy+i+Lt51LcE8tlmUlWWXBCp27W3mtza/VQ21LNxmS9vN3bznHtLH5GAAEEEPCXQACDC9PF/NVJHAeBcBDwKrhU/qUFjzmeHG9QbI+p2uvuT9/2hpsvf6onrSMMtgc2Wp59EpP8iCb852cVON94bdn+1haNdTwfxdha3Qe/oinTJuiF/nepw/0Tte3EKg21hw5j6hB98PVWbcj7Wf9Yr1stU6y62wNVrDr0fUkTs0bp0e4D9eHx2ov3ioPZ6mkfBTI9ukiuq/3WBheDDK3u1YTtBTUXz5YqFh9doqdTYhTbcag++9PNQ04a6/DKX/V2d9tzUgyxHdT3pYnKGvWoug/8UDXV9MmhRDtf72RbOMDYXi98fbNejcwFKzTEumqYQab7Z+n3Wh5ZbszPn9HDPqJW22fWZ9ZYHzpZ973YlIHK+fmW06iTL/tX6c95fezPiLFMGUxTv8yJmvLqEGV0uEvDPlyu8faHYxoSMzQ86yUNGjxT+2rOvwqnUB2nfh+fletss3oYvIEAAggg0CICAQ0uTBdrkT6kEARCQqDx4GLW1b2f6r23J2hUn9R6F7WJXQYpc8q7WrT9b6cLxWL9tnKaRvdNtYeJuhe8lgvhuA736slR47XioCPBmFWwbaJ6tbU/3NF6oWxS2lNztMeygpXTPS7t7hmozOwV2vHH9Zp7XapOr9CwVHsosOzbOkNj1562fl5dsEu5b43T4HsSbH/Rt3xubKMez2Rpxmf7avqhNrgkql/my3rgjmTd98yrmjrjbU166XF1STQp5dGJWn+iWTd/SKrS6RXDlFozhc6g1hljtfa0c3pojsMVndg6X9PG9FeaU1CMTe6tURPf0ZLvC1R5bocWzXhDw++zLGfs6I8E3f3Ua3ozd5cKHFf5xUe1YtTdtQGiZlvHPnW/x94zVfscXWiR9GX/4nzNfzzZFrzs5Zo6PqH3vrMEyEJtHZtqr7tRbR+coE3nLSM+Zl3f96nefn2w7rEHMsv5ZWzdQ0+Pm675287W9C8vEEAAAQSCIxDY4KISHVwzR7k7LwSndZSKAAItJtB4cGmxqlgLKr/0izYsX6h5C5brq5/OqdgxE6jssNbOXayvD1x0mSZWW7/Ky/n6eul8LVj2lX6+6P1Uodrg0lajN5Wp8uox7VizRPNzcjR/8Upt+vWCShz1qS3Wy1eVupz/tZbOX6BlX/0sT9X0xcHLCtXdvDBf8556TBN3XHUaSandxFxZqltXzun4/k3KHXu/Wpvu1czDTsHL1/0r/9Fvecs1P2eeFq/5Xqdu14KbC49r45IFyl2336NbbU15hQACCCAQKgIBDi6h0kzqgQACgRYIteAS6PY2dHzX4NLQthH5WeUprRjWSd0n7XFzf4+bFpds0ujke5V9yB5cfN3fTRG8hQACCCAQ/gIEl/DvQ1qAQEgIEFxquyG6g0uFjs57RImx6Zq0p2n371Sf/FCPdsnSdyUWQ1/3r+0HXiGAAAIIRJYAwSWy+pPWIBA0AYJLLX1UB5fSbRprWebZ0EoPvv2TnBbrqgVyemW+9atyHu+iJ5edsi1g4Ov+TsfmJQIIIIBAZAkQXCKrP2kNAkETILjU0pdtHK221pvCEzTyG+c7zmu3idhX5T9palfH4gbxSuv/quas3KZf/ryo6yWVMsusqtKbuvTnfm1cNk1P35Ose7O21N7U7+v+EQtLwxBAAAEECC6cAwgg4BcBgouDsVrnHM9AMZjUd/5Jp1XSHNtE9vfioyv16oPt66zq5XYp5NY9NHLRfl2rvW/eCuPr/pGtS+sQQACB6BUguERv39NyBPwqEPXBxXxD+1dka/KYJ3V3a6elmBO6aNDYKcr+Ir9pN6r7tVeCeLCqa/o9b5GmvvCEHuqaonYJJsXEmJR4R2f17D9cWTlrdaCggRXbfN0/iE2naAQQQACBwAgQXALjylERiDqBqA8uUdfjNBgBBBBAAIGWFSC4tKw3pSEQsQIEl4jtWhqGAAIIIIBASAgQXEKiG6gEAuEvQHAJ/z6kBQgggAACCISyAMEllHuHuiEQRgIElzDqLKqKAAIIIIBAGAoQXMKw06gyAqEoQHAJxV6hTggggAACCESOAMElcvqSliAQVAGCS1D5KRwBBBBAAIGIFyC4RHwX00AEWkaA4NIyzpSCAAIIIIBAtAoQXKK152k3An4WILj4GZTDIYAAAggggEAdAYJLHQ5+QACB5goQXJorx34IIIAAAggg0BQBgktTlNgGAQQaFSC4NErEBggggAACCCDggwDBxQc8dkUAgVoBgkutBa8QQAABBBBAwP8CBBf/m3JEBKJSgOASld1OoxFAAAEEEGgxAYJLi1FTEAKRLUBwiez+pXUIIIAAAggEW4DgEuweoHwEIkSA4BIhHUkzEEAAAQQQCFEBgkuIdgzVQiDcBAgu4dZj1BcBBBBAAIHwEiC4hFd/UVsEQlaA4BKyXUPFEEAAAQQQiAgBgktEdCONQCD4AgSX4PcBNUAAAQQQQCCSBQgukdy7tA2BFhQguLQgNkUhgAACCCAQhQIElyjsdJqMQCAECC6BUOWYCCCAAAIIIOAQILg4JPiOAAI+CRBcfOJjZwQQQAABBBBoRIDg0ggQHyOAQNMECC5Nc2IrBBBAAAEEEGieAMGleW7shQACLgIEFxcQfkQAAQQQQAABvwoQXPzKycEQiF4Bgkv09j0tRwABBBBAoCUECC4toUwZCESBAMElCjqZJiKAAAIIIBBEAbfBpby8vKZKxcXFOnnyJF8YcA5wDjR4Dhw9erTBz/k9wu9RzgHOAc4BzgHOAc4BX86BY8eO6fbt29ac8j+OtFJdXe14KcvrsrIyvjDgHOAcaPAcOH78uCx/6OD3Bb8vOQc4BzgHOAc4BzgHAnEOWEJPSUlJ3eBSk1p4gQACCDRRgKliTYRiMwQQQAABBBBoloDbqWLNOhI7IYBAVAsQXKK6+2k8AggggAACARcguAScmAIQiA4Bgkt09DOtRAABBBBAIFgCBJdgyVMuAhEmQHCJsA6lOQgggAACCISYAMElxDqE6iAQrgIEl3DtOeqNAAIIIIBAeAgQXMKjn6glAiEvQHAJ+S6igggggAACCIS1AMElrLuPyiMQOgIEl9DpC2qCAAIIIIBAJAoQXCKxV2kTAkEQILgEAZ0iEUAAAQQQiCIBgksUdTZNRSCQAgSXQOpybAQQQAABBBAguHAOIICAXwQILn5h5CAIIIAAAggg4EGA4OIBhrcRQMA7AYKLd15sjQACCCCAAALeCRBcvPNiawQQ8CBAcPEAw9sIIIAAAggg4BcB34NL8Ta9fGcHvbSpsJEKlenvHz7XgvlL9c3Bq6p22brqyq9a//E8ffzlXp0rd/mQHxFAIOQFGg8uZl3d+6lmZb+rd995R++4+Xo3e6YWbf+75vdD9aVdWjzT0/bvau6m06oKgkzF/mm6O8Ygg8EgU+8cHQ9GJYLQ7sAVWaGrR7Zp2dv/Vr/01ooxGGSIf1ZrGvvfSuAqxJERQAABBEJQwPfgomJte/lOdcjcJM//jzHr0poR6mC0/Y/eENdFL647V3NxorJ9erNHnPUiwGCIUYcnFulQaQhqUSUEEPAo0Hhwse1qLvtHh7+aqkeSjPZ/8wYZ4rpr9Kf7dK7ITQKouq4D7/VRvOVi1npBm6ZBkz/T7hNXVeb6FxCPtfPvB+arO/V2vzS1bXeXnszZp9v+PXz0Ha36sn7O+1rb8+boqWT7eUFwib7zgBYjgAACjQj4IbhIxdvGKrVDpjwPupRrV1ZHGR0XHgaDYtLGa3eZrXbmi0v1uMl+UWLdprWGrLjUSNX5GAEEQkmgqcHFVucK/Tihs+0v6waDEp5ZpWtmT62p1vmlA9XKYFB8139paf5NedzU0yG8fd98Uwe27dHlgBfkbcUifftifT2ytT2gMuIS6b1N+xBAAAFvBfwSXFS8TWNTOyjTc3JRyaHFer5HByXfdb8yOsbLYHpYC07Z/1xqvqxvp/dT2h0dlfFAV7U1GpXy2g5v28L2CCAQRAHvgkuV/prXRybrHyqM6pi1S55miFZfWKeRnWKV2GuSthe4GZEJQJurL3yqIY/O1pGWKS4ALQjXQzr9kYsRl3DtROqNAAIIBEzAP8FFRdo6NrWR6WK1bShaP0IJcQO19KKbP2dW/KQpd5mUPmlP7Q68QgCBkBfwLrhU68xHj9mDS4zSJ+5RhZsWmm//rFl926pVj3HadKml5oWVK//de9WqF8HFTZcE+K0K7ZmYzj0uAVbm8AgggEC4CvgpuEhFW8cqNSVTmz3f6GI3Muvi0seV0DNbhyrdsBVvVmZysl7Mu+XmQ95CAIFQFfApuExyE1xKflfu4A6KSx+lNWfc/bIIjETZ4Rw9nGiQieASGOAGj1qhvZMJLg0S8SECCCAQxQJ+Cy4q2qqxqSnKbCy5lORrZu+OGrbyfO3N+TUdUKUzywfrzt6zddDTvJGabXmBAAKhJODX4FJ6TJ8M7ShTyhAtOdZyK3VUXcjTK91sC4U0LbiYVV3tZuS4pmPMgb8fp6aslnxhVoPNbnZVCC7NpmNHBBBAIAoE/BdcLNPFxqQqJXOzx9XFqv7Zo5zB96jX+C0qqPf/+mL9sXqsemWM0qqT7iaNREFv0EQEwljAb8Gl5IiWWkJL+wGam9/oEK5NrOqEvp6TXXeZ5Zlf6LeSWtDKY+s1613nZZiztXC7Y3XDUv29I0fPdDbVrHQWk9Jfr82wb5+dq10FjqlqFbpyZJs+mfGi+ndpp9RXd9S9P6fqhk5897nef/UpZSQna/QmyyokFbrw/cd6/YkeSkk0Ka5NJ/V6Zoo+/+2Gb8Gm6C9tnveaBj+QrvYJJsXEtlJS+oMaMm6eNv15S5WVldavqqrqeuVUX8vX6nf+rQE905TUyiSj0aSE5K7qM+wN5X5/wc3UvVJdyv9GH00doT6d2ui+mYdkGQczF/6pb2aNUp/0JLWKb6f0hzO1aM8/bv4wVdsXUrFObpmvrCG91PmOBJliWyn5nv4aM3+71o1veMTF+3o7l8trBBBAAIFwFvBjcLFMFxvjebpY1XEtzfyX3l5zRLfqhRazruZN1YiJn+nAVcfFQTizUncEok/AL8Gl8KA+GpwqU7u+yt7r5UW9uVxXD63QyM4xtvARN0Sf11mqzKzyG6e1M/tRtbEuChCjrlP32S7QK47qq5wPNPv9aXo63bZ/zJ2D9Mb7szV79mzNnvOpfrxsVuWx1Zry4hDdn+JYvt2oDjXBpUp/rntLmUPuVXLNKoltNXrjTR1b9ow6xjqvnGh/nXCfJmy/XC9UNOXsqTy7Qa/1bC1j/N0atWSvzhdXquzyQa0Z/5DaOpaeNxgVExOjmFiTkv61TjfsBy7/6z8aYQlpCfdq3Jrfda2iWmVXjmjD1L5qZ9nX1FkvfV1QU6/iA8uUNXKguifZbQ2x6pl9SCVn8zT+gbZ1Voy0Llndpr8W/eFhel/lWX31Wk+1iU3R4zO+0uHLZaooPKM9n7yiXm1jFRdvD49ubs73tt5NcWQbBBBAAIHwEfBrcFHRFo2xThcrCh8BaooAAn4R8DW4lN/+VfMGJSsm8QFN/e5KzUWzd5VzWpWqXnCxHclc8ImeiLMEB6fg4iik+rwWD7BdODc0Vax8/zTdYw0izsHFcZAqnZz/sH3hgTYaNiVLvR/M1JIfTutmebmu/7FZs57sqFj78vDG5Of15UUv/2BTflhz+iTIYIhV96k/yWlgSao+q0+famcLE3G9NOugywh29d9a9kSiNdwljlhX9xk0lYc0895Y62em3nP1p8uqaoVbxijFGopilfF6jl7r86BemLtRBy8VqaL0kvbMGag7rJ8b1fG1HSp2kDi+m69r1+SeamVM1MM5B+vWW2Zd/vpFdbI/2LPeAyh9qLejeL4jgAACCIS3gH+Di4q0ZUyKdboY0SW8Twxqj4C3Ar4El86Z8zSzf3vrxbYpY6K+u1JvWLaJ1anQvqldbatSeQguurlaQ+N9Cy7mq//RYGv4cRdcpLKNL9pHdYxq3Wuydlx2CSbF+ZrV2xI8LPWIVbfpP9edbtZIaws3vaRkS0AwdlLWbpdgIqloS6b9gb8x6uIYVXIcs2yLMpNsIz6tX8iT/XFa9k/LtHWMrR8MSZnaUvdDVZ+cr7720SRTx2eUe9jlN33FL3qzmy34xHZ/W7+6DLrc2pmlu2INiuk6WXvc3bpUdUwfPOBhxMWHejuazncEEEAAgfAW8HNwsfwP0zZdbIvL/8/Cm4naI4BAYwLNDy5GtUlP1x2Ov7QbDGrTe7p2X21OeGmZ4KKS9RpuDT8egsuWTCVZQ0kbvZDn7gpdKtwxTmn2NsekT9be+vnDA3ml8t/pYRuxie2p7IMu6cBy38mlZRpoDVYGxT29UtedKc0F+ubVHmrXtpsy119wuRelQnsmOe4xGa51LkMm1ecXa4A1uNimitUvuaT2AZLtXtJm5+BT9ZcWPNLKPtK13809NJbmluu71++0jRa5ThXzod4eIHkbAQQQQCDMBPweXGqmi5FcwuxUoLoI+CbQ/OBieY7Ldh346Cml+BxeWii4lG3QyATLqEVjwaWt/eZ8N7Zlu5WVZr9nxNRPH591GZVxs4vtLUtwybAFl5g0TfjRTeIpXmcPVgbFP/NFzb0tHg+pchX8uk5zxvZXeoLRNhIU/5zWuKyNYAlEg6yByFNwcZqq12qEvnLKbFVH3tf91tDTSs+t8bTcvberijWt3p7bzScIIIAAAuEk4P/gYpkulmmZLrZFDLqE06lAXRHwTcCn4GJ9jkuxDucOUapP4aWlgsvXvgcX3dAXQy0jEAYZYu7WtP1uAoiHLincaJ8qZjDpkYVnXEZNbCMutoBhUq/3j8jlVhWnoxbp1PYFeuWxNHXoPkSTl23XqlcdIy7P1g8uBZ80Elwq9MMbafYHSI7Q+pqbb6p1Ycnjtvt+jB306g5P6903Nbh4V2+nBvMSAQQQQCCMBQIQXGzzq1NSxohBlzA+M6g6Al4K+B5cLAWW6MiSp3Vns8NLOAUXp9GJmHRN2tP04KKam/MNMvWYpp/q/JXIrILVzyrJaJAx+TmtvuB+JKf0VJ7eGpSmhOS+Gr8yX1et6abh4GBZ2KDhERdPwcXpuD4Gl+bU28tTmc0RQAABBEJUICDBxTJdLDMlVWNILiHa7VQLAf8L+Ce4WOpVoqPLhtZZPrjp97yEU3Cp0E9Tu9hGJ0z3adbvnsdF3PVW5bmNmtQ7STEGkzoPnaedp26qvOyqjm/M1uPJRhmT+uitnf+4WZ3NrBt7Z+mx9kbFpo3QqpPOox9OAcP1HhPLvTPNDi7l2vl6qn3ZZMtUsdvummR93s3eyZ5GfJpfbw+F8TYCCCCAQJgJBCa42KeLpY5huliYnQ9UF4FmC/gvuFiqUKrjnz6rNKdnnzQtvFRofwusKqYyf0wVK9fOcfaL+cThWuvptg+PPWLWjT1vqvfdfTW4Xw+ltomTKa61ku/uo2ff+Fg7zzrdYOJ0DPOVbzS6o+XemnZ6drXrM2QCFVwqdeDNbvYloGPV7c1frA+vdKqW/aXn8n2pd/1yeAcBBBBAIBwFAhRcpKLNmUpJZbpYOJ4U1BmB5gj4N7hYalCqP1YMV1rNwxybstpYpX59277iVtyT+uyy83Ja9lY5LYfcZcpPdVe3auJzXJoeXFrr33nOS2s5yZr/0YrB8dZ7XOIfX6xz7md0Oe1Q92XJwfka0LGPPjjkPqDU3drxk1kFnz2pVpb7akx9Nf+ka6Geg4PlCM0fcTHr+pfPKtG60ppBsT3e1q/OAz2O6sm5/GH6smZgxrd61xyeFwgggAACYS0QsOCi5zGogwAAIABJREFUos1MFwvrU4PKI+CdgLfB5fQCx0MaY9R5wo91A0RN0WU68fkIdW5yeKnWyfl9bTeBm3pp9lHX6Vdm3f75LfvqVjFKe+OHuuWaL2rpwDhrmIjtmS03Kw3batbkEZd4DV3tYSilcLMyOxhlMCZp2Be1T6mvaXpDL0r3660Mk0wP5ei4axMb2k+VOphtX5Es9h5N/8V1QeNyp5vrn9EXN+serPnBxbJgwAoNaW17foylzU8tO+Vm1MUpuNR5Do9v9a7bCn5CAAEEEAhXgcAFFxVqc2aKUsdsZXWxcD07qDcCXgh4F1wqlf+u/QLaYFRS5tYGHsBYpuO5T6q99YnstgvfxHtf14Yzbv9kr5LNmfZtTXpg5m9OT2cv1ZlN0/Tko/cp3T4Frd2/85w+tzT2llYPtY2CGNqN0Dr7A1CqL+7Whj2XazWK1up563NcDErK3OLyEEeprOY5LjHqnLWr/hPkVa3zK4ZYb6BP6D1bB903pbY8l1flO16zPcE+JlkPjZqsd2fO1Mx6X+9p9ocrtO3odadVxap1Lre/LdgZYpT2wn910RF8qi7rp4XPq0sr+3LIpgFafL5aqizQiVM3rDWo/jtX/e3Pccl4N99t8Nid1cn+HJahqpvZivTjpHvs08UMMsT30Ng1f9XxLzq2QqO62B9AaXpYC047RoR8q7cLHz8igAACCISpQACDi1RonS42VlvrrHgTplJUGwEEGhTwKrhU/qUFj9mXAjZYpg5N0Z6aaUH1i7E8qX6I/YGKtqfNGxST3EdZK/bpkutMrFtbNLaj/eLb2FrdB7+iKdMm6IX+d6nD/RO17cQqDbWHDmPyk5q1YZu+/mafCqzXyJapZt1r7sXo0PclTcwapUe6D9SCP2pHJyp+e1cZ9vBjemSBaq6v7VWvDS4GGVrdqwnbC5zCg1R8JFdDOhgV23GoPv3Ty9QiqTL/XWU4jUI5TNx+j01Wv1l7dMM+a67qxHw93Mo+8mGIU9pjL2nilFc1JKODujy3SCsm2KfaGRLU47ksvTTwSb1j75ySHePUybrim1HtR22o/3wYc4FWDE6wLfEcm6F38l1WSru9X+8/3M5+k76lDglK7/+C3pj+pia88JjS0/rpuQEpNTfx93r9c23ZuFY7TlTIl3rXP6N4BwEEEEAgHAUCGlxkmQqRkqqxJJdwPDeoMwJeCTQeXMy6uvdTvff2BI3qk2r/q7/jAtqghLse10tT3tWi7X87PZekVIe+mK6XHrmz3vaOi3RTck89MTJLnxxwPObdrIJtE9WrrT28WO+rMCntqTnac8Us1dzjEqu2dw9Q5ruf6tvj12pGD6pOr9Cw1Fjbxbdl39YZGrv2jPXz6oJdyn1rnJ66235xbvnc2Fo9nsnSjM/21XjVBpdE9cscqwfuSNZ9z7yqqTPe0sTRA3RXokkpj03U+r+8uT+l5vDWldeOr3xB99gDmMPC4/eYuzTxR0dZJTq48Al1cFpy2mC6U4Pe+04FVVLh1rFKtY9uGdv00vi8cyo7s1Xzp41R/zTbNDprOZbRnpETNGPx9yqoPKcdi2bojeH3WUeRHPVI6PqkXp3+kXZedIycSOabB7R4VA+1dhpBs2zfOuNFLT94VXscq4q1ulO9n5+khRsO6KK16t7XuzZqOtvxGgEEEEAgXAUCG1xUooNr5ih354Vw9aHeCCDQRIHGg0sTD+Snzcov/aINyxdq3oLl+uqncyp23Kdfdlhr5y7Whl8uqMTxnkuZlZfz9fXS+Vqw7Cv9fNH7EZHa4NJWozeVqeLKEX27erHm5+Ro/uKV2vzrRY9lu1TFw49F+m3+U3r0jR2yZLF6/1VXqPjmZZ09tk+bFr+iB9qY1OMd56ldlbpyME/L5+do3uI12n3yVm1YNBfq+MYlWpC7Vvua0fZ6dXH7RqWuHduhL5d8qJx5uVq17XddsQ7OVOvct7lasPI7nbjhmMPmfIBg19u5LrxGAAEEEGhpgQAHl5ZuDuUhgECwBEItuATLwVKua3Dxb10qdXrl80rrNlE/NGkabqm2jklRxgzn4OLfGnE0BBBAAAEEWkKA4NISypSBQBQIEFxqOzmQwaXi2Id6rHWs0iftqbsiWm3xdV9Vn9Gi/ul69VvHVLq6H/MTAggggAAC4SJAcAmXnqKeCIS4AMGltoMCF1xKtf3lDtab11s99I7233I3T6y2HjLfVv7cgbprYK5OuJt55bQpLxFAAAEEEAh1AYJLqPcQ9UMgTAQILrUdVbZxtNpaFwVI0MhvXJc9q93O+1fl+mlq15olhVt1HqBxOau0/cAJXbxeokqzZK4q1c1Lf2r/xmWa9sw9Ss4Yp41ON8d7XyZ7IIAAAgggEBoCBJfQ6AdqgUDYCxBcHF1YrfOLB9hXQTOp74enam98d2ziy/eiI1ox5n4lOa8KZg1JtSu02Vb1SlT3EQv005XaFb18KZZ9EUAAAQQQCLYAwSXYPUD5CESIQNQHF/MN7V+RrSkvP6VubZyWYk68R0++MlXZX+S7eRBlczu/SlcPfaOFk0dp0INdldIuQaaYGJkS71Dnnv01PCtHaw8UNPBQz+aWy34IIIAAAggET4DgEjx7SkYgogSiPrhEVG/SGAQQQAABBEJPgOASen1CjRAISwGCS1h2G5VGAAEEEEAgbAQILmHTVVQUgdAWILiEdv9QOwQQQAABBMJdgOAS7j1I/REIEQGCS4h0BNVAAAEEEEAgQgUILhHasTQLgZYWILi0tDjlIYAAAgggEF0CBJfo6m9ai0DABAguAaPlwAgggAACCCAgieDCaYAAAn4RILj4hZGDIIAAAggggIAHAYKLBxjeRgAB7wQILt55sTUCCCCAAAIIeCdAcPHOi60RQMCDAMHFAwxvI4AAAggggIBfBAgufmHkIAggQHDhHEAAAQQQQACBQAoQXAKpy7ERiCIBgksUdTZNRQABBBBAIAgCBJcgoFMkApEoQHCJxF6lTQgggAACCISOAMEldPqCmiAQ1gIEl7DuPiqPAAIIIIBAyAsQXEK+i6ggAuEhQHAJj36ilggggAACCISrAMElXHuOeiMQYgIElxDrEKqDAAIIIIBAhAkQXCKsQ2kOAsESILgES55yEUAAAQQQiA4Bgkt09DOtRCDgAgSXgBNTAAIIIIAAAlEtQHCJ6u6n8Qj4T4Dg4j9LjoQAAggggAAC9QUILvVNeAcBBJohQHBpBhq7IIAAAggggECTBQguTaZiQwQQaEiA4NKQDp8hgAACCCCAgK8CBBdfBdkfAQSsAgQXTgQEEEAAAQQQCKQAwSWQuhwbgSgSILhEUWfTVAQQQAABBIIgQHAJAjpFIhCJAgSXSOxV2oQAAggggEDoCBBcQqcvqAkCYS1AcAnr7qPyCCCAAAIIhLyA2+BSUVFRU/HS0lKdO3eOLww4BzgHGjwHjh49qr///rvBbfhdwu9SzgHOAc4BzgHOAc6B5p4Dx48fV1FRkTWn/I8jrVRXVzte6v/+7/9UWFjIFwacA5wDDZ4Dll8mN2/ebHAbfpfwu5RzgHOAc4BzgHOAc6C558Bff/2l4uLiusGlJrXwAgEEEGiiAFPFmgjFZggggAACCCDQLAG3U8WadSR2QgCBqBYguER199N4BBBAAAEEAi5AcAk4MQUgEB0CBJfo6GdaiQACCCCAQLAECC7BkqdcBCJMgOASYR1KcxBAAAEEEAgxAYJLiHUI1UEgXAUILuHac9QbAQQQQACB8BAguIRHP1FLBEJegOAS8l1EBRFAAAEEEAhrAYJLWHcflUcgdAQILqHTF9QEAQQQQACBSBQguERir9ImBIIgQHAJAjpFIoAAAgggEEUCBJco6myaikAgBQgugdTl2AgggAACCCBAcOEcQAABvwgQXPzCyEEQQAABBBBAwIMAwcUDDG8jgIB3AgQX77zYGgEEEEAAAQS8EyC4eOfF1ggg4EGA4OIBhrcRQAABBBBAwC8CPgeX6ou7tHTuOh0u9Ut9OAgCCISpAMElVDuuWoVn9mpd7mJtP1PdwpU0q+hssMpu4aZSHAIIIIBAwAV8Di4q2qLMlFSN2VIU8MpSAAIIhK6AP4OL+coajXzgDe0u8aG9xaf17UcTNPzRHup0R2sltL5Dne7upcdHTlDOf7brcEGRbubP0uOZ36isScVU6frx7Vr+7ssa1q+n0jskKTEhQUkd0nRPz74aPHqKclZs1oG/b6vwzAa98vDr+rbccuBqXdy1VHNmz9Zsj19ztPS7C1L1Re1aOqeB7WZr9pyl+u5C4wGkrCBfebnTNPLhzko0GmQw3qmsXdYKNam1vmxUfvmgNi2erlGPtHzZvtSbfRFAAAEEQlvA9+CiIm3JTFHqmC0iuoR2Z1M7BAIp4L/gUq3TH/VTK+MdGvnVdZmbUenSP79QZo8ExST11uuffKc//ylWWdFlnc7frI/HD1J6gkEGg+0rYeTXjQaX8nPfas6IDLWLMapdxvN685PNOnDqsgrLKlR667JO/rJJy6YNU4+2xprjGloN1zqnX4qVhee0f8XLutepbEPC/cpae1iXS52DSKUKz+3XipfvVYK9jpa6JtyfpbWHL6vOph5tKnVyxxp9s2W1JvZOsNWpxYJLlc7uXqsNW77UpBYv2yMIHyCAAAIIRICAH4KLVLQlUympY8SgSwScETQBgWYK+C24VORrRkas9WI74YllOud8Td+Eupn/2aSX7zLJkPCQsn8pdLOHWbcPLdGwNHsZDQaXahXseFN928fIYGyvR9/eoQuVbg5pf6v09NfK6pVoCwpxA7XskmvsKlbei0k14abtyK9029PhivP0YpIjYLXVyK88bunpCNbRnnO5/WWyBKAWCy6O6lTr74/7BalsRx34jgACCCAQSQJ+CS5MF4ukU4K2INA8AX8Fl8Ltr6ijZWqT5WLb9IA+OFrlRYXKtX/aPYo1GHXHi3meQ4Gkwp+mK8NkkOcRF7Ou7piojFaWusSp55Tvdd01h7ipWXVBnjLTY2QwPaScP1zrXqkDb3VTrHUkJVbd3zogjzmo8oDe6mYLV4bY7nrrgMct3dSi9q3CNc8pPijBRbr5xdCglV0rwCsEEEAAgUgR8E9wYbpYpJwPtAOBZgv8//bu/CmKM+ED+Pt39FwwIHiAGhaNB3grMWuIiW4wMSpBN7ygkpVsUGPUGFhXAY2xlhjXxKTUeBsSj4gmmlITXxkPVokHaikqpbIqYKEM1ND1fWtmuoeZppl7wgDfH6y5+nj687RDf+c5OijBRbyPrdNjHS0SgqDF4IUnPHblchS65f+w1Haxr8OI/HMdhwLrCmItdqb3QVQHLS6t1dswM87e9Us3dBFOOHX7cuxP9YmI2tIsvKAfio9OK8NGC87nj5CCix6jVlZAGW0cm2w5j/wRUnDRj8LKig6XdKyi9qRpzzuI7KTg0rhzJoOLWqXwPQpQgAIU8EsgSMEFeLo/C/Hx7C7mVy1wJQp0A4FgBBfLtU8xMUKL+EGJjvEdmrhMlD7xEqjpO8yWxpAYp25CtYduZvV7Z2OgWnARH+K7zAHQ2FpGjHh942142JRrAS2XUJSSgJwy5WB41+Ay2uvgMtr/4LIvw275h3cVA57tSmdwcT0z+IoCFKAABQIQCFpwwdP9nF0sgIrgqhTo6gKBBxczTi8dDp1+LP752w+YN0Ae6B6NtM33vBukb/4JuQOl9TRxSPv8IhrdwLZWb0BaZvvB+ZZLRRivl7qrGdPwdY0XfcRc9tOK2xvSkLlbOS0ag4sLE19QgAIUoAAFfBAIXnDBU+z3YnYx8fF57CjIwpQxiegXZYBOF4GY/sPx8qxF2HjinvuuHT4cGBelAAX+WIGAg0v9AWT31yL6jc2429qMM8uTpC5VAgwpxbjsVU+px9g3p6/UUmIdkN4HKYv2oUqZH2Qay1UcOPC7oruWdRzKcMe+9S+txTWfmlvsG2+tOYGjF5Q7DoPgIjagcu8/MOflIegXFYno+CRMnrsGh295mBS66TZ++nwh0icOQ//YSBiMvZEwairmFe/HtQ660bHFRT7R+EgBClCAAsEQCGJwkbqLuZldrPnaFmQkGiBEJmP+1rOoeWZGY8057MybgBjrYFx9IrJL73v3y2owjp7boAAFgiYQWHARUfN1GnpprfeEss+e1Vr1Gf4cIbV66Ibho9PKblfqRTdfKMJLUdJ6tq5eGkQnz8a6Y3fRrL6K67uWShSO00vjbDSIf68M3u3ZdTPqrzo5uJRVoTR3FHrJkx/YfOxWmr6pKDxdp/r923L7e7w/9gWMzfkSJ27U4Xn9HZzZ/iFS47QQBA1ixi/GYZVWKQYX9bOA71KAAhSggH8CQQ0ubruLtd7GpqnRtosB46ydrrP9NJ9zDELVp6zBFa9+WfXvgLkWBSgQGoGAgovlMopTDNAlLUe5nBLE+9j2tjxQX4MB8w5CbXLj9kfTghs73sWLBufwYm19iUHyO0U4dEPZCqLYQv0OzHLca0WPcYWXFC0yiuV9etmZwSUWYyaOx8gZK7GnvBr1z+pRfWY7lqTGOVqXtAP/ir2KACI+/gkLk4x48b1DqFX0mKv/ZSGG6azOGvSZthm3FC1TDC4+nRxcmAIUoAAFPAgEN7i46y5mPoAs6Z4E0XNKFbMENeFgdh9b9w5N37n4Ub5w8VB4fkwBCoSPQCDBpenUhxiii0RqyQ2XQfANP+ZgoFYKILFvY+t9xZVzh4dvQc2xQkxLjHCaoUzajnEwpuWX4loHg18sV9cgRR7fIujx6oY7LmXqcJdefdCJwUWIxOjFR/FAES7QeB7Fk3pJTjokLS93aplqwumlSdBHvoYv1G6oY6nAylFS65RtymbXNi0GF69OCi5EAQpQgAJeCgQ5uAAN1tnF+mfjoLLPs1iD73KSEBszDFm7lBcCzTixMBFaa7cFYwb2euhq7eWxcTEKUOAPFPA/uDxBaWYctH0zsEv5k35zOT5OkqYEFiIwaf11n0KEWFeBbXmvoL8jiLS1whiHpWPdyYftttdyvgAjba0I1mUNmPpVMLuvdmJwcTOrmPlsvuOYtUOW4Dc5fzw9gOw4DfRjV+OSakt4A7bPiJRCjx4Tii67nHEMLi4cfEEBClCAAgEKBD24oEGaXaxdclEraTPum3ahaG4qEo3STEAR6dj9XG1ZvkcBCoSzgL/BpfXOV/hLlA6D8n5B+//6rahaP8k+pa4gQJf8CUzKW6N4RBHxpGI7lkz9k/1+Jk7jOoSIIcjcfsOphQGw/F6ECY6go0dqiY9TIbstT3gGF1gqUTReajkxvIYv7tpbtppP5CFRbvFydlN9rsGABUddjp7BxYWDLyhAAQpQIECB4AcXNEizix2EstGlrayNuH54Pd5LTUT88DQs2vgjtuRILS4R6djloQt623b4jAIUCBcB/4KLBZcKx0NvmICiStWf9CE++BYzpG6mgjYBC4500MfLI8RTXC0twJsvGl27jxlTUHShrX+q+GgL3oyUW2Z0SFphCuJsh2EaXGDG4fn97LOx6ZLxyVlrOhRx/6upMAgC9JM34I6yi5lHb97HxQsiLkIBClCAAj4IhCC4uOkuBuB5VSmWvZ4AY78UvP+NCbW2a5VmnFzE4OJDvXFRCoSdgF/B5fkJLBxsnZlKDgqeHjXonb6z3SBxnzCeXsbO3LFOM2tp0CdjDx7Jw2daTFiRLHdPExA1cwe8vf+l53KEa3BpQbk8/bQuCcvLrcHFgivFKdBbg8uolahQz5VuD5ktLm55+CEFKEABCvgoEJLgot5dTMTjkysxqY8G2hdm4ZurzgNZGFx8rDcuToGwE/A9uIh4tG8O+umH4sNTzt8H7Q+tpWIlxsjdt4yTseFmBz//W67g03c/bhuj0X5T9nfEWpTlDrNdlFtDk6ZvNg46imDGLx9IP6RYPxv4N5QFrRU4fIOLaYV03xz9RHxaZfW14Npae3ARomdhhx/pjcGloxOQ71OAAhSggD8CoQkuKt3FxIelyBxo/WU1BtO31CjuFcDg4k/lcR0KhJOAz8Gl9TY2TolC5KT1sF0nuzuY1jv4cmqUYxD46JUV6t23LFdQPGkKStRmwFJsX6zdgfTe0tg6Qxq+dpoYoNm0AsnyAH1Nf2Tvr1Os7e/LcA0uZvyUO9A+s2PcfByWQtzjrW/axwVp+iBj9yPF97bCoOUGTOdqXd5kcHHh4AsKUIACFAhQIETBRe4uNleaXUxEzVd/sf8B1L+Ete1uQ83gEmA9cnUKdLqAr8HF1opi6IuMXbXuL4ilI6v7IQvx0o0TtYkf4Hj7kfyANbikxCLta+WPIyo8rXew4VVpQHrvTPzgvD2xBtvTpTEfggDjxGJckmfaUtmU2lstN3ZgefEvio/CNLiId7HxNYPtfiz9Mr933GfLeYa1iHEFMDkbuRyZiP9+l423111zeZfBxYWDLyhAAQpQIECBkAUXubvYXNvsYi04l59sv8mZbhiWnlFOC2TG8b8n2KdDjpiB7d7dZS7AQ+fqFKBAMAV8Cy5PcWRBAvQdBRC1gplPYpE8HkbTQeCxBRc9IlKKUan8mlFu0/I7iibYg0uv6VuhvEVM662tmBEvtcgIRkxYcQpP5HEwym0pXrfWHMSi9CU44hg4Iy/QAtMK6btQ0GFkwQX1liPr4s5jbXQjUXDB0wHJ+3B9bNqXAaN1DJGb6ZDFB1vxVrQAQT8S+aa2iQrQYr05sBTuBAOGZO3GTZViiA9/xILkV7D2qutAGAYX17rgKwpQgAIUCEwgdMFF7i421zq7WCtul6RK/cm1SMjch3vy3zfLfZz6bCYGR8hdNqZgk/XOzS01uFLlR6fqwDy4NgUo4KeAL8Gl9cbnmBylRcL7x+F0mexhz2Ycy5V+4BAEGMavRoWyFUQKLoImBhP/eRp1boJG09kC+7gZwwgs+1VtEIuIR8eWYpz1gt524d8bKXl7cE1tUUfJRdSd/xLvTkzDuvNqC5rxs9QlSxC0GLT4pMtUzI7NWJ+Yf0buQOl7UTsIi08qD9Zl6Q5ftAWXeOSUOQbyOC3fBFP+GBgEI8YsP+VobbEvIKJmxzuIk1q6BEGHuJdz8UXZRdQ0mNHccA/n96/FnOQYJOYcwmOFd922t+xTWWv6YR7vLOxkzqcUoAAFKOCPQAiDi2t3McvlNUiJkGcMMiDhlSzkLc5BWnIcBk3/FJvelwaGClFInpWL/339DRT8yqYXfyqV61CgMwS8Di7mq9iUZu2GpUVi7lF4/7/8OU4sHGxvmbXNQtYLf15Vjnrni2U5uNiCRgzGzPs3Tt5t37+p8fK3yBpmgKAbgGlfXFS5f4wsKOK/p4qRliC3OgiITEjF/MItKDNdx4MGMywWMxoeXIepbAtWz5uEwcNnoMRUr9797bkJ+aPbtqWfsBoValnCOgOjKR+j5QkJBD0mrK5AB4vKhVV9NB/MRh8peEQMnY1/mx47la0ZN/fOw/CIXhidW4pq+Qcl5y2JD3A4bxSibObyd7jro3Hkh/hZmVrQDNMncuuSAa/862a7m30674bPKUABClCAAp4EQhpcXLuLNcK0djL6Od/MTD8QU/5xFDUWoOHgXPSX/rhqYsbhgx+qofY31NMB8XMKUKBzBDwGF7EOp/6VjSnDYtvChyYGQyfPRu7KUlzv8D+8BVf25GPBzHGIc1zIyxfOkUiY+A7+vumMPQBZg8vERLyWuwR5WdOQMigWen0/jJyagfkfLMXHy/Iw961x6G/QIjZpJlYdru64xcOJUXzyH+zKz8D4eOs4EHnfro/6PsmYvvRbnHuknPGsFXeOlKBgWS5mjelr7zLr2Ia1HGmYvyQfJWXVQOsdHCkpwLLcWRjTt21KZts+tbFISpuPJfklKKtW7sOpsO2eNuHW0fXISU1ElPU7Vt8XI9KysXDpEix4ayT6J76KvK0VrgFQuQ2xFqc+y0BStNx1Tj72CCRMLcCRGufyiHj065dYvuANDDXKywnQRCdh2t8+wtpDN5Vb52sKUIACFKCAVwKhDS54hnPbC1Fy5I5UmBY8OFuKTWuLsObz7ThW5fSrpNiAyu83YF3JTvx21/vOI14dJReiAAVCLuAxuIS8BNZ7Jtbi19LjuOe4jrag7qYJZbs2o2RNIVatLsb6jdtw8MwtNDiW8aFglnrcLC/D7s0lWFu0CqsK19i2t//k73gY9l9bFtTfLMehbzfis+JCFK/fhJ1HK1HrQw80y5NrOL5rE9YXF2FNyTfYb7rnprXKB1cuSgEKUIACFPBCIMTBxYsScBEKUKBbCIRFcOkWkjwIClCAAhSgAAXUBBhc1FT4HgUo4LMAg4vPZFyBAhSgAAUoQAEfBBhcfMDiohSgQMcCDC4d2/ATClCAAhSgAAUCF2BwCdyQW6AABQAwuPA0oAAFKEABClAglAIMLqHU5bYp0IMEGFx6UGXzUClAAQpQgAKdIMDg0gno3CUFuqMAg0t3rFUeEwUoQAEKUCB8BBhcwqcuWBIKdGkBBpcuXX0sPAUoQAEKUCDsBRhcwr6KWEAKdA0BBpeuUU8sJQUoQAEKUKCrCjC4dNWaY7kpEGYCDC5hViEsDgUoQAEKUKCbCTC4dLMK5eFQoLMEGFw6S577pQAFKEABCvQMAQaXnlHPPEoKhFyAwSXkxNwBBShAAQpQoEcLMLj06OrnwVMgeAIMLsGz5JYoQAEKUIACFGgvwODS3oTvUIACfggwuPiBxlUoQAEKUIACFPBagMHFayouSAEKuBNgcHGnw88oQAEKUIACFAhUgMElUEGuTwEK2AQYXHgiUIACFKAABSgQSgEGl1DqctsU6EECDC49qLJ5qBSgAAUoQIFOEGBw6QR07pIC3VGAwaU71iqPiQIUoAAFKBA+Agwu4VMXLAkFurQAg0uXrj4WngIUoAAFKBD2AgwuYV9FLCAFuoYAg0vXqCeWkgIUoAAFKNBVBRhcumrNsdwUCDMBBpcwqxA8cmqsAAABgUlEQVQWhwIUoAAFKNDNBBhculmF8nAo0FkCDC6dJc/9UoACFKAABXqGAINLz6hnHiUFQi7A4BJyYu6AAhSgAAUo0KMFGFx6dPXz4CkQPAEGl+BZcksUoAAFKEABCrQXYHBpb8J3KEABPwQYXPxA4yoUoAAFKEABCngtwODiNRUXpAAF3AkwuLjT4WcUoAAFKEABCgQqwOASqCDXpwAFbAIMLjwRKEABClCAAhQIpQCDSyh1uW0K9CABBpceVNk8VApQgAIUoEAnCDC4dAI6d0mB7ijA4NIda5XHRAEKUIACFAgfAdXgIooiLBYL/9GA5wDPAa/PgcrKSpjNZq+X53cMv2N5DvAc4DnAc4DnAM8BX86BqqoqPHv2zJak/kfOU42NjbD+esp/NOA5wHPA23Pg4sWL/M7g9ybPAZ4DPAd4DvAc4DkQsnPAeq1RX1/vGlzkAMNHClCAAhSgAAUoQAEKUIAC4SbgaHEJt4KxPBSgAAUoQAEKUIACFKAABWSB/wfqKSqNCpxc5AAAAABJRU5ErkJggg==)"
      ]
    },
    {
      "cell_type": "markdown",
      "metadata": {
        "id": "IuBhhgG6pk1u"
      },
      "source": [
        "![image.png](data:image/png;base64,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)"
      ]
    },
    {
      "cell_type": "code",
      "metadata": {
        "colab": {
          "base_uri": "https://localhost:8080/"
        },
        "id": "04EeOgfGps_W",
        "outputId": "786cf17b-b06a-418d-89f1-b2cdaddf1880"
      },
      "source": [
        "# Berikut ini adalah beberapa contohnya:\n",
        "\n",
        "# \\n = garis baru\n",
        "print(\"Ini adalah baris pertama\\nDan ini baris dua\")\n",
        "\n",
        "# bilangan hexadecimal\n",
        "print(\"Ini adalah \\x48\\x45\\x58\")"
      ],
      "execution_count": null,
      "outputs": [
        {
          "output_type": "stream",
          "name": "stdout",
          "text": [
            "Ini adalah baris pertama\n",
            "Dan ini baris dua\n",
            "Ini adalah HEX\n"
          ]
        }
      ]
    },
    {
      "cell_type": "markdown",
      "metadata": {
        "id": "uWTFkGXNqIx-"
      },
      "source": [
        "### Raw String untuk Mengabaikan Karakter Escape"
      ]
    },
    {
      "cell_type": "markdown",
      "metadata": {
        "id": "mtSvg6A-qLgz"
      },
      "source": [
        "Kadang kala kita perlu untuk mengabaikan karakter escape yang ada\n",
        "dalam string. Kita bisa melakukannya dengan meletakkan huruf r atau\n",
        "R sebelum tanda kutip string."
      ]
    },
    {
      "cell_type": "code",
      "metadata": {
        "colab": {
          "base_uri": "https://localhost:8080/"
        },
        "id": "llhpVsr1qOB-",
        "outputId": "12fb1977-53c2-4e73-86d9-1da2190be811"
      },
      "source": [
        "print(\"This is \\x61 \\ngood example\")"
      ],
      "execution_count": null,
      "outputs": [
        {
          "output_type": "stream",
          "name": "stdout",
          "text": [
            "This is a \n",
            "good example\n"
          ]
        }
      ]
    },
    {
      "cell_type": "code",
      "metadata": {
        "colab": {
          "base_uri": "https://localhost:8080/"
        },
        "id": "RJiGFQ3RqWMq",
        "outputId": "fb812a5d-a7e4-454d-bd5f-2aef3f176d34"
      },
      "source": [
        "# huruf r sebelum kutip akan mengabaikan karakter escape dalam string\n",
        "print(r\"This is \\x61 \\ngood example\")"
      ],
      "execution_count": null,
      "outputs": [
        {
          "output_type": "stream",
          "name": "stdout",
          "text": [
            "This is \\x61 \\ngood example\n"
          ]
        }
      ]
    },
    {
      "cell_type": "markdown",
      "metadata": {
        "id": "Ypca51B8qhee"
      },
      "source": [
        "### Mengatur Format String"
      ]
    },
    {
      "cell_type": "markdown",
      "metadata": {
        "id": "tqERzInjqk1V"
      },
      "source": [
        "Ada dua cara melakukan format pada string.\n",
        "\n",
        "Pertama dengan menggunakan fungsi format(), dan\n",
        "\n",
        "kedua dengan menggunakan cara lama (menggunakan %)."
      ]
    },
    {
      "cell_type": "markdown",
      "metadata": {
        "id": "WsNpuApuqpgZ"
      },
      "source": [
        "fungsi **format()**"
      ]
    },
    {
      "cell_type": "markdown",
      "metadata": {
        "id": "q_wjwIdkqzmm"
      },
      "source": [
        "Memformat string dengan fungsi format() dibuat dengan menggunakan tanda {} sebagai placeholder atau posisi substring yang akan digantikan.\n",
        "\n",
        "Kita biasa menggunakan argumen posisi atau kata kunci untuk menunjukkan urutan dari substring."
      ]
    },
    {
      "cell_type": "code",
      "metadata": {
        "colab": {
          "base_uri": "https://localhost:8080/"
        },
        "id": "sWBJaE3Cq3VB",
        "outputId": "f141a701-612d-48cb-fc8f-95b05a1b0e3d"
      },
      "source": [
        "# menggunakan posisi default/bawaan\n",
        "default_order =\"{}, {} dan {}\".format(\"Faruq\",\"Abdul\",\"Aziz\")\n",
        "print('\\n--- Urutan tampilan berdasarkan posisi---')\n",
        "print(default_order)"
      ],
      "execution_count": null,
      "outputs": [
        {
          "output_type": "stream",
          "name": "stdout",
          "text": [
            "\n",
            "--- Urutan tampilan berdasarkan posisi---\n",
            "Faruq, Abdul dan Aziz\n"
          ]
        }
      ]
    },
    {
      "cell_type": "markdown",
      "metadata": {
        "id": "pIuA-dtVrXRm"
      },
      "source": [
        "**Metode format() dapat memiliki spesifikasi format opsional.**"
      ]
    },
    {
      "cell_type": "markdown",
      "metadata": {
        "id": "teh6mLfprbdQ"
      },
      "source": [
        "Misalnya, kita bisa menggunakan tanda < untuk rata kiri, > untuk rata kanan, ^ untuk rata tengah, dan sebagainya"
      ]
    },
    {
      "cell_type": "code",
      "metadata": {
        "colab": {
          "base_uri": "https://localhost:8080/"
        },
        "id": "KYWGYc08rdcd",
        "outputId": "0581111f-a283-40b1-a865-09e660492096"
      },
      "source": [
        "# format integer\n",
        "print(\"{0} bila diubah jadi biner menjadi {0:b}\".format(12))"
      ],
      "execution_count": null,
      "outputs": [
        {
          "output_type": "stream",
          "name": "stdout",
          "text": [
            "12 bila diubah jadi biner menjadi 1100\n"
          ]
        }
      ]
    },
    {
      "cell_type": "code",
      "metadata": {
        "colab": {
          "base_uri": "https://localhost:8080/"
        },
        "id": "xu9lAeuJrsx2",
        "outputId": "e28fe912-8106-4864-f303-1efa75c0d2a8"
      },
      "source": [
        "# format float\n",
        "print(\"Format eksponensial: {0:e}\".format(1566.345))"
      ],
      "execution_count": null,
      "outputs": [
        {
          "output_type": "stream",
          "name": "stdout",
          "text": [
            "Format eksponensial: 1.566345e+03\n"
          ]
        }
      ]
    },
    {
      "cell_type": "code",
      "metadata": {
        "colab": {
          "base_uri": "https://localhost:8080/"
        },
        "id": "UtPZNBixr1gJ",
        "outputId": "ea798d70-d5fd-4538-cba2-3848d4376a31"
      },
      "source": [
        "# pembulatan\n",
        "print(\"Sepertiga sama dengan: {0:.3f}\".format(1/3))"
      ],
      "execution_count": null,
      "outputs": [
        {
          "output_type": "stream",
          "name": "stdout",
          "text": [
            "Sepertiga sama dengan: 0.333\n"
          ]
        }
      ]
    },
    {
      "cell_type": "code",
      "metadata": {
        "colab": {
          "base_uri": "https://localhost:8080/"
        },
        "id": "yKQ4QZ7yr5bB",
        "outputId": "98615fea-d277-4684-9478-8a4ad43443eb"
      },
      "source": [
        "# Meratakan string\n",
        "print(\"|{:<10}|{:^10}|{:>10}|\".format('beras', 'gula', 'garam'))"
      ],
      "execution_count": null,
      "outputs": [
        {
          "output_type": "stream",
          "name": "stdout",
          "text": [
            "|beras     |   gula   |     garam|\n"
          ]
        }
      ]
    },
    {
      "cell_type": "code",
      "metadata": {
        "colab": {
          "base_uri": "https://localhost:8080/"
        },
        "id": "tvcZ0QSssCA4",
        "outputId": "bf9b1434-0bef-4e70-89f9-12d9cd93bec8"
      },
      "source": [
        "x = 12.3456789\n",
        "print('Nilai x = %3.2f' %x)\n",
        "print('Nilai x = %3.4f' %x)"
      ],
      "execution_count": null,
      "outputs": [
        {
          "output_type": "stream",
          "name": "stdout",
          "text": [
            "Nilai x = 12.35\n",
            "Nilai x = 12.3457\n"
          ]
        }
      ]
    },
    {
      "cell_type": "markdown",
      "metadata": {
        "id": "zpucUqios73g"
      },
      "source": [
        "**Fungsi Bawaan String**"
      ]
    },
    {
      "cell_type": "markdown",
      "metadata": {
        "id": "-7e_mR0utSsd"
      },
      "source": [
        "String memiliki banyak fungsi bawaan. format() yang kita bahas di\n",
        "atas hanya salah satu darinya.\n",
        "\n",
        "Fungsi atau metode lainnya yang sering dipakai adalah join(), lower(), upper(), split(), startswith(), endswith(), replace() dan lain sebagainya."
      ]
    },
    {
      "cell_type": "code",
      "metadata": {
        "colab": {
          "base_uri": "https://localhost:8080/",
          "height": 35
        },
        "id": "1R7OAaIos-pv",
        "outputId": "2a1085f1-a33d-41c8-fb15-96f3a123e17a"
      },
      "source": [
        "\"Universitas Nusa Mandiri\".lower()"
      ],
      "execution_count": null,
      "outputs": [
        {
          "output_type": "execute_result",
          "data": {
            "application/vnd.google.colaboratory.intrinsic+json": {
              "type": "string"
            },
            "text/plain": [
              "'universitas nusa mandiri'"
            ]
          },
          "metadata": {},
          "execution_count": 41
        }
      ]
    },
    {
      "cell_type": "code",
      "metadata": {
        "colab": {
          "base_uri": "https://localhost:8080/",
          "height": 35
        },
        "id": "zbZGjtu0teYg",
        "outputId": "eb28904a-76b4-4695-88b0-24de9b7d951e"
      },
      "source": [
        "\" Universitas Nusa Mandiri \".upper()"
      ],
      "execution_count": null,
      "outputs": [
        {
          "output_type": "execute_result",
          "data": {
            "application/vnd.google.colaboratory.intrinsic+json": {
              "type": "string"
            },
            "text/plain": [
              "' UNIVERSITAS NUSA MANDIRI '"
            ]
          },
          "metadata": {},
          "execution_count": 42
        }
      ]
    },
    {
      "cell_type": "code",
      "metadata": {
        "colab": {
          "base_uri": "https://localhost:8080/"
        },
        "id": "eOTpoTSLtg5a",
        "outputId": "6a5ea360-8090-4a0c-8b26-76fb6944d313"
      },
      "source": [
        "\"Universitas Nusa Mandiri\".split()"
      ],
      "execution_count": null,
      "outputs": [
        {
          "output_type": "execute_result",
          "data": {
            "text/plain": [
              "['Universitas', 'Nusa', 'Mandiri']"
            ]
          },
          "metadata": {},
          "execution_count": 43
        }
      ]
    },
    {
      "cell_type": "code",
      "metadata": {
        "colab": {
          "base_uri": "https://localhost:8080/"
        },
        "id": "5MP4BztAtoQy",
        "outputId": "fdf68f58-fd13-455b-c33c-aff3ea4b515b"
      },
      "source": [
        "\"Universitas Nusa Mandiri\".startswith(\"U\")\n",
        "# apakah Universitas Nusa Mandiri dimulai dengan huruf U ?"
      ],
      "execution_count": null,
      "outputs": [
        {
          "output_type": "execute_result",
          "data": {
            "text/plain": [
              "True"
            ]
          },
          "metadata": {},
          "execution_count": 46
        }
      ]
    },
    {
      "cell_type": "code",
      "metadata": {
        "colab": {
          "base_uri": "https://localhost:8080/"
        },
        "id": "L0bQej98tzM5",
        "outputId": "a5595603-01cc-40ae-8aeb-5dcdb5a7585b"
      },
      "source": [
        "\"Universitas Nusa Mandiri\".endswith(\"iri\")\n",
        "# apakah Universitas Nusa Mandiri diakhiri dengan kata iri?"
      ],
      "execution_count": null,
      "outputs": [
        {
          "output_type": "execute_result",
          "data": {
            "text/plain": [
              "True"
            ]
          },
          "metadata": {},
          "execution_count": 49
        }
      ]
    },
    {
      "cell_type": "code",
      "metadata": {
        "colab": {
          "base_uri": "https://localhost:8080/",
          "height": 35
        },
        "id": "czT-Mt18t9DR",
        "outputId": "d810facc-b63e-4a2e-9eac-0b557b98390d"
      },
      "source": [
        "# gabungkan string\n",
        "' - '.join(['Universitas', 'Nusa', 'Mandiri'])"
      ],
      "execution_count": null,
      "outputs": [
        {
          "output_type": "execute_result",
          "data": {
            "application/vnd.google.colaboratory.intrinsic+json": {
              "type": "string"
            },
            "text/plain": [
              "'Universitas - Nusa - Mandiri'"
            ]
          },
          "metadata": {},
          "execution_count": 51
        }
      ]
    },
    {
      "cell_type": "code",
      "metadata": {
        "colab": {
          "base_uri": "https://localhost:8080/",
          "height": 35
        },
        "id": "V0b5k-uRuKOP",
        "outputId": "2fe651ba-688e-4ac9-92a6-8fa0aa0c0a9d"
      },
      "source": [
        "# menggantikan nilai di string\n",
        "\"STMIK Nusa Mandiri\".replace('STMIK', 'Universitas')\n",
        "# Apabila ada kata STMIK maka akan diganti menjadi Universitas"
      ],
      "execution_count": null,
      "outputs": [
        {
          "output_type": "execute_result",
          "data": {
            "application/vnd.google.colaboratory.intrinsic+json": {
              "type": "string"
            },
            "text/plain": [
              "'Universitas Nusa Mandiri'"
            ]
          },
          "metadata": {},
          "execution_count": 54
        }
      ]
    },
    {
      "cell_type": "markdown",
      "metadata": {
        "id": "uG3F3LuUuyCa"
      },
      "source": [
        "## Bilangan (Number)"
      ]
    },
    {
      "cell_type": "markdown",
      "metadata": {
        "id": "Ytw3TU4lu8T1"
      },
      "source": [
        "Bilangan (number) adalah salah satu tipe data dasar di\n",
        "Python. Python mendukung bilangan bulat (integer), bilangan\n",
        "pecahan (float), dan bilangan kompleks (complex).\n",
        "Masing – masing diwakili oleh kelas int, float, dan complex.\n",
        "\n",
        "Integer adalah bilangan bulat, yaitu bilangan yang tidak mempunyai koma.\n",
        "\n",
        "Contohnya 1, 2, 100, -30, -5, 99999, dan lain sebagainya. Panjang\n",
        "integer di python tidak dibatasi jumlah digitnya. Selama memori\n",
        "masih cukup, maka sepanjang itulah jumlah digit yang akan\n",
        "ditampilkan.\n",
        "\n",
        "Float adalah bilangan pecahan atau bilangan berkoma.\n",
        "\n",
        "Contohnya adalah 5.5, 3.9, 72.8, -1.5, -0.7878999, dan lain\n",
        "sebagainya. Panjang angka di belakang koma untuk float ini\n",
        "adalah 15 digit. Bilangan kompleks (complex) adalah bilangan\n",
        "yang terdiri dari dua bagian, yaitu bagian yang real dan bagian\n",
        "yang imajiner. Contohnya adalah 3 + 2j, 9 – 5j, dll."
      ]
    },
    {
      "cell_type": "markdown",
      "metadata": {
        "id": "43XJuefTvMby"
      },
      "source": [
        "### Konversi Jenis Bilangan\n",
        "\n",
        "Kita bisa mengubah jenis bilangan dari int ke float, atau sebaliknya.\n",
        "Mengubah bilangan integer ke float bisa menggunakan\n",
        "fungsi `int(num)` dimana num adalah bilangan float."
      ]
    },
    {
      "cell_type": "code",
      "metadata": {
        "colab": {
          "base_uri": "https://localhost:8080/"
        },
        "id": "1DWzhtLuvcCJ",
        "outputId": "00d4b877-aac9-4697-d56a-d15960ec7020"
      },
      "source": [
        "print(int(2.5))"
      ],
      "execution_count": null,
      "outputs": [
        {
          "output_type": "stream",
          "name": "stdout",
          "text": [
            "2\n"
          ]
        }
      ]
    },
    {
      "cell_type": "code",
      "metadata": {
        "colab": {
          "base_uri": "https://localhost:8080/"
        },
        "id": "xCgfvXydvgqc",
        "outputId": "41a501c2-9883-4000-c772-23ae2b6990e9"
      },
      "source": [
        "print(int(3.8))"
      ],
      "execution_count": null,
      "outputs": [
        {
          "output_type": "stream",
          "name": "stdout",
          "text": [
            "3\n"
          ]
        }
      ]
    },
    {
      "cell_type": "code",
      "metadata": {
        "colab": {
          "base_uri": "https://localhost:8080/"
        },
        "id": "rb0cRXMZvnqD",
        "outputId": "623f4ec3-f7bb-43ad-81e5-48393d0102e7"
      },
      "source": [
        "print(float(5))"
      ],
      "execution_count": null,
      "outputs": [
        {
          "output_type": "stream",
          "name": "stdout",
          "text": [
            "5.0\n"
          ]
        }
      ]
    },
    {
      "cell_type": "markdown",
      "metadata": {
        "id": "hlisAhMmvr-1"
      },
      "source": [
        "**Note**: Pada saat kita mengubah float ke integer, bilangan dibulatkan ke\n",
        "bawah. Sebaliknya saat kita mengubah integer ke float, maka\n",
        "bilangan bulat akan menjadi bilangan berkoma."
      ]
    },
    {
      "cell_type": "markdown",
      "metadata": {
        "id": "JmkRoP7gvw2Z"
      },
      "source": [
        "### Bilangan Desimal\n",
        "\n",
        "Ada kalanya perhitungan menggunakan float di Python membuat kita\n",
        "terkejut. Kita tahu bahwa 1.1 ditambah 2.2 hasilnya adalah 3.3. Tapi\n",
        "pada saat kita lakukan dengan Python, maka hasilnya berbeda."
      ]
    },
    {
      "cell_type": "code",
      "metadata": {
        "colab": {
          "base_uri": "https://localhost:8080/"
        },
        "id": "mnqux1SovvX9",
        "outputId": "5837fa7e-763f-4ba7-883c-f9e45ec42338"
      },
      "source": [
        "# apakah 1.1. + 2.2 hasilnya 3.3?\n",
        "(1.1 + 2.2 ) == 3.3"
      ],
      "execution_count": null,
      "outputs": [
        {
          "output_type": "execute_result",
          "data": {
            "text/plain": [
              "False"
            ]
          },
          "metadata": {},
          "execution_count": 61
        }
      ]
    },
    {
      "cell_type": "code",
      "metadata": {
        "colab": {
          "base_uri": "https://localhost:8080/"
        },
        "id": "vcgUYwRwwBsP",
        "outputId": "084a6f0d-fb50-4274-b454-7b52ac6cd0f0"
      },
      "source": [
        "1.1 + 2.2"
      ],
      "execution_count": null,
      "outputs": [
        {
          "output_type": "execute_result",
          "data": {
            "text/plain": [
              "3.3000000000000003"
            ]
          },
          "metadata": {},
          "execution_count": 62
        }
      ]
    },
    {
      "cell_type": "markdown",
      "metadata": {
        "id": "TIkDl_bXwGvk"
      },
      "source": [
        "**Mengapa terjadi demikian?**"
      ]
    },
    {
      "cell_type": "markdown",
      "metadata": {
        "id": "HMnoD0vtwJC3"
      },
      "source": [
        "Hal ini terjadi karena bilangan dalam komputer disimpan dalam\n",
        "bentuk digit 0 atau 1.\n",
        "\n",
        "Bila padanan digitnya tidak sesuai, maka bilangan float seperti 0.1 dalam bilangan biner akan menjadi pecahan yang sangat panjang yaitu 0.000110011001100110011… dan komputer kita hanya akan menyimpan panjang yang terbatas.\n",
        "\n",
        "Hal inilah yang menyebabkan terjadinya masalah seperti pada contoh di\n",
        "atas.\n",
        "\n",
        "Untuk menangani hal seperti itu, kita bisa menggunakan modul bawaan Python yaitu modul decimal.\n",
        "\n",
        "Float hanya memiliki presisi sampai 15 digit di belakang koma, sementara dengan modul decimal kita bisa mengatur presisi jumlah digit di belakang koma.\n"
      ]
    },
    {
      "cell_type": "code",
      "metadata": {
        "colab": {
          "base_uri": "https://localhost:8080/"
        },
        "id": "y1gV2_QdwVft",
        "outputId": "d76946ac-76ae-4d73-c5c0-b5094ac0fbff"
      },
      "source": [
        "import decimal\n",
        "\n",
        "angka = 0.1\n",
        "# print(angka)\n",
        "\n",
        "print(decimal.Decimal(angka))"
      ],
      "execution_count": null,
      "outputs": [
        {
          "output_type": "stream",
          "name": "stdout",
          "text": [
            "0.1000000000000000055511151231257827021181583404541015625\n"
          ]
        }
      ]
    },
    {
      "cell_type": "code",
      "metadata": {
        "colab": {
          "base_uri": "https://localhost:8080/"
        },
        "id": "9pN1hjjTw5rS",
        "outputId": "ed6eccbe-93c4-4175-f4bc-ac48c646958d"
      },
      "source": [
        "print(decimal.Decimal('1.1')+decimal.Decimal('2.2'))"
      ],
      "execution_count": null,
      "outputs": [
        {
          "output_type": "stream",
          "name": "stdout",
          "text": [
            "3.3\n"
          ]
        }
      ]
    },
    {
      "cell_type": "code",
      "metadata": {
        "colab": {
          "base_uri": "https://localhost:8080/"
        },
        "id": "XOjJ51NHxH8k",
        "outputId": "9feb3c18-0c33-4dd6-a0ab-8dfaa5e4c5e6"
      },
      "source": [
        "print(decimal.Decimal('1.2')+decimal.Decimal('2.5'))"
      ],
      "execution_count": null,
      "outputs": [
        {
          "output_type": "stream",
          "name": "stdout",
          "text": [
            "3.7\n"
          ]
        }
      ]
    },
    {
      "cell_type": "markdown",
      "metadata": {
        "id": "VC-4Nt6CxPef"
      },
      "source": [
        "**Kapan Saatnya Menggunakan Decimal Dibanding Float?**"
      ]
    },
    {
      "cell_type": "markdown",
      "metadata": {
        "id": "dHp4g9cnxSt9"
      },
      "source": [
        "Kita lebih baik menggunakan Decimal dalam kasus:\n",
        "\n",
        "\n",
        "1.   Saat kita ingin membuat aplikasi keuangan yang membutuhkan presisi\n",
        "desimal yang pasti\n",
        "2.   Saat kita ingin mengontrol tingkat presisi yang diperlukan\n",
        "3.   Saat kita ingin menerapkan perkiraan berapa digit decimal yang signifikan\n",
        "4.   Saat kita ingin melakukan operasi perhitungan sama persis dengan yang\n",
        "kita lakukan di sekolah"
      ]
    },
    {
      "cell_type": "markdown",
      "metadata": {
        "id": "pCALOIpcxetl"
      },
      "source": [
        "### Bilangan Pecahan"
      ]
    },
    {
      "cell_type": "markdown",
      "metadata": {
        "id": "iwec7jkHxtSh"
      },
      "source": [
        "Python menyediakan modul fractions untuk mengoperasikan bilangan\n",
        "pecahan. Pecahan adalah bilangan yang memiliki pembilang dan\n",
        "penyebut.\n",
        "\n",
        "**Dalam penggunaannya pakai koma (,)**\n",
        "misalnya untuk hasil 3/2\n",
        "Perhatikan contoh berikut:"
      ]
    },
    {
      "cell_type": "code",
      "metadata": {
        "colab": {
          "base_uri": "https://localhost:8080/"
        },
        "id": "RmpWGTnTxdhe",
        "outputId": "94bf7d7f-fda6-424b-b8b8-159086f4910f"
      },
      "source": [
        "import fractions\n",
        "\n",
        "print(fractions.Fraction(3,2))"
      ],
      "execution_count": null,
      "outputs": [
        {
          "output_type": "stream",
          "name": "stdout",
          "text": [
            "3/2\n"
          ]
        }
      ]
    },
    {
      "cell_type": "code",
      "metadata": {
        "colab": {
          "base_uri": "https://localhost:8080/"
        },
        "id": "VUuXCplZx5IN",
        "outputId": "b243d3b7-7c65-4bfc-8f1d-05b747167092"
      },
      "source": [
        "print(fractions.Fraction(22,7))"
      ],
      "execution_count": null,
      "outputs": [
        {
          "output_type": "stream",
          "name": "stdout",
          "text": [
            "22/7\n"
          ]
        }
      ]
    },
    {
      "cell_type": "markdown",
      "metadata": {
        "id": "bKo4NWOyyOO8"
      },
      "source": [
        "Operasi dasar seperti penjumlahan atau pembagian pecahan juga\n",
        "bisa dilakukan dengan modul fractions ini"
      ]
    },
    {
      "cell_type": "code",
      "metadata": {
        "colab": {
          "base_uri": "https://localhost:8080/"
        },
        "id": "45zKDt9tyVxl",
        "outputId": "2e72982b-ca09-47b0-e33a-83d4ff7bc5e4"
      },
      "source": [
        "print(fractions.Fraction(1,3) + fractions.Fraction(1,3))"
      ],
      "execution_count": null,
      "outputs": [
        {
          "output_type": "stream",
          "name": "stdout",
          "text": [
            "2/3\n"
          ]
        }
      ]
    },
    {
      "cell_type": "code",
      "metadata": {
        "colab": {
          "base_uri": "https://localhost:8080/"
        },
        "id": "2fOKH9KbyMLB",
        "outputId": "f95f7a61-014e-451d-8135-e55666e84aee"
      },
      "source": [
        "print(1/fractions.Fraction(5,6))"
      ],
      "execution_count": null,
      "outputs": [
        {
          "output_type": "stream",
          "name": "stdout",
          "text": [
            "6/5\n"
          ]
        }
      ]
    },
    {
      "cell_type": "code",
      "metadata": {
        "colab": {
          "base_uri": "https://localhost:8080/"
        },
        "id": "YZ_ovyguzHvN",
        "outputId": "d56b53cc-a565-4fcf-e18e-9b0d1886d142"
      },
      "source": [
        "print(fractions.Fraction(-3,10) <0)\n",
        "# apakah -3/10 lebih kecil dari nol ?"
      ],
      "execution_count": null,
      "outputs": [
        {
          "output_type": "stream",
          "name": "stdout",
          "text": [
            "True\n"
          ]
        }
      ]
    },
    {
      "cell_type": "markdown",
      "metadata": {
        "id": "fdYFPG4OzU_M"
      },
      "source": [
        "### Matematika dengan Python\n",
        "\n",
        "Python menyediakan modul math melakukan hal yang berbau matematis\n",
        "seperti trigonometri, logaritma, probabilitas, statistik, dan lain – lain."
      ]
    },
    {
      "cell_type": "code",
      "metadata": {
        "colab": {
          "base_uri": "https://localhost:8080/"
        },
        "id": "9cdfrfPjzZpZ",
        "outputId": "a1632d7a-1169-4e49-b445-28a4b6182b04"
      },
      "source": [
        "import math\n",
        "\n",
        "# nilai pi\n",
        "print(math.pi)\n",
        "\n",
        "# nilai cos\n",
        "print(math.cos(45))\n",
        "\n",
        "# eksponensial\n",
        "print(math.exp(5))\n",
        "\n",
        "# log\n",
        "print(math.log(10))\n",
        "\n",
        "# factorial\n",
        "print(math.factorial(5))"
      ],
      "execution_count": null,
      "outputs": [
        {
          "output_type": "stream",
          "name": "stdout",
          "text": [
            "3.141592653589793\n",
            "0.5253219888177297\n",
            "148.4131591025766\n",
            "2.302585092994046\n",
            "120\n"
          ]
        }
      ]
    }
  ]
}