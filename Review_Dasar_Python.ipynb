{
  "nbformat": 4,
  "nbformat_minor": 0,
  "metadata": {
    "colab": {
      "provenance": []
    },
    "kernelspec": {
      "name": "python3",
      "display_name": "Python 3"
    },
    "language_info": {
      "name": "python"
    }
  },
  "cells": [
    {
      "cell_type": "markdown",
      "source": [
        "**Tipe Data**\n",
        "Tipe Data Integer (int):\n",
        "Tipe data ini digunakan untuk merepresentasikan bilangan bulat.\n",
        "Contoh: 10, -5, 0.\n",
        "\n",
        "Tipe Data Float (float):\n",
        "Tipe data ini digunakan untuk merepresentasikan angka desimal.\n",
        "Contoh: 3.14, -0.5, 2.0.\n",
        "\n",
        "Tipe Data String (str):\n",
        "Tipe data ini digunakan untuk merepresentasikan teks atau karakter.\n",
        "Contoh: \"Hello, World!\", 'Python', \"123\".\n",
        "\n",
        "Tipe Data Boolean (bool):\n",
        "Tipe data ini digunakan untuk merepresentasikan nilai kebenaran (True atau False).\n",
        "Contoh: True, False.\n",
        "\n",
        "Tipe Data List:\n",
        "Tipe data ini digunakan untuk mengelompokkan beberapa nilai dalam satu struktur data.\n",
        "Contoh: [1, 2, 3], [\"apel\", \"pisang\", \"ceri\"].\n",
        "\n",
        "Tipe Data Tuple:\n",
        "Tipe data ini mirip dengan list, tetapi bersifat tidak dapat diubah (immutable).\n",
        "Contoh: (1, 2, 3), (\"merah\", \"hijau\", \"biru\").\n",
        "\n",
        "Tipe Data Dictionary:\n",
        "Tipe data ini digunakan untuk menyimpan pasangan kunci-nilai (key-value pairs).\n",
        "Contoh: {\"nama\": \"John\", \"usia\": 30, \"kota\": \"New York\"}.\n",
        "\n",
        "Tipe Data Set:\n",
        "Tipe data ini digunakan untuk menyimpan kumpulan nilai unik tanpa urutan.\n",
        "Contoh: {1, 2, 3}, {\"apel\", \"pisang\", \"apel\"}.\n",
        "\n",
        "Tipe Data None:\n",
        "Tipe data ini digunakan untuk menyatakan bahwa suatu variabel tidak memiliki nilai atau tidak ada objek yang ditunjuk.\n",
        "Contoh: None."
      ],
      "metadata": {
        "id": "Kzkg5HLe83io"
      }
    },
    {
      "cell_type": "markdown",
      "source": [
        "# Aritmatika"
      ],
      "metadata": {
        "id": "JMeet5Kt7Vzc"
      }
    },
    {
      "cell_type": "code",
      "execution_count": 1,
      "metadata": {
        "colab": {
          "base_uri": "https://localhost:8080/"
        },
        "id": "mSjEb2c96ZY5",
        "outputId": "f5c7a5ad-67eb-4617-dc4b-99117248a687"
      },
      "outputs": [
        {
          "output_type": "stream",
          "name": "stdout",
          "text": [
            "Masukkan angka pertama: 20\n",
            "Masukkan angka kedua: 10\n",
            "Hasil penambahan: 30.0\n",
            "Hasil pengurangan: 10.0\n",
            "Hasil perkalian: 200.0\n",
            "Hasil pembagian: 2.0\n",
            "Akar kuadrat angka pertama: 4.47213595499958\n",
            "Akar kuadrat angka kedua: 3.1622776601683795\n"
          ]
        }
      ],
      "source": [
        "# Mengimpor modul matematika\n",
        "import math\n",
        "\n",
        "# Fungsi untuk menambahkan dua angka\n",
        "def tambah(a, b):\n",
        "    return a + b\n",
        "\n",
        "# Fungsi untuk mengurangkan dua angka\n",
        "def kurang(a, b):\n",
        "    return a - b\n",
        "\n",
        "# Fungsi untuk mengalikan dua angka\n",
        "def kali(a, b):\n",
        "    return a * b\n",
        "\n",
        "# Fungsi untuk membagi dua angka\n",
        "def bagi(a, b):\n",
        "    if b == 0:\n",
        "        return \"Tidak dapat membagi oleh nol.\"\n",
        "    else:\n",
        "        return a / b\n",
        "\n",
        "# Fungsi untuk menghitung akar kuadrat\n",
        "def akar_kuadrat(a):\n",
        "    return math.sqrt(a)\n",
        "\n",
        "# Input dua angka dari pengguna\n",
        "angka1 = float(input(\"Masukkan angka pertama: \"))\n",
        "angka2 = float(input(\"Masukkan angka kedua: \"))\n",
        "\n",
        "# Menampilkan hasil operasi matematika\n",
        "print(\"Hasil penambahan:\", tambah(angka1, angka2))\n",
        "print(\"Hasil pengurangan:\", kurang(angka1, angka2))\n",
        "print(\"Hasil perkalian:\", kali(angka1, angka2))\n",
        "print(\"Hasil pembagian:\", bagi(angka1, angka2))\n",
        "print(\"Akar kuadrat angka pertama:\", akar_kuadrat(angka1))\n",
        "print(\"Akar kuadrat angka kedua:\", akar_kuadrat(angka2))\n"
      ]
    },
    {
      "cell_type": "code",
      "source": [
        "# Hitung Luas Ruangan\n",
        "# Mengambil input panjang dan lebar dari pengguna\n",
        "panjang = float(input(\"Masukkan panjang ruangan (dalam meter): \"))\n",
        "lebar = float(input(\"Masukkan lebar ruangan (dalam meter): \"))\n",
        "\n",
        "# Menghitung luas ruangan\n",
        "luas_ruangan = panjang * lebar\n",
        "\n",
        "# Menampilkan hasil\n",
        "print(\"Luas ruangan adalah:\", luas_ruangan, \"meter persegi\")"
      ],
      "metadata": {
        "id": "MVK5SJw87ofK"
      },
      "execution_count": null,
      "outputs": []
    },
    {
      "cell_type": "code",
      "source": [
        "# Percabangan\n",
        "# Mengambil input angka dari pengguna\n",
        "angka = float(input(\"Masukkan sebuah angka: \"))\n",
        "\n",
        "# Percabangan untuk menentukan apakah angka positif, negatif, atau nol\n",
        "if angka > 0:\n",
        "    print(\"Angka\", angka, \"adalah angka positif.\")\n",
        "elif angka < 0:\n",
        "    print(\"Angka\", angka, \"adalah angka negatif.\")\n",
        "else:\n",
        "    print(\"Angka\", angka, \"adalah nol.\")\n"
      ],
      "metadata": {
        "id": "VOr1l2iD8MF0"
      },
      "execution_count": null,
      "outputs": []
    },
    {
      "cell_type": "code",
      "source": [
        "# Perulangan\n",
        "# Mengambil input angka dari pengguna\n",
        "n = int(input(\"Masukkan sebuah angka: \"))\n",
        "\n",
        "# Menggunakan perulangan for untuk mencetak bilangan bulat dari 1 hingga n\n",
        "print(\"Bilangan bulat dari 1 hingga\", n, \"adalah:\")\n",
        "for i in range(1, n + 1):\n",
        "    print(i)\n"
      ],
      "metadata": {
        "id": "kXZQBn578OM6"
      },
      "execution_count": null,
      "outputs": []
    },
    {
      "cell_type": "code",
      "source": [
        "# Percabangan dan Perulangan\n",
        "# Mengambil input angka dari pengguna\n",
        "n = int(input(\"Masukkan angka untuk menghitung faktorial: \"))\n",
        "\n",
        "# Menggunakan perulangan for untuk menghitung faktorial\n",
        "faktorial = 1\n",
        "if n < 0:\n",
        "    print(\"Maaf, faktorial tidak didefinisikan untuk angka negatif.\")\n",
        "elif n == 0:\n",
        "    print(\"Faktorial dari 0 adalah 1.\")\n",
        "else:\n",
        "    for i in range(1, n + 1):\n",
        "        faktorial *= i\n",
        "    print(\"Faktorial dari\", n, \"adalah\", faktorial)\n"
      ],
      "metadata": {
        "id": "A46W4Irj8aFa"
      },
      "execution_count": null,
      "outputs": []
    },
    {
      "cell_type": "markdown",
      "source": [
        "# Function di Python"
      ],
      "metadata": {
        "id": "Sd6lEUDd9UOG"
      }
    },
    {
      "cell_type": "code",
      "source": [
        "# Hitung Luas Persegi Panjang\n",
        "def luas_persegi_panjang(panjang, lebar):\n",
        "    return panjang * lebar\n",
        "\n",
        "# Contoh pemanggilan fungsi\n",
        "panjang = 5\n",
        "lebar = 3\n",
        "luas = luas_persegi_panjang(panjang, lebar)\n",
        "print(\"Luas persegi panjang:\", luas)\n"
      ],
      "metadata": {
        "id": "oshI2QL59XiN"
      },
      "execution_count": null,
      "outputs": []
    },
    {
      "cell_type": "code",
      "source": [
        "# Hitung Faktorial\n",
        "def faktorial(n):\n",
        "    if n == 0:\n",
        "        return 1\n",
        "    else:\n",
        "        return n * faktorial(n - 1)\n",
        "\n",
        "# Contoh pemanggilan fungsi\n",
        "angka = 5\n",
        "hasil_faktorial = faktorial(angka)\n",
        "print(\"Faktorial dari\", angka, \"adalah\", hasil_faktorial)\n"
      ],
      "metadata": {
        "id": "i8QdL-jG9eEe"
      },
      "execution_count": null,
      "outputs": []
    },
    {
      "cell_type": "code",
      "source": [
        "# Bilangan Prima\n",
        "def bilangan_prima(n):\n",
        "    if n <= 1:\n",
        "        return False\n",
        "    for i in range(2, int(n**0.5) + 1):\n",
        "        if n % i == 0:\n",
        "            return False\n",
        "    return True\n",
        "\n",
        "# Contoh pemanggilan fungsi\n",
        "angka = 17\n",
        "if bilangan_prima(angka):\n",
        "    print(angka, \"adalah bilangan prima.\")\n",
        "else:\n",
        "    print(angka, \"bukan bilangan prima.\")\n"
      ],
      "metadata": {
        "id": "hZS67tlL9joF"
      },
      "execution_count": null,
      "outputs": []
    },
    {
      "cell_type": "code",
      "source": [
        "# Fungsi gabungkan teks\n",
        "def gabungkan_teks(teks1, teks2):\n",
        "    return teks1 + \" \" + teks2\n",
        "\n",
        "# Contoh pemanggilan fungsi\n",
        "teks1 = \"Hello\"\n",
        "teks2 = \"World!\"\n",
        "hasil_gabung = gabungkan_teks(teks1, teks2)\n",
        "print(\"Hasil penggabungan:\", hasil_gabung)\n"
      ],
      "metadata": {
        "id": "cn7M_ZEB9nvo"
      },
      "execution_count": null,
      "outputs": []
    },
    {
      "cell_type": "code",
      "source": [
        "# Fungsi tanpa argumen\n",
        "def sapaan():\n",
        "    return \"Halo, selamat datang!\"\n",
        "\n",
        "# Contoh pemanggilan fungsi\n",
        "pesan = sapaan()\n",
        "print(pesan)\n"
      ],
      "metadata": {
        "id": "YMpNYRm59saw"
      },
      "execution_count": null,
      "outputs": []
    }
  ]
}