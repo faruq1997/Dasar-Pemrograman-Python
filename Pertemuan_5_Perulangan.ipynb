{
  "nbformat": 4,
  "nbformat_minor": 0,
  "metadata": {
    "colab": {
      "name": "Pertemuan 5 - Perulangan.ipynb",
      "provenance": [],
      "collapsed_sections": [
        "oqqEGb3SUnnG",
        "8sKlGE1nXUTc",
        "-A3z1PLIZibz",
        "OVUvjHuKaFOd"
      ]
    },
    "kernelspec": {
      "name": "python3",
      "display_name": "Python 3"
    },
    "language_info": {
      "name": "python"
    }
  },
  "cells": [
    {
      "cell_type": "markdown",
      "metadata": {
        "id": "z_fwd-xKTiVh"
      },
      "source": [
        "# Perulangan / Looping\n",
        "\n",
        "Kondisi algoritma yang berulang.\n",
        "\n",
        "Dalam python, perulangan ada 2 jenis:\n",
        "\n",
        "`For`\n",
        "\n",
        "`While`\n",
        "\n",
        "Sebenarnya hampir sama seperti percabangan python yang dibahas pada pertemuan sebelumnya.\n",
        "\n",
        "Hanya saja bedanya:\n",
        "\n",
        "Kalau **percabangan**, blok kode yang memenuhi kondisi tertentu hanya akan dieksekusi satu kali saja.\n",
        "\n",
        "Sedangkan **perulangan**, ia akan dilakukan seterusnya berulang-ulang dengan jumlah tertentu atau selama kondisi tertentu terpenuhi."
      ]
    },
    {
      "cell_type": "markdown",
      "metadata": {
        "id": "oqqEGb3SUnnG"
      },
      "source": [
        "## For\n",
        "\n",
        "\n",
        "\n",
        "```\n",
        "for var in sequence:\n",
        "  body of for\n",
        "\n",
        "```\n",
        "\n",
        "`var` adalah variabel yang digunakan untuk penampung sementara nilai dari\n",
        "sequence pada saat terjadi perulangan. \n",
        "\n",
        "`Sequence` adalah tipe data berurut seperti *string*, *list*, dan *tuple*.\n",
        "\n",
        "Perulangan terjadi hingga mencapai elemen atau anggota terakhir dari\n",
        "sequence. Bila loop sudah sampai ke elemen terakhir dari sequence, maka\n",
        "program akan keluar dari looping."
      ]
    },
    {
      "cell_type": "code",
      "metadata": {
        "colab": {
          "base_uri": "https://localhost:8080/"
        },
        "id": "02mvVkJI4_UN",
        "outputId": "fcf45c03-ae4e-4f3d-afee-b638d56865b6"
      },
      "source": [
        "angka = [1,2,3,4,5,10]\n",
        "for numb in angka:\n",
        "  print(numb)\n"
      ],
      "execution_count": null,
      "outputs": [
        {
          "output_type": "stream",
          "name": "stdout",
          "text": [
            "1\n",
            "2\n",
            "3\n",
            "4\n",
            "5\n",
            "10\n"
          ]
        }
      ]
    },
    {
      "cell_type": "code",
      "metadata": {
        "colab": {
          "base_uri": "https://localhost:8080/"
        },
        "id": "U27NTvYATSCf",
        "outputId": "3454d40c-9a55-4714-8095-26e7eee307b4"
      },
      "source": [
        "# contoh for dengan tipe data string\n",
        "katanya = \"Universitas Nusa Mandiri\"\n",
        "for karakter in katanya:\n",
        "  print(karakter)"
      ],
      "execution_count": null,
      "outputs": [
        {
          "output_type": "stream",
          "name": "stdout",
          "text": [
            "U\n",
            "n\n",
            "i\n",
            "v\n",
            "e\n",
            "r\n",
            "s\n",
            "i\n",
            "t\n",
            "a\n",
            "s\n",
            " \n",
            "N\n",
            "u\n",
            "s\n",
            "a\n",
            " \n",
            "M\n",
            "a\n",
            "n\n",
            "d\n",
            "i\n",
            "r\n",
            "i\n"
          ]
        }
      ]
    },
    {
      "cell_type": "code",
      "metadata": {
        "colab": {
          "base_uri": "https://localhost:8080/"
        },
        "id": "PN5qRkp_WJwp",
        "outputId": "16a65103-c29d-4023-d850-2f68b47279de"
      },
      "source": [
        "# contoh for dengan tuple\n",
        "tupleBuah = ('Apel', 'Melon', 'Semangka', 'Pepaya', 'Tomat')\n",
        "\n",
        "for buah in tupleBuah:\n",
        "  print(buah)"
      ],
      "execution_count": null,
      "outputs": [
        {
          "output_type": "stream",
          "name": "stdout",
          "text": [
            "Apel\n",
            "Melon\n",
            "Semangka\n",
            "Pepaya\n",
            "Tomat\n"
          ]
        }
      ]
    },
    {
      "cell_type": "code",
      "metadata": {
        "colab": {
          "base_uri": "https://localhost:8080/"
        },
        "id": "veG7Nl_CWXmg",
        "outputId": "83baf94d-249b-4fad-e0ef-410a9389cf2e"
      },
      "source": [
        "# Contoh for dengan list\n",
        "listKota = [\n",
        "  'Bandung', 'Purwakarta', 'Subang', 'Karawang', 'Bekasi', 'Jakarta', 'Sukabumi', 'Bogor'\n",
        "]\n",
        "\n",
        "# for kota in listKota:\n",
        "#   print(kota)\n",
        "\n",
        "# index = urutan angka yang dimulai dari nol\n",
        "# kita juga bisa tambah nomor sebagai urut, misal:\n",
        "for i, kota in enumerate(listKota):\n",
        "  print(i, kota)\n",
        "\n",
        "print(\"enumerate() berfungsi untuk menampilkan nomor urut dari nilai pada sebuah variabel\")\n"
      ],
      "execution_count": null,
      "outputs": [
        {
          "output_type": "stream",
          "name": "stdout",
          "text": [
            "0 Bandung\n",
            "1 Purwakarta\n",
            "2 Subang\n",
            "3 Karawang\n",
            "4 Bekasi\n",
            "5 Jakarta\n",
            "6 Sukabumi\n",
            "7 Bogor\n",
            "enumerate() berfungsi untuk menampilkan nomor urut dari nilai pada sebuah variabel\n"
          ]
        }
      ]
    },
    {
      "cell_type": "markdown",
      "metadata": {
        "id": "8sKlGE1nXUTc"
      },
      "source": [
        "### Ada juga Range/Jangkauan"
      ]
    },
    {
      "cell_type": "code",
      "metadata": {
        "colab": {
          "base_uri": "https://localhost:8080/"
        },
        "id": "_Xr2I9F-XM1V",
        "outputId": "8b6dbbf3-5c14-471d-ece2-5b20faeda954"
      },
      "source": [
        "## 0 sampai 4\n",
        "for i in range(5):\n",
        "  print(\"Perulangan ke -\", i)"
      ],
      "execution_count": null,
      "outputs": [
        {
          "output_type": "stream",
          "name": "stdout",
          "text": [
            "Perulangan ke - 0\n",
            "Perulangan ke - 1\n",
            "Perulangan ke - 2\n",
            "Perulangan ke - 3\n",
            "Perulangan ke - 4\n"
          ]
        }
      ]
    },
    {
      "cell_type": "markdown",
      "metadata": {
        "id": "R-bWJAo-XmV0"
      },
      "source": [
        "Dengan fungsi range, kita bisa melakukan perulangan dari 0, sampai kurang dari nilai range yang kita definisikan (yaitu 5 dalam contoh di atas. Sehingga hasil perulangan yang didapatkan adalah 0 sampai 4."
      ]
    },
    {
      "cell_type": "markdown",
      "metadata": {
        "id": "kuylN72tXtGT"
      },
      "source": [
        "**Bisa juga memulai dari selain 0**"
      ]
    },
    {
      "cell_type": "code",
      "metadata": {
        "colab": {
          "base_uri": "https://localhost:8080/"
        },
        "id": "o5cUrkQWXwjK",
        "outputId": "665e38d7-fba3-4f18-fb79-59a4476406b2"
      },
      "source": [
        "## 10 sampai 15\n",
        "for i in range(10, 16):\n",
        "  print('i =', i)"
      ],
      "execution_count": null,
      "outputs": [
        {
          "output_type": "stream",
          "name": "stdout",
          "text": [
            "i = 10\n",
            "i = 11\n",
            "i = 12\n",
            "i = 13\n",
            "i = 14\n",
            "i = 15\n"
          ]
        }
      ]
    },
    {
      "cell_type": "markdown",
      "metadata": {
        "id": "TlL3Kth4X2HU"
      },
      "source": [
        "**Kita juga bisa mendefinisikan kelipatannya:**"
      ]
    },
    {
      "cell_type": "code",
      "metadata": {
        "colab": {
          "base_uri": "https://localhost:8080/"
        },
        "id": "z27hY-PqX3ou",
        "outputId": "c10f1721-7eef-487e-d458-da1bf5e32d44"
      },
      "source": [
        "## Bilangan genap kelipatan 2\n",
        "for i in range(2, 12, 2):\n",
        "  print('i =', i)\n",
        "\n",
        "print(\"Pada contoh ini, sistem akan melakukan perulangan dimulai dari angka 2, hingga kurang dari 12 dengan interval/kelipatan sebanyak 2.\")"
      ],
      "execution_count": null,
      "outputs": [
        {
          "output_type": "stream",
          "name": "stdout",
          "text": [
            "i = 2\n",
            "i = 4\n",
            "i = 6\n",
            "i = 8\n",
            "i = 10\n",
            "Pada contoh ini, sistem akan melakukan perulangan dimulai dari angka 2, hingga kurang dari 12 dengan interval/kelipatan sebanyak 2.\n"
          ]
        }
      ]
    },
    {
      "cell_type": "code",
      "metadata": {
        "colab": {
          "base_uri": "https://localhost:8080/"
        },
        "id": "yItcLlSsYEz-",
        "outputId": "d8cd90b7-23c7-4752-d691-905386d860f0"
      },
      "source": [
        "## Bilangan ganjil kelipatan 2\n",
        "print(\"Untuk bilangan ganjil, kita mulai saja dari angka 1:\")\n",
        "for bilangan_ganjil in range(1, 12, 2):\n",
        "  print(bilangan_ganjil)"
      ],
      "execution_count": null,
      "outputs": [
        {
          "output_type": "stream",
          "name": "stdout",
          "text": [
            "Untuk bilangan ganjil, kita mulai saja dari angka 1:\n",
            "1\n",
            "3\n",
            "5\n",
            "7\n",
            "9\n",
            "11\n"
          ]
        }
      ]
    },
    {
      "cell_type": "markdown",
      "metadata": {
        "id": "uoshWU4IYmvK"
      },
      "source": [
        "Kita bisa menggunakan fungsi range() dalam perulangan menggunakan for\n",
        "untuk iterasi bilangan berurut. Hal ini dengan cara mengkombinasikan fungsi\n",
        "range() dengan fungsi len(). Fungsi len() berfungsi untuk mendapatkan panjang atau jumlah elemen suatu data sekuensial atau berurut."
      ]
    },
    {
      "cell_type": "code",
      "metadata": {
        "colab": {
          "base_uri": "https://localhost:8080/"
        },
        "id": "b8VHI1KTY0hV",
        "outputId": "afc56b36-e464-41e6-af8f-ae79400ed19d"
      },
      "source": [
        "matkul = ['Dasar Pemrograman', 'Logika dan Algoritma', 'Pemodelan Berbasis Objek']\n",
        "# iterasi list dengan index\n",
        "for a in range(len(matkul)):\n",
        "  print(\"Mata kuliah yang sedang saya pelajari :\", matkul[a])"
      ],
      "execution_count": null,
      "outputs": [
        {
          "output_type": "stream",
          "name": "stdout",
          "text": [
            "Mata kuliah yang sedang saya pelajari : Dasar Pemrograman\n",
            "Mata kuliah yang sedang saya pelajari : Logika dan Algoritma\n",
            "Mata kuliah yang sedang saya pelajari : Pemodelan Berbasis Objek\n"
          ]
        },
        {
          "output_type": "execute_result",
          "data": {
            "text/plain": [
              "17"
            ]
          },
          "metadata": {},
          "execution_count": 56
        }
      ]
    },
    {
      "cell_type": "markdown",
      "metadata": {
        "id": "-A3z1PLIZibz"
      },
      "source": [
        "### Break dan continue\n",
        "\n",
        "Pada python, kita bisa menginterupsi dan juga men-skip/melewati suatu iterasi pada perulangan.\n",
        "\n",
        "Terdapat 2 perintah yang bisa kita gunakan, yaitu:\n",
        "\n",
        "break untuk interupsi (memberhentikan paksa) sebuah perulangan\n",
        "continue untuk menskip ke iterasi selanjutnya"
      ]
    },
    {
      "cell_type": "code",
      "metadata": {
        "colab": {
          "base_uri": "https://localhost:8080/"
        },
        "id": "bUoave7CZcL5",
        "outputId": "e537cc9c-b01d-4aae-8ac2-0a6011dbd029"
      },
      "source": [
        "for i in range(10, 20):\n",
        "  # skip jika i == 15\n",
        "  if (i == 15):\n",
        "    continue\n",
        "  \n",
        "  print(i)"
      ],
      "execution_count": null,
      "outputs": [
        {
          "output_type": "stream",
          "name": "stdout",
          "text": [
            "10\n",
            "11\n",
            "12\n",
            "13\n",
            "14\n",
            "16\n",
            "17\n",
            "18\n",
            "19\n"
          ]
        }
      ]
    },
    {
      "cell_type": "markdown",
      "metadata": {
        "id": "AcWm30x8Z3XA"
      },
      "source": [
        "Perhatikan output di atas, pada saat i == 15, perintah print(i) tidak dieksekusi dan justru di-skip ke iterasi berikutnya.\n",
        "\n",
        "Atau…\n",
        "\n",
        "Kita justru bisa memberhentikan paksa suatu perulangan sekalipun belum sampai ke iterasi yang terakhir."
      ]
    },
    {
      "cell_type": "code",
      "metadata": {
        "colab": {
          "base_uri": "https://localhost:8080/"
        },
        "id": "SPyqiNT-ZvWn",
        "outputId": "bf8fa3bc-5799-448e-e5a8-8c7dc7db3d48"
      },
      "source": [
        "for i in range(10, 20):\n",
        "  # hentikan jika i == 15\n",
        "  if (i == 15):\n",
        "    break\n",
        "  \n",
        "  print(i)"
      ],
      "execution_count": null,
      "outputs": [
        {
          "output_type": "stream",
          "name": "stdout",
          "text": [
            "10\n",
            "11\n",
            "12\n",
            "13\n",
            "14\n"
          ]
        }
      ]
    },
    {
      "cell_type": "markdown",
      "metadata": {
        "id": "K0Kvi_7LaBBP"
      },
      "source": [
        "Sistem akan memberhentikan perulangan ketika i == 15 dan belum sempat melakukan perintah print()"
      ]
    },
    {
      "cell_type": "markdown",
      "metadata": {
        "id": "OVUvjHuKaFOd"
      },
      "source": [
        "### For … else?\n",
        "\n",
        "Hampir mirip dengan if ... else.\n",
        "\n",
        "Tapi tugasnya berbeda.\n",
        "\n",
        "**Perulangan for jika ditambahkan blok else, maka perintah yang ada pada blok else hanya akan dieksekusi ketika perulangan selesai secara natural (tanpa interupsi).**"
      ]
    },
    {
      "cell_type": "code",
      "metadata": {
        "colab": {
          "base_uri": "https://localhost:8080/"
        },
        "id": "5yz7f1oVZ_LE",
        "outputId": "72ba0d2b-407e-427d-eeda-22338ba11baf"
      },
      "source": [
        "listNegara = [\n",
        "  'Indonesia', 'Malaysia', 'Singapore', 'Brunei Darussalam', 'Thailand',\n",
        "  'Vietnam', 'Laos', 'Kamboja'\n",
        "]\n",
        "\n",
        "for state in listNegara:\n",
        "  print(state)\n",
        "else:\n",
        "  print('\\nTidak ada lagi item yang tersisa')"
      ],
      "execution_count": null,
      "outputs": [
        {
          "output_type": "stream",
          "name": "stdout",
          "text": [
            "Indonesia\n",
            "Malaysia\n",
            "Singapore\n",
            "Brunei Darussalam\n",
            "Thailand\n",
            "Vietnam\n",
            "Laos\n",
            "Kamboja\n",
            "\n",
            "Tidak ada lagi item yang tersisa\n"
          ]
        }
      ]
    },
    {
      "cell_type": "markdown",
      "metadata": {
        "id": "itNRO7m-aqJt"
      },
      "source": [
        "### For … Else + Break\n",
        "\n",
        "Jika kita gabungkan for ... else dengan break, maka blok else hanya akan dieksekusi jika perintah break tidak dieksekusi.\n",
        "\n",
        "Kita bisa memanfaatkan for ... else + break untuk pencarian sebuah item pada list."
      ]
    },
    {
      "cell_type": "code",
      "metadata": {
        "colab": {
          "base_uri": "https://localhost:8080/"
        },
        "id": "bATM60SaauUG",
        "outputId": "e6522476-a8d4-4d06-dcb6-ee82c23034d1"
      },
      "source": [
        "listKota = [\n",
        "  'Jakarta', \n",
        "  'Surabaya', \n",
        "  'Depok', \n",
        "  'Bekasi', \n",
        "  'Solo',\n",
        "  'Jogjakarta', \n",
        "  'Semarang', \n",
        "  'Makassar',\n",
        "  'Karawang'\n",
        "]\n",
        "\n",
        "kotaYangDicari = input('Ketik nama kota yang kamu cari: ')\n",
        "\n",
        "for i, kota in enumerate(listKota):\n",
        "  # kita ubah katanya ke lowercase agar \n",
        "  # menjadi case insensitive\n",
        "  if kota.lower() == kotaYangDicari.lower():\n",
        "    print('Kota yang kamu cari berada pada indeks', i)\n",
        "    print('Yaitu:', kota)\n",
        "    break\n",
        "else:\n",
        "  print('Maaf, kota yang kamu cari tidak ada')"
      ],
      "execution_count": null,
      "outputs": [
        {
          "output_type": "stream",
          "name": "stdout",
          "text": [
            "Ketik nama kota yang kamu cari: Jakarta\n",
            "Kota yang kamu cari berada pada indeks 0\n",
            "Yaitu: Jakarta\n"
          ]
        }
      ]
    },
    {
      "cell_type": "markdown",
      "metadata": {
        "id": "t11NzUGWbg3R"
      },
      "source": [
        "## While"
      ]
    },
    {
      "cell_type": "markdown",
      "metadata": {
        "id": "z43skAyXbnz1"
      },
      "source": [
        "Perulangan menggunakan while akan menjalankan blok pernyataan terus\n",
        "menerus selama kondisi bernilai benar.\n",
        "Adapun sintaks dari perulangan menggunakan while adalah:\n",
        "\n",
        "```\n",
        "while expression:\n",
        "  statement (s)\n",
        "\n",
        "```\n",
        "\n",
        "Di sini, statement (s) bisa terdiri dari satu baris atau satu blok pernyataan.\n",
        "`expression` merupakan ekspresi atau kondisi apa saja, dan untuk nilai selain nol dianggap True.\n",
        "\n",
        "**Iterasi akan terus berlanjut selama kondisi benar.**\n",
        "\n",
        "Bila kondisi salah, maka program akan keluar dari while dan lanjut ke baris pernyataan di luar while."
      ]
    },
    {
      "cell_type": "code",
      "metadata": {
        "colab": {
          "base_uri": "https://localhost:8080/"
        },
        "id": "lQ46GZH8blQD",
        "outputId": "4e031eaf-badd-4574-8411-c76b433e688d"
      },
      "source": [
        "angka = 5\n",
        "\n",
        "while(angka<=5):\n",
        "  print(\"Angkanya adalah\",angka)\n",
        "  angka = angka+1\n",
        "print(\"\\nSelesai\")"
      ],
      "execution_count": null,
      "outputs": [
        {
          "output_type": "stream",
          "name": "stdout",
          "text": [
            "Angkanya adalah 5\n",
            "\n",
            "Selesai\n"
          ]
        }
      ]
    },
    {
      "cell_type": "markdown",
      "metadata": {
        "id": "wine2RH5dGCL"
      },
      "source": [
        "### Infinite Loop\n",
        "\n",
        "Sebuah kondisi dimana loop selalu benar dan tidak pernah salah disebut loop\n",
        "tidak terbatas (infinite loop). Terkadang hal ini menjadi masalah. Tapi sering juga infinite loop berguna, misalnya untuk program client/server dimana server perlu menjaga komunikasi tetap hidup dan tidak terputus. Pada contoh program while diatas, bila kita lupa menuliskan kode **angka = angka + 1**, maka akan jadi infinite loop. Hasilnya akan jadi seperti berikut:"
      ]
    },
    {
      "cell_type": "code",
      "metadata": {
        "id": "4niMf6wMdgn-"
      },
      "source": [
        "# misal:\n",
        "# angka = -5\n",
        "\n",
        "# while(angka<5):\n",
        "#   print(\"Angkanya adalah\",angka)\n",
        "#   # angka = angka+1\n",
        "# print(\"\\nSelesai\")"
      ],
      "execution_count": null,
      "outputs": []
    },
    {
      "cell_type": "markdown",
      "metadata": {
        "id": "v6cSsFbtdt8I"
      },
      "source": [
        "Kita perlu menekan **CTRL+C** / **Stop** untuk menghentikan program"
      ]
    },
    {
      "cell_type": "markdown",
      "metadata": {
        "id": "nqTkYpISd38N"
      },
      "source": [
        "### While Else\n",
        "\n",
        "Kurang lebih mirip dengan for else"
      ]
    },
    {
      "cell_type": "code",
      "metadata": {
        "colab": {
          "base_uri": "https://localhost:8080/"
        },
        "id": "ldHMeo4seEZu",
        "outputId": "7012ce62-4894-412f-a4af-5c2054556906"
      },
      "source": [
        "angka = 3\n",
        "\n",
        "while(angka<5):\n",
        "  print(\"Angkanya adalah\",angka)\n",
        "  angka = angka+1\n",
        "else:\n",
        "  print(angka,\"tidak kurang dari 5\")"
      ],
      "execution_count": null,
      "outputs": [
        {
          "output_type": "stream",
          "name": "stdout",
          "text": [
            "Angkanya adalah 3\n",
            "Angkanya adalah 4\n",
            "5 tidak kurang dari 5\n"
          ]
        }
      ]
    },
    {
      "cell_type": "markdown",
      "metadata": {
        "id": "muq-WjbuegqE"
      },
      "source": [
        "## Studi Kasus\n",
        "\n",
        "![looping_case.PNG](data:image/png;base64,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)"
      ]
    },
    {
      "cell_type": "code",
      "metadata": {
        "colab": {
          "base_uri": "https://localhost:8080/"
        },
        "id": "FogCTbQUezZl",
        "outputId": "4903db20-34ff-427f-d61f-66826c731796"
      },
      "source": [
        "ulang=2\n",
        "for i in range(ulang):\n",
        "  print (\"data ke - \" + str(i+1))\n",
        "  nama=input(\"Masukkan Nim anda : \")\n",
        "  uts=int(input(\"Masukkan Nilai UTS :\"))\n",
        "  uas=int(input(\"Masukkan Nilai UAS : \"))\n",
        "  print(\"NIm anda adalah %s nilai UTS anda %i nilai UTS anda %i\" % (nama,uts,uas))\n",
        "  print(\"-------------------------------------\\n\")"
      ],
      "execution_count": null,
      "outputs": [
        {
          "output_type": "stream",
          "name": "stdout",
          "text": [
            "data ke - 1\n",
            "Masukkan Nim anda : 2222\n",
            "Masukkan Nilai UTS :80\n",
            "Masukkan Nilai UAS : 90\n",
            "NIm anda adalah 2222 nilai UTS anda 80 nilai UTS anda 90\n",
            "-------------------------------------\n",
            "\n",
            "data ke - 2\n",
            "Masukkan Nim anda : 200\n",
            "Masukkan Nilai UTS :30\n",
            "Masukkan Nilai UAS : 40\n",
            "NIm anda adalah 200 nilai UTS anda 30 nilai UTS anda 40\n",
            "-------------------------------------\n",
            "\n"
          ]
        }
      ]
    },
    {
      "cell_type": "markdown",
      "metadata": {
        "id": "Lt71J3yTgKsO"
      },
      "source": [
        "# Ada tugas untuk pertemuan 5 tentang perulangan\n",
        "\n",
        "Tugasnya seperti sebelumnya dikumpulkan via elnusa.\n",
        "\n",
        "Link Tugas:\n",
        "[unduh disini](https://drive.google.com/file/d/1s3JMHOYYjkLIBfeWERQUFJnkkA1eZOtC/view?usp=sharing)"
      ]
    },
    {
      "cell_type": "markdown",
      "metadata": {
        "id": "_D2dnfaCcrh0"
      },
      "source": [
        "# Referensi\n",
        "\n",
        "1.   Modul Dasar Pemrograman Python Universitas Nusa Mandiri Pertemuan 5\n",
        "2.   [Jagoan Ngoding](https://jagongoding.com/python/dasar/perulangan-for/)"
      ]
    }
  ]
}