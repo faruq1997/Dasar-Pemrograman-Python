{
  "nbformat": 4,
  "nbformat_minor": 0,
  "metadata": {
    "colab": {
      "name": "Percabangan_latihan.ipynb",
      "provenance": []
    },
    "kernelspec": {
      "display_name": "Python 3",
      "name": "python3"
    },
    "language_info": {
      "name": "python"
    }
  },
  "cells": [
    {
      "cell_type": "markdown",
      "metadata": {
        "id": "uUogOajVvuq-"
      },
      "source": [
        "Gaji Pokok = 300000 / bulan\n",
        "\n",
        "Tunjangan Jabatan\n",
        "\n",
        "Gol 1 = 5%\n",
        "Gol 2 = 10%\n",
        "Gol 3 = 15%\n",
        "\n",
        "Tunjangan Pendidikan\n",
        "\n",
        "SMA = 2.5%\n",
        "D1 = 5%\n",
        "D3 = 20%\n",
        "S1 = 30%\n",
        "\n",
        "normal jam kerja = 8 jam\n",
        "lembur\n",
        "1 jam = 3500"
      ]
    },
    {
      "cell_type": "code",
      "metadata": {
        "colab": {
          "base_uri": "https://localhost:8080/"
        },
        "id": "4PoncXGdvilp",
        "outputId": "6fc6a8a5-829b-401b-e7b0-51e2b49938d5"
      },
      "source": [
        "# awal inputan\n",
        "print(\"PROGRAM HITUNG GAJI KARYAWAN\")\n",
        "nama = input(\"Nama Karyawan: \")\n",
        "tunj_gol = input(\"Tunjangan Jabatan [1/2/3]: \")\n",
        "tunj_pend = input(\"Tunjangan Pendidikan [SMA/D1/D3/S1]: \")\n",
        "lembur = int(input(\"Jumlah Jam Kerja / Lembur dalam 1 bulan: \"))\n",
        "# akhir inputan\n",
        "\n",
        "# awal Proses\n",
        "# Gaji Pokok\n",
        "gapok = 300000\n",
        "\n",
        "# Tunjangan GolonganIni\n",
        "if tunj_gol == \"1\":\n",
        "  golongan = 0.05\n",
        "  total_gol = gapok * golongan\n",
        "elif tunj_gol == \"2\":  \n",
        "  golongan = 0.1\n",
        "  total_gol = gapok * golongan\n",
        "elif tunj_gol == \"3\":\n",
        "  golongan = 0.15\n",
        "  total_gol == gapok * golongan\n",
        "else:\n",
        "  golongan = 0\n",
        "  total_gol = gapok * golongan\n",
        "\n",
        "# Tunjangan Pendidikan\n",
        "if tunj_pend == \"SMA\":\n",
        "  pendidikan = 0.025\n",
        "  total_pen = gapok * pendidikan\n",
        "elif tunj_pend == \"D1\":\n",
        "  pendidikan = 0.05\n",
        "  total_pen = gapok * pendidikan\n",
        "elif tunj_pend == \"D3\":\n",
        "  pendidikan = 0.2\n",
        "  total_pen = gapok * pendidikan\n",
        "elif tunj_pend == \"S1\":\n",
        "  pendidikan = 0.3\n",
        "  total_pen = gapok * pendidikan\n",
        "else:\n",
        "  pendidikan = 0\n",
        "  total_pen = gapok * pendidikan\n",
        "\n",
        "# uang lembur\n",
        "uang_lembur = 3500 * lembur\n",
        "\n",
        "# total gaji\n",
        "total_gaji = gapok + uang_lembur + total_pen + total_gol\n",
        "# akhir proses\n",
        "\n",
        "# awal output\n",
        "print(\"Karyawan yang bernama:\",nama)\n",
        "print(\"Honor yang diterima: \\n\")\n",
        "print(\"Tunjangan Jabatan: \", total_gol)\n",
        "print(\"Tunjangan Pendidikan: \", total_pen)\n",
        "print(\"Honor Lembur:\", uang_lembur)\n",
        "print(\"Total Gaji\", total_gaji)\n",
        "# akhir output"
      ],
      "execution_count": null,
      "outputs": [
        {
          "output_type": "stream",
          "name": "stdout",
          "text": [
            "PROGRAM HITUNG GAJI KARYAWAN\n",
            "Nama Karyawan: fikri\n",
            "Tunjangan Jabatan [1/2/3]: 2\n",
            "Tunjangan Pendidikan [SMA/D1/D3/S1]: d1\n",
            "Jumlah Jam Kerja / Lembur dalam 1 bulan: 8\n",
            "Karyawan yang bernama: fikri\n",
            "Honor yang diterima: \n",
            "\n",
            "Tunjangan Jabatan:  30000.0\n",
            "Tunjangan Pendidikan:  0\n",
            "Honor Lembur: 28000\n",
            "Total Gaji 358000.0\n"
          ]
        }
      ]
    },
    {
      "cell_type": "code",
      "metadata": {
        "colab": {
          "base_uri": "https://localhost:8080/",
          "height": 129
        },
        "id": "DPDnpzIkiJ9Z",
        "outputId": "e6daf71f-2313-42d7-abe5-61aead240afc"
      },
      "source": [
        "7!"
      ],
      "execution_count": null,
      "outputs": [
        {
          "output_type": "error",
          "ename": "SyntaxError",
          "evalue": "ignored",
          "traceback": [
            "\u001b[0;36m  File \u001b[0;32m\"<ipython-input-6-f7acf7e0d13b>\"\u001b[0;36m, line \u001b[0;32m1\u001b[0m\n\u001b[0;31m    7!\u001b[0m\n\u001b[0m     ^\u001b[0m\n\u001b[0;31mSyntaxError\u001b[0m\u001b[0;31m:\u001b[0m invalid syntax\n"
          ]
        }
      ]
    }
  ]
}