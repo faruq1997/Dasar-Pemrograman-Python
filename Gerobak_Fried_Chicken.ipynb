{
  "nbformat": 4,
  "nbformat_minor": 0,
  "metadata": {
    "colab": {
      "provenance": []
    },
    "kernelspec": {
      "name": "python3",
      "display_name": "Python 3"
    },
    "language_info": {
      "name": "python"
    }
  },
  "cells": [
    {
      "cell_type": "code",
      "execution_count": 3,
      "metadata": {
        "id": "90Yq-Yd-v-zS",
        "colab": {
          "base_uri": "https://localhost:8080/"
        },
        "outputId": "9f124d7e-343a-4180-e3d7-fe855c6f87c7"
      },
      "outputs": [
        {
          "output_type": "stream",
          "name": "stdout",
          "text": [
            "================================\n",
            "     GEROBAK FRIED CHICKENN \n",
            "--------------------------------\n",
            " Kode   Jenis Potong     Harga\n",
            "--------------------------------\n",
            "  D         Dada       Rp. 2500\n",
            "  P         Paha       Rp. 2000\n",
            "  S         Sayap      Rp. 1500\n",
            "================================\n",
            "Masukan Banyak Jenis : 1\n",
            "Jenis ke : 1\n",
            "Kode Potong [D/P/S] : s\n",
            "Banyak Potong : 1\n",
            "=================================================================\n",
            "| No | Jenis Potong | Harga Satuan | Banyak Beli | Jumlah Harga |\n",
            "=================================================================\n",
            "| 1  |    Sayap\t    |     1500     |      1      | Rp 1500\t|\n",
            "|---------------------------------------------------------------|\n",
            "|\t\t\t\t   Jumlah Bayar  | Rp 1500 \t|\n",
            "|---------------------------------------------------------------|\n",
            "|\t\t\t\t   Pajak 10%     | Rp 150 \t|\n",
            "|---------------------------------------------------------------|\n",
            "|\t\t\t\t   Total Bayar   | Rp 1650 \t|\n",
            "=================================================================\n"
          ]
        }
      ],
      "source": [
        "print(\"=\"*32)\n",
        "print(\"     GEROBAK FRIED CHICKENN \")\n",
        "print(\"-\"*32)\n",
        "print(\" Kode   Jenis Potong     Harga\")\n",
        "print(\"-\"*32)\n",
        "print(\"  D         Dada       Rp. 2500\")\n",
        "print(\"  P         Paha       Rp. 2000\")\n",
        "print(\"  S         Sayap      Rp. 1500\")\n",
        "print(\"=\"*32)\n",
        "banyakjenis = int(input(\"Masukan Banyak Jenis : \"))\n",
        "kode = []\n",
        "jenispotong = []\n",
        "jumlahbeli = []\n",
        "harga = []\n",
        "jumlah = []\n",
        "x = 0\n",
        "jumlahbayar=0\n",
        "while x < banyakjenis:\n",
        "    print(\"Jenis ke :\",x+1)\n",
        "    kode.append(input(\"Kode Potong [D/P/S] : \"))\n",
        "    jumlahbeli.append(int(input(\"Banyak Potong : \")))\n",
        "\n",
        "    if kode[x] == \"D\" or kode[x] == \"d\":\n",
        "        jenispotong.append (\"Dada\")\n",
        "        harga.append (\"2500\")\n",
        "        jumlah.append (jumlahbeli[x]*int(2500))\n",
        "\n",
        "    elif kode[x] == \"P\" or kode[x] == \"p\":\n",
        "        jenispotong.append (\"Paha\")\n",
        "        harga.append (\"2000\")\n",
        "        jumlah.append (jumlahbeli[x]*int(2000))\n",
        "\n",
        "    elif kode[x] == \"S\" or kode[x] == \"s\":\n",
        "        jenispotong.append (\"Sayap\")\n",
        "        harga.append (\"1500\")\n",
        "        jumlah.append (jumlahbeli[x]*int(1500))\n",
        "\n",
        "    else:\n",
        "        jenispotong.append (\"Kode Salah ! \")\n",
        "        harga.append (\"0\")\n",
        "        jumlah.append (jumlahbeli[x]*int(0))\n",
        "        \n",
        "    jumlahbayar += jumlah[x]\n",
        "    x += 1\n",
        "\n",
        "print (\"=================================================================\")\n",
        "print (\"| No | Jenis Potong | Harga Satuan | Banyak Beli | Jumlah Harga |\")\n",
        "print (\"=================================================================\")\n",
        "\n",
        "a = 0\n",
        "diskon = jumlahbayar * 10/100\n",
        "subtotal = jumlahbayar+diskon\n",
        "\n",
        "while a < banyakjenis:\n",
        "    print (\"| %i  |    %s\\t    |     %s     |      %i      | Rp %i\\t|\" % (a+1, jenispotong[a], harga[a], jumlahbeli[a], jumlah[a]))\n",
        "    print (\"|---------------------------------------------------------------|\") \n",
        "    a=a+1\n",
        "\n",
        "print(\"|\\t\\t\\t\\t   Jumlah Bayar  | Rp\",jumlahbayar,\"\\t|\")\n",
        "print(\"|---------------------------------------------------------------|\")\n",
        "print(\"|\\t\\t\\t\\t   Pajak 10%     | Rp\",int(diskon),\"\\t|\")\n",
        "print(\"|---------------------------------------------------------------|\")\n",
        "print(\"|\\t\\t\\t\\t   Total Bayar   | Rp\",int(subtotal),\"\\t|\")\n",
        "print (\"=================================================================\")"
      ]
    }
  ]
}