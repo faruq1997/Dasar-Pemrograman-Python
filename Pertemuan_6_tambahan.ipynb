{
  "nbformat": 4,
  "nbformat_minor": 0,
  "metadata": {
    "colab": {
      "provenance": []
    },
    "kernelspec": {
      "name": "python3",
      "display_name": "Python 3"
    },
    "language_info": {
      "name": "python"
    }
  },
  "cells": [
    {
      "cell_type": "code",
      "source": [
        "my_list_clear = ['a','b','c','d','e','f','g',3.14]\n",
        "my_list_clear.clear()\n",
        "my_list_clear.insert(0,5)\n",
        "my_list_clear.append(10)\n",
        "my_list_clear.insert(0,15)\n",
        "my_list_clear.insert(3,20)\n",
        "my_list_clear.pop(3)\n",
        "my_list_clear.remove(5)\n",
        "my_list_clear.sort(reverse=True)\n",
        "\n",
        "my_list_clear"
      ],
      "metadata": {
        "colab": {
          "base_uri": "https://localhost:8080/"
        },
        "id": "5tm5nqThXRLH",
        "outputId": "9b8ca3d2-5ce2-44fc-8cf7-28c7d52fec4a"
      },
      "execution_count": null,
      "outputs": [
        {
          "output_type": "execute_result",
          "data": {
            "text/plain": [
              "[15, 10]"
            ]
          },
          "metadata": {},
          "execution_count": 36
        }
      ]
    },
    {
      "cell_type": "code",
      "source": [
        "tupleku = (1,\n",
        "           2,\n",
        "           3,\n",
        "           (4,5,6),\n",
        "           3.14,\n",
        "           [7,8,9]\n",
        "           )\n",
        "\n",
        "tupleku"
      ],
      "metadata": {
        "colab": {
          "base_uri": "https://localhost:8080/"
        },
        "id": "pcWUkbxxbX9r",
        "outputId": "7b34c153-03a4-4e37-e204-8f5710671dca"
      },
      "execution_count": null,
      "outputs": [
        {
          "output_type": "execute_result",
          "data": {
            "text/plain": [
              "(1, 2, 3, (4, 5, 6), 3.14, [7, 8, 9])"
            ]
          },
          "metadata": {},
          "execution_count": 44
        }
      ]
    },
    {
      "cell_type": "code",
      "source": [
        "tupleku[3][1]"
      ],
      "metadata": {
        "colab": {
          "base_uri": "https://localhost:8080/"
        },
        "id": "gvix3MqAbvf7",
        "outputId": "c06c6133-180d-49af-b793-d9954774fb9f"
      },
      "execution_count": null,
      "outputs": [
        {
          "output_type": "execute_result",
          "data": {
            "text/plain": [
              "5"
            ]
          },
          "metadata": {},
          "execution_count": 47
        }
      ]
    },
    {
      "cell_type": "code",
      "source": [
        "variabelku = [\n",
        "    #[No, Nim, Nama]\n",
        "    [1,'11111111',\"Nama Kesatu\"],\n",
        "    [2,'22222222',\"Nama Kedua\"],\n",
        "    [3,'33333333',\"Nama Ketiga\"],\n",
        "    [4,'44444444',\"Nama Keempat\"],\n",
        "    [5,'55555555',\"Nama Kelima\"]\n",
        "]"
      ],
      "metadata": {
        "id": "3h2vZ3DpfxpL"
      },
      "execution_count": null,
      "outputs": []
    },
    {
      "cell_type": "code",
      "source": [
        "my_list_dua_dimensi = [\n",
        "                       [\n",
        "                        1, #indeks ke 0 dari kolom\n",
        "                        2, #indeks ke 1 dari kolom\n",
        "                        3 #indeks ke 2 dari kolom\n",
        "                        ], #indeks ke 0 dari baris\n",
        "                       [4,5,6], #indeks ke 1 dari baris\n",
        "                       [7,8,9], #indeks ke 2 dari baris\n",
        "                       [0], #indeks ke 3 dari baris\n",
        "]"
      ],
      "metadata": {
        "id": "y__cuZqFkkGV"
      },
      "execution_count": null,
      "outputs": []
    },
    {
      "cell_type": "code",
      "source": [
        "# Baris pertama kolom pertama\n",
        "print(my_list_dua_dimensi[2][1])"
      ],
      "metadata": {
        "colab": {
          "base_uri": "https://localhost:8080/"
        },
        "id": "TizX35_nkpkd",
        "outputId": "0a52e621-b065-4d87-fdec-edd374a4aab4"
      },
      "execution_count": null,
      "outputs": [
        {
          "output_type": "stream",
          "name": "stdout",
          "text": [
            "8\n"
          ]
        }
      ]
    },
    {
      "cell_type": "code",
      "source": [
        "tambah1 = ['a','b','c']\n",
        "my_list_dua_dimensi.append(tambah1)\n",
        "\n",
        "my_list_dua_dimensi"
      ],
      "metadata": {
        "colab": {
          "base_uri": "https://localhost:8080/"
        },
        "id": "kCWyvPyalDJV",
        "outputId": "7708c099-5cd3-4a2d-de82-16439800ac0a"
      },
      "execution_count": null,
      "outputs": [
        {
          "output_type": "execute_result",
          "data": {
            "text/plain": [
              "[[1, 2, 3], [4, 5, 6], [7, 8, 9], [0], ['a', 'b', 'c']]"
            ]
          },
          "metadata": {},
          "execution_count": 84
        }
      ]
    },
    {
      "cell_type": "code",
      "source": [
        "my_list_dua_dimensi[3].remove(0)\n",
        "my_list_dua_dimensi"
      ],
      "metadata": {
        "colab": {
          "base_uri": "https://localhost:8080/"
        },
        "id": "us_xFYyxlZHM",
        "outputId": "1d89673e-f58b-47da-fc23-b7f4d3f1d305"
      },
      "execution_count": null,
      "outputs": [
        {
          "output_type": "execute_result",
          "data": {
            "text/plain": [
              "[[1, 2, 3], [4, 5, 6], [7, 8, 9], [], ['a', 'b', 'c']]"
            ]
          },
          "metadata": {},
          "execution_count": 96
        }
      ]
    },
    {
      "cell_type": "code",
      "source": [
        "nilainya = ('x', 'y', 'z')\n",
        "my_list_dua_dimensi.insert(3, nilainya)\n",
        "\n",
        "my_list_dua_dimensi"
      ],
      "metadata": {
        "colab": {
          "base_uri": "https://localhost:8080/"
        },
        "id": "uSzNXMESnMf9",
        "outputId": "83d54bd5-11d1-4f44-fcc4-5c728b87cfd1"
      },
      "execution_count": null,
      "outputs": [
        {
          "output_type": "execute_result",
          "data": {
            "text/plain": [
              "[[1, 2, 3],\n",
              " [4, 5, 6],\n",
              " [7, 8, 9],\n",
              " ('x', 'y', 'z'),\n",
              " ('x', 'y', 'z'),\n",
              " ('x', 'y', 'z'),\n",
              " ('x', 'y', 'z'),\n",
              " ('x', 'y', 'z'),\n",
              " [],\n",
              " ['a', 'b', 'c']]"
            ]
          },
          "metadata": {},
          "execution_count": 101
        }
      ]
    },
    {
      "cell_type": "code",
      "source": [
        "my_list_dua_dimensi.pop(4)\n",
        "my_list_dua_dimensi.pop(3)\n",
        "my_list_dua_dimensi.pop(3)\n",
        "\n",
        "my_list_dua_dimensi"
      ],
      "metadata": {
        "colab": {
          "base_uri": "https://localhost:8080/"
        },
        "id": "ucw9UDKAn1FF",
        "outputId": "6fa39f4f-fd6a-48ee-9bb7-84e9af9ccf52"
      },
      "execution_count": null,
      "outputs": [
        {
          "output_type": "execute_result",
          "data": {
            "text/plain": [
              "[[1, 2, 3], [4, 5, 6], [7, 8, 9]]"
            ]
          },
          "metadata": {},
          "execution_count": 104
        }
      ]
    },
    {
      "cell_type": "code",
      "source": [
        "tambah1 = ('a','b','c')\n",
        "my_list_dua_dimensi.append(tambah1)"
      ],
      "metadata": {
        "id": "50Ypq5lDoPGl"
      },
      "execution_count": null,
      "outputs": []
    },
    {
      "cell_type": "code",
      "source": [
        "my_list_dua_dimensi"
      ],
      "metadata": {
        "colab": {
          "base_uri": "https://localhost:8080/"
        },
        "id": "OAVN4vynoSAt",
        "outputId": "c37029e9-9d85-477f-d724-7b7f580cd95f"
      },
      "execution_count": null,
      "outputs": [
        {
          "output_type": "execute_result",
          "data": {
            "text/plain": [
              "[[1, 2, 3], [4, 5, 6], [7, 8, 9], ('a', 'b', 'c')]"
            ]
          },
          "metadata": {},
          "execution_count": 106
        }
      ]
    },
    {
      "cell_type": "code",
      "source": [
        "my_list_dua_dimensi[3].append('d')\n",
        "\n",
        "my_list_dua_dimensi"
      ],
      "metadata": {
        "colab": {
          "base_uri": "https://localhost:8080/",
          "height": 201
        },
        "id": "B7Te0vAaobnt",
        "outputId": "74ec0b86-7614-449b-bc4d-52536b0571d7"
      },
      "execution_count": null,
      "outputs": [
        {
          "output_type": "error",
          "ename": "AttributeError",
          "evalue": "ignored",
          "traceback": [
            "\u001b[0;31m---------------------------------------------------------------------------\u001b[0m",
            "\u001b[0;31mAttributeError\u001b[0m                            Traceback (most recent call last)",
            "\u001b[0;32m<ipython-input-107-57369d5a0c58>\u001b[0m in \u001b[0;36m<module>\u001b[0;34m\u001b[0m\n\u001b[0;32m----> 1\u001b[0;31m \u001b[0mmy_list_dua_dimensi\u001b[0m\u001b[0;34m[\u001b[0m\u001b[0;36m3\u001b[0m\u001b[0;34m]\u001b[0m\u001b[0;34m.\u001b[0m\u001b[0mappend\u001b[0m\u001b[0;34m(\u001b[0m\u001b[0;34m'd'\u001b[0m\u001b[0;34m)\u001b[0m\u001b[0;34m\u001b[0m\u001b[0;34m\u001b[0m\u001b[0m\n\u001b[0m\u001b[1;32m      2\u001b[0m \u001b[0;34m\u001b[0m\u001b[0m\n\u001b[1;32m      3\u001b[0m \u001b[0mmy_list_dua_dimensi\u001b[0m\u001b[0;34m\u001b[0m\u001b[0;34m\u001b[0m\u001b[0m\n",
            "\u001b[0;31mAttributeError\u001b[0m: 'tuple' object has no attribute 'append'"
          ]
        }
      ]
    },
    {
      "cell_type": "code",
      "source": [
        "#variable yg berulang menggunakan List/matriks\n",
        "list_nim=[]\n",
        "list_uts=[]\n",
        "list_uas=[]\n",
        "list_total=[]\n",
        "\n",
        "ulang=2\n",
        "for i in range(ulang):\n",
        "  print (\"data Ke - \" + str(i+1))\n",
        "  list_nim.append(input(\"Masukkan Nim anda : \"))\n",
        "  list_uts.append(int(input(\"Masukkan Nilai UTS anda:\")))\n",
        "  list_uas.append(int(input(\"Masukkan Nilai UAS : \")))\n",
        "\n",
        "#proses\n",
        "for i in range(ulang):\n",
        "  list_total.append((list_uas[i] + list_uts[i]) / 2)\n",
        "\n",
        "#Cetak\n",
        "print(\"=============================================================\")\n",
        "print(\"Nim Nilai Uts Nilai UAS Total\")\n",
        "print(\"=============================================================\")\n",
        "for i in range(ulang):\n",
        "  print (\"%s \\t %i \\t\\t %i \\t\\t\\t %i\" % (list_nim[i],list_uts[i],list_uas[i],list_total[i]))\n",
        "print(\"=============================================================\")"
      ],
      "metadata": {
        "colab": {
          "base_uri": "https://localhost:8080/"
        },
        "id": "qD7Pt_Broxb-",
        "outputId": "35ceeab4-bf4a-47a9-ef96-209ad58ce0d6"
      },
      "execution_count": null,
      "outputs": [
        {
          "output_type": "stream",
          "name": "stdout",
          "text": [
            "data Ke - 1\n",
            "Masukkan Nim anda : 12121212\n",
            "Masukkan Nilai UTS anda:88\n",
            "Masukkan Nilai UAS : 99\n",
            "data Ke - 2\n",
            "Masukkan Nim anda : 44444444\n",
            "Masukkan Nilai UTS anda:80\n",
            "Masukkan Nilai UAS : 80\n",
            "=============================================================\n",
            "Nim Nilai Uts Nilai UAS Total\n",
            "=============================================================\n",
            "12121212 \t 88 \t\t 99 \t\t\t 93\n",
            "44444444 \t 80 \t\t 80 \t\t\t 80\n",
            "=============================================================\n"
          ]
        }
      ]
    }
  ]
}