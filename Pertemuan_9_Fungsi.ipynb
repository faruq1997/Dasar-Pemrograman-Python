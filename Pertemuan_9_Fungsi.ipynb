{
  "nbformat": 4,
  "nbformat_minor": 0,
  "metadata": {
    "colab": {
      "name": "Pertemuan_9_Fungsi.ipynb",
      "provenance": [],
      "collapsed_sections": []
    },
    "kernelspec": {
      "name": "python3",
      "display_name": "Python 3"
    },
    "language_info": {
      "name": "python"
    }
  },
  "cells": [
    {
      "cell_type": "markdown",
      "metadata": {
        "id": "DTj3nbFriajo"
      },
      "source": [
        "Pada pertemuan ini kita akan membahas tentang fungsi pada python, jenis-jenisnya, dan juga contoh cara penggunaannya.\n",
        "\n",
        "Sebelum mulai ngoding, kita bahas pengertiannya terlebih dahulu."
      ]
    },
    {
      "cell_type": "markdown",
      "metadata": {
        "id": "HOF0rDQvi7fo"
      },
      "source": [
        "# Pengertian Fungsi (def) Pada Python\n",
        "\n",
        "**Apa itu fungsi (def) pada python?**\n",
        "\n",
        "Fungsi pada python adalah kumpulan perintah atau baris kode yang dikelompokkan menjadi satu kesatuan untuk kemudian bisa dipanggil atau digunakan berkali-kali.\n",
        "\n",
        "Sebuah fungsi bisa menerima parameter, bisa mengembalikan suatu nilai, dan bisa dipanggil berkali-kali secara independen.\n",
        "\n",
        "Dengan fungsi kita bisa memecah program besar yang kita tulis, menjadi bagian-bagian kecil dengan tugasnya masing-masing.\n",
        "\n",
        "Juga, fungsi akan membuat kode program kita menjadi lebih “reusable” dan lebih terstruktur."
      ]
    },
    {
      "cell_type": "markdown",
      "metadata": {
        "id": "BUNieht0jFdh"
      },
      "source": [
        "# Sintaks Fungsi\n",
        "Di dalam python, sintaks pembuatan fungsi terlihat seperti berikut:\n",
        "```\n",
        "def <nama_fungsi>(parameters):\n",
        "  statements\n",
        "```\n",
        "\n",
        "Sintaks di atas secara umum terbagi menjadi 4 bagian:\n",
        "\n",
        "1. Kata kunci def yang menjadi pertanda bahwa blok kode program adalah sebuah fungsi\n",
        "2. Nama fungsi yang kita buat\n",
        "3. Parameters yang akan diterima oleh fungsi yang kita buat (tidak wajib)\n",
        "4. Blok kode fungsi yang disana akan kita tulis perintah-perintah yang harus dilakukan oleh sebuah fungsi\n",
        "\n",
        "jangan lupa bahwa **blok kode program di dalam python didefinisikan dengan indentasi** (menjorok ke kanan / tab).\n",
        "\n",
        "Contoh sebuah fungsi sederhana dengan nama hai():"
      ]
    },
    {
      "cell_type": "code",
      "metadata": {
        "id": "EDbquBWtjqM_"
      },
      "source": [
        "def hai():\n",
        "  print('Hai, Aku Spongebob!')"
      ],
      "execution_count": 1,
      "outputs": []
    },
    {
      "cell_type": "markdown",
      "metadata": {
        "id": "zS2q3wiUj106"
      },
      "source": [
        "Fungsi di atas, jika dipanggil, akan mengeksekusi perintah print() yang ada di dalamnya."
      ]
    },
    {
      "cell_type": "markdown",
      "metadata": {
        "id": "ieVS8GK3j3Hc"
      },
      "source": [
        "# Memanggil Fungsi\n",
        "\n",
        "Bagaimana cara memanggil fungsi yang telah kita definisikan?\n",
        "\n",
        "Sederhana.\n",
        "\n",
        "Cukup ketik nama fungsinya, ditambah dengan tanda kurung () seperti berikut:"
      ]
    },
    {
      "cell_type": "code",
      "metadata": {
        "colab": {
          "base_uri": "https://localhost:8080/"
        },
        "id": "a1BEZ9lgkEty",
        "outputId": "3c6e4967-2c8e-45ac-b5be-7d9250fef5f9"
      },
      "source": [
        "hai()"
      ],
      "execution_count": 3,
      "outputs": [
        {
          "output_type": "stream",
          "name": "stdout",
          "text": [
            "Hai, Aku Spongebob!\n"
          ]
        }
      ]
    },
    {
      "cell_type": "code",
      "metadata": {
        "colab": {
          "base_uri": "https://localhost:8080/"
        },
        "id": "vYPHJYlDkSlN",
        "outputId": "6f888c3e-c279-4ee7-f3e3-28575d40dbab"
      },
      "source": [
        "# Bahkan kita bisa memanggil fungsi berkali-kali:\n",
        "hai()\n",
        "hai()\n",
        "hai()"
      ],
      "execution_count": 4,
      "outputs": [
        {
          "output_type": "stream",
          "name": "stdout",
          "text": [
            "Hai, Aku Spongebob!\n",
            "Hai, Aku Spongebob!\n",
            "Hai, Aku Spongebob!\n"
          ]
        }
      ]
    },
    {
      "cell_type": "markdown",
      "metadata": {
        "id": "zbfGnPxtkmba"
      },
      "source": [
        "# Fungsi dengan Argumen atau Parameter\n",
        "\n",
        "Sebuah fungsi juga bisa menerima parameter atau pun argumen. Ia merupakan suatu nilai/variabel yang dilemparkan ke dalam fungsi untuk diproses lebih lanjut. Seperti ini:\n",
        "```\n",
        "print('Halo Yanto, selamat datang!')\n",
        "print('Halo Eka, selamat datang!')\n",
        "print('Halo Irma, selamat datang!')\n",
        "print('Halo Dinar, selamat datang!')\n",
        "```\n",
        "Lalu, bagaimana cara kita memproduksi output seperti itu dengan python?\n",
        "\n",
        "Ada banyak cara. Bisa dengan list, perulangan, dan lain sebagainya.\n",
        "\n",
        "Akan tetapi, mungkin yang langsung terbesit dalam benak kita adalah dengan melakukan 4x print() seperti ini:"
      ]
    },
    {
      "cell_type": "code",
      "metadata": {
        "colab": {
          "base_uri": "https://localhost:8080/"
        },
        "id": "8Aq2JVwGlWsz",
        "outputId": "0b4e604c-91e6-4bf9-8b07-2da3cff2e3a9"
      },
      "source": [
        "print('Halo Yanto, selamat datang!')\n",
        "print('Halo Eka, selamat datang!')\n",
        "print('Halo Irma, selamat datang!')\n",
        "print('Halo Dinar, selamat datang!')"
      ],
      "execution_count": 5,
      "outputs": [
        {
          "output_type": "stream",
          "name": "stdout",
          "text": [
            "Halo Yanto, selamat datang!\n",
            "Halo Eka, selamat datang!\n",
            "Halo Irma, selamat datang!\n",
            "Halo Dinar, selamat datang!\n"
          ]
        }
      ]
    },
    {
      "cell_type": "markdown",
      "metadata": {
        "id": "V8V64ZcJle_J"
      },
      "source": [
        "Itu adalah cara yang sangat simpel, dan juga tidak salah.\n",
        "\n",
        "Akan tetapi, dari pada kita melakukan 4x print seperti di atas, kita bisa memanfaatkan fungsi dan parameter pada python. Sehingga kode programnya akan terlihat seperti ini:"
      ]
    },
    {
      "cell_type": "code",
      "metadata": {
        "colab": {
          "base_uri": "https://localhost:8080/"
        },
        "id": "5lGGf97Pli0D",
        "outputId": "628acc64-ae4e-4c19-a27a-da318241bd79"
      },
      "source": [
        "# Mendefinisikan fungsi\n",
        "def selamat_datang (nama):\n",
        "  print(f'Halo {nama}, selamat datang!')\n",
        "\n",
        "# Kemudian panggil fungsi setelah fungsi didefinisikan\n",
        "selamat_datang('Yanto')\n",
        "selamat_datang('Eka')\n",
        "selamat_datang('Irma')\n",
        "selamat_datang('Dinar')"
      ],
      "execution_count": 6,
      "outputs": [
        {
          "output_type": "stream",
          "name": "stdout",
          "text": [
            "Halo Yanto, selamat datang!\n",
            "Halo Eka, selamat datang!\n",
            "Halo Irma, selamat datang!\n",
            "Halo Dinar, selamat datang!\n"
          ]
        }
      ]
    },
    {
      "cell_type": "markdown",
      "metadata": {
        "id": "D7q_tGNUl369"
      },
      "source": [
        "Dan kita tetap akan mendapatkan output yang sama."
      ]
    },
    {
      "cell_type": "markdown",
      "metadata": {
        "id": "51JLb1btl7Wz"
      },
      "source": [
        "# Parameter Wajib\n",
        "\n",
        "Parameter di dalam python bisa lebih dari satu, bisa wajib semua (harus diisi), dan bisa juga bersifat opsional.\n",
        "\n",
        "Perhatikan contoh fungsi berikut:"
      ]
    },
    {
      "cell_type": "code",
      "metadata": {
        "id": "MUKj23v4mCAO"
      },
      "source": [
        "def perkenalan (nama, asli):\n",
        "  print(f\"Perkenalkan saya {nama} dari {asli}\")"
      ],
      "execution_count": 10,
      "outputs": []
    },
    {
      "cell_type": "code",
      "metadata": {
        "colab": {
          "base_uri": "https://localhost:8080/"
        },
        "id": "e7HpCDHtmDIm",
        "outputId": "b6022378-69ba-4737-c81c-37ce8e81f082"
      },
      "source": [
        "# Jika dipanggil:\n",
        "\n",
        "perkenalan(\"Yanto\", \"Pontianak\")"
      ],
      "execution_count": 11,
      "outputs": [
        {
          "output_type": "stream",
          "name": "stdout",
          "text": [
            "Perkenalkan saya Yanto dari Pontianak\n"
          ]
        }
      ]
    },
    {
      "cell_type": "code",
      "metadata": {
        "colab": {
          "base_uri": "https://localhost:8080/",
          "height": 198
        },
        "id": "wnUpbrrVmZia",
        "outputId": "d8d8e9fd-0504-4b42-e0a6-3ef001a729a0"
      },
      "source": [
        "# tapi jika memanggilnya hanya 1 parameter, seperti ini:\n",
        "perkenalan(\"Yanto\")\n",
        "# maka:"
      ],
      "execution_count": 12,
      "outputs": [
        {
          "output_type": "error",
          "ename": "TypeError",
          "evalue": "ignored",
          "traceback": [
            "\u001b[0;31m---------------------------------------------------------------------------\u001b[0m",
            "\u001b[0;31mTypeError\u001b[0m                                 Traceback (most recent call last)",
            "\u001b[0;32m<ipython-input-12-3d9b921c5808>\u001b[0m in \u001b[0;36m<module>\u001b[0;34m()\u001b[0m\n\u001b[1;32m      1\u001b[0m \u001b[0;31m# tapi jika memanggilnya hanya 1 parameter, seperti ini:\u001b[0m\u001b[0;34m\u001b[0m\u001b[0;34m\u001b[0m\u001b[0;34m\u001b[0m\u001b[0m\n\u001b[0;32m----> 2\u001b[0;31m \u001b[0mperkenalan\u001b[0m\u001b[0;34m(\u001b[0m\u001b[0;34m\"Yanto\"\u001b[0m\u001b[0;34m)\u001b[0m\u001b[0;34m\u001b[0m\u001b[0;34m\u001b[0m\u001b[0m\n\u001b[0m\u001b[1;32m      3\u001b[0m \u001b[0;31m# maka:\u001b[0m\u001b[0;34m\u001b[0m\u001b[0;34m\u001b[0m\u001b[0;34m\u001b[0m\u001b[0m\n",
            "\u001b[0;31mTypeError\u001b[0m: perkenalan() missing 1 required positional argument: 'asli'"
          ]
        }
      ]
    },
    {
      "cell_type": "markdown",
      "metadata": {
        "id": "GDGtDw90mmTf"
      },
      "source": [
        "**Kenapa?** Karena kita hanya memasukkan satu parameter saja padahal parameter yang diminta ada 2."
      ]
    },
    {
      "cell_type": "markdown",
      "metadata": {
        "id": "OHCvxC5SmmOX"
      },
      "source": [
        "# Parameter Opsional (atau Default)\n",
        "Tidak semua parameter fungsi pada python itu bersifat wajib. Ada yang opsional.\n",
        "\n",
        "Parameter opsional adalah parameter yang seandainya tidak diisi, dia sudah memiliki nilai default.\n",
        "\n",
        "Perhatikan contoh berikut:"
      ]
    },
    {
      "cell_type": "code",
      "metadata": {
        "id": "XZnXu9z7mytS"
      },
      "source": [
        "def suhu_udara (daerah, derajat, satuan = 'celcius'):\n",
        "  print(f\"Suhu di {daerah} adalah {derajat} {satuan}\")"
      ],
      "execution_count": 13,
      "outputs": []
    },
    {
      "cell_type": "markdown",
      "metadata": {
        "id": "8Bv3orC3m4HB"
      },
      "source": [
        "Pada fungsi suhu_udara() di atas, kita mendefinisikan 3 buah parameter:\n",
        "* daerah\n",
        "* derajat\n",
        "* suhu = 'celcius'\n",
        "\n",
        "Dua parameter pertama adalah bersifat wajib dan harus diisi, sedangkan parameter ketiga tidak wajib. Jika tidak kita isi, maka nilai default-nya adalah “celcius”.\n",
        "\n",
        "Sekarang, kita coba panggil fungsi tersebut dengan 2 cara:"
      ]
    },
    {
      "cell_type": "code",
      "metadata": {
        "colab": {
          "base_uri": "https://localhost:8080/"
        },
        "id": "xCfcfxzxnGpy",
        "outputId": "a05e122c-d337-4c17-b818-c00448343dfa"
      },
      "source": [
        "suhu_udara(\"Jakarta\", 30)\n",
        "suhu_udara(\"Jakarta\", 86, 'Fahrenheit')"
      ],
      "execution_count": 14,
      "outputs": [
        {
          "output_type": "stream",
          "name": "stdout",
          "text": [
            "Suhu di Jakarta adalah 30 celcius\n",
            "Suhu di Jakarta adalah 86 Fahrenheit\n"
          ]
        }
      ]
    },
    {
      "cell_type": "markdown",
      "metadata": {
        "id": "QoE-FrsWnNiH"
      },
      "source": [
        "# Fungsi Dengan Parameter Tidak Berurut\n",
        "\n",
        "Jika kita perhatikan lagi fungsi suhu_udara(), kita akan dapati kalau parameter yang bersifat opsional hanya ada 1, dan hanya ada di belakang.\n",
        "\n",
        "Tapi, bagaimana jika ternyata parameter opsionalnya ada lebih dari 1?\n",
        "\n",
        "Coba perhatikan:"
      ]
    },
    {
      "cell_type": "code",
      "metadata": {
        "id": "65s1fjo7nWqP"
      },
      "source": [
        "def suhu_udara (daerah, derajat = 30, satuan = 'celcius'):\n",
        "  print(f\"Suhu di {daerah} adalah {derajat} {satuan}\")"
      ],
      "execution_count": 15,
      "outputs": []
    },
    {
      "cell_type": "markdown",
      "metadata": {
        "id": "9G5jb6zbnbJf"
      },
      "source": [
        "Pada fungsi tersebut, kita telah mengatur nilai default untuk parameter derajat. Sehingga sekarang kita memiliki dua buah parameter.\n",
        "\n",
        "Kita coba panggil dengan 2 parameter seperti ini:"
      ]
    },
    {
      "cell_type": "code",
      "metadata": {
        "colab": {
          "base_uri": "https://localhost:8080/"
        },
        "id": "ToaBgdCyndAh",
        "outputId": "66b78bcd-d467-435a-cd64-b97dc73eedc8"
      },
      "source": [
        "suhu_udara('Jakarta', 'fahrenheit')"
      ],
      "execution_count": 16,
      "outputs": [
        {
          "output_type": "stream",
          "name": "stdout",
          "text": [
            "Suhu di Jakarta adalah fahrenheit celcius\n"
          ]
        }
      ]
    },
    {
      "cell_type": "markdown",
      "metadata": {
        "id": "s6rGCMPvnrde"
      },
      "source": [
        "Hmmm. Kok malah tampil 2 satuan derajat ya?\n",
        "\n",
        "Padahal kita inginnya hanya mengisi 2 parameter saja:\n",
        "\n",
        "* Satu untuk parameter daerah\n",
        "* Dan yang kedua untuk parameter satuan\n",
        "* Tapi di sini malah terisi adalah parameter derajat.\n",
        "\n",
        "Untuk mengatasi hal ini, kita bisa mendefinisikan nama argumen/parameter yang akan kita isi.\n",
        "\n",
        "Perhatikan contoh ini:"
      ]
    },
    {
      "cell_type": "code",
      "metadata": {
        "colab": {
          "base_uri": "https://localhost:8080/"
        },
        "id": "24TfSBy6n1FW",
        "outputId": "715d708e-0eaa-430d-b4f8-a07788a9227b"
      },
      "source": [
        "# Pemanggilan fungsi ini akan menghasilkan output:\n",
        "suhu_udara('Jakarta', 'fahrenheit')\n",
        "suhu_udara('Jakarta', satuan = 'fahrenheit')"
      ],
      "execution_count": 19,
      "outputs": [
        {
          "output_type": "stream",
          "name": "stdout",
          "text": [
            "Suhu di Jakarta adalah fahrenheit celcius\n",
            "Suhu di Jakarta adalah 30 fahrenheit\n"
          ]
        }
      ]
    },
    {
      "cell_type": "markdown",
      "metadata": {
        "id": "_0pk6Dlrn-le"
      },
      "source": [
        "Dengan mendefinisikan nama argumen yang kita passing, kita sekarang bisa memanggilnya bahkan secara tidak berurutan sekalipun:"
      ]
    },
    {
      "cell_type": "code",
      "metadata": {
        "colab": {
          "base_uri": "https://localhost:8080/"
        },
        "id": "0rL7czzrn_gS",
        "outputId": "2b325d3d-4b8c-4214-9e0c-bfcbd1b56936"
      },
      "source": [
        "suhu_udara(satuan='kelvin', daerah='Karawang', derajat=100)"
      ],
      "execution_count": 20,
      "outputs": [
        {
          "output_type": "stream",
          "name": "stdout",
          "text": [
            "Suhu di Karawang adalah 100 kelvin\n"
          ]
        }
      ]
    },
    {
      "cell_type": "markdown",
      "metadata": {
        "id": "SYKGPQBZoZLr"
      },
      "source": [
        "# Fungsi yang Mengembalikan Nilai\n",
        "\n",
        "Jenis fungsi yang berikutnya adalah berkaitan dengan nilai kembalian.\n",
        "\n",
        "Ditinjau dari segi pengembalian nilai, fungsi terbagi menjadi 2:\n",
        "1. Fungsi yang tidak mengembalikan nilai\n",
        "2. Fungsi yang mengembalikan nilai\n",
        "\n",
        "Pada contoh-contoh di atas, kita telah membuat dan memanggil fungsi-fungsi yang tidak memiliki nilai.\n",
        "\n",
        "Sekarang, kita akan coba membuat fungsi yang mempunyai atau mengembalikan sebuah nilai."
      ]
    },
    {
      "cell_type": "code",
      "metadata": {
        "id": "nvlBT13Soj-U"
      },
      "source": [
        "def luas_persegi (sisi):\n",
        "  return sisi * sisi"
      ],
      "execution_count": 21,
      "outputs": []
    },
    {
      "cell_type": "markdown",
      "metadata": {
        "id": "eWAl_o_Wontw"
      },
      "source": [
        "Penjelasan\n",
        "\n",
        "* Kata kunci return berfungsi untuk mengembalikan nilai.\n",
        "* Nilai yang dikembalikan suatu fungsi, bisa kita olah kembali untuk berbagai kebutuhan."
      ]
    },
    {
      "cell_type": "code",
      "metadata": {
        "colab": {
          "base_uri": "https://localhost:8080/"
        },
        "id": "-HpRjZe3oqbw",
        "outputId": "dbd65161-1301-47b9-caaa-11e0b810ba85"
      },
      "source": [
        "# Contoh:\n",
        "\n",
        "# tidak menghasilkan output apa pun\n",
        "luas_persegi(10)\n",
        "\n",
        "# menghasilkan output\n",
        "print('Luas persegi dengan sisi 4 adalah:', luas_persegi(4))\n",
        "\n",
        "# kita juga bisa simpan di dalam variabel\n",
        "persegi_besar = luas_persegi(100)\n",
        "persegi_kecil = luas_persegi(50)\n",
        "\n",
        "print('Toal luas persegi besar dan kecil adalah:', persegi_besar + persegi_kecil)"
      ],
      "execution_count": 22,
      "outputs": [
        {
          "output_type": "stream",
          "name": "stdout",
          "text": [
            "Luas persegi dengan sisi 4 adalah: 16\n",
            "Toal luas persegi besar dan kecil adalah: 12500\n"
          ]
        }
      ]
    },
    {
      "cell_type": "markdown",
      "metadata": {
        "id": "7X82KykWpAXG"
      },
      "source": [
        "Jadi intinya: fungsi **yang mengembalikan nilai** adalah sebuah fungsi yang jika kita panggil, dia akan **memberikan kita sebuah nilai yang bisa kita olah lebih lanjut**, seperti misalkan kita simpan dalam sebuah variabel atau kita lakukan operasi tertentu."
      ]
    },
    {
      "cell_type": "markdown",
      "metadata": {
        "id": "RzZWUu-NpJ4E"
      },
      "source": [
        "# Lebih dari 1 return\n",
        "\n",
        "Jika statement `return` telah dieksekusi pada sebuah fungsi, maka semua proses yang ada di dalam blok kode fungsi tersebut akan berhenti.\n",
        "\n",
        "Sehingga, misalkan kita memiliki lebih dari 1 buah return, maka hanya ada satu return saja yang dieksekusi. Dan ketika sebuah return telah dieksekusi, semua perintah yang ada di bawahnya akan di-skip *–ini mirip* dengan perintah `break` pada *perulangan* `for` mau pun `while`."
      ]
    },
    {
      "cell_type": "code",
      "metadata": {
        "colab": {
          "base_uri": "https://localhost:8080/"
        },
        "id": "uW8Wy-2cpcwF",
        "outputId": "8e16f50b-6d7a-49cf-a508-4aff272ef235"
      },
      "source": [
        "# Perhatikan contoh berikut:\n",
        "def persentase (total, jumlah):\n",
        "  if (total >= 0 and total <= jumlah):\n",
        "    return total / jumlah * 100\n",
        "  \n",
        "  return False\n",
        "\n",
        "# output 50\n",
        "print(persentase(30, 60))\n",
        "\n",
        "# output False\n",
        "print(persentase(100, 60))"
      ],
      "execution_count": 23,
      "outputs": [
        {
          "output_type": "stream",
          "name": "stdout",
          "text": [
            "50.0\n",
            "False\n"
          ]
        }
      ]
    },
    {
      "cell_type": "markdown",
      "metadata": {
        "id": "t2ylPOx-poZ1"
      },
      "source": [
        "# Ruang Lingkup (dan Siklus Hidup) Variabel Pada Fungsi\n",
        "\n",
        "Variabel memiliki ruang lingkup dan siklus hidup.\n",
        "\n",
        "Secara umum, terdapat dua ruang lingkup variabel pada python:\n",
        "\n",
        "1. Variabel global\n",
        "2. Dan variabel lokal\n",
        "\n",
        "**Variable global** adalah variabel yang bisa dipanggil dari manapun dari satu file python.\n",
        "\n",
        "Sedangkan **variable lokal** adalah variabel yang hanya hidup di dalam satu blok kode tertentu (seperti di dalam fungsi, seperti kasus kita pada pertemuan ini)."
      ]
    },
    {
      "cell_type": "code",
      "metadata": {
        "colab": {
          "base_uri": "https://localhost:8080/"
        },
        "id": "6LMmrUGQp12o",
        "outputId": "7d9d4e35-cb41-42fa-ae65-8d71610f388a"
      },
      "source": [
        "# Perhatikan contoh berikut:\n",
        "kota = 'Bandung'\n",
        "\n",
        "def halo() :\n",
        "  print(kota)\n",
        "\n",
        "print('[print secara langsung]', kota)\n",
        "print('[panggil fungsi halo]', end=' ')\n",
        "\n",
        "halo()"
      ],
      "execution_count": 24,
      "outputs": [
        {
          "output_type": "stream",
          "name": "stdout",
          "text": [
            "[print secara langsung] Bandung\n",
            "[panggil fungsi halo] Bandung\n"
          ]
        }
      ]
    },
    {
      "cell_type": "markdown",
      "metadata": {
        "id": "ZuYuz87Jp9dt"
      },
      "source": [
        "Pada kode di atas, variabel `kota` yang ada di dalam fungsi, adalah variabel `kota` yang sama dengan yang ada di luar fungsi."
      ]
    },
    {
      "cell_type": "code",
      "metadata": {
        "colab": {
          "base_uri": "https://localhost:8080/"
        },
        "id": "66r7BZm1qBJW",
        "outputId": "fb050767-6991-4a96-ff1b-7840271600e4"
      },
      "source": [
        "kota, provinsi = 'Pontianak', 'Kalimantan Barat'\n",
        "\n",
        "def hello ():\n",
        "  provinsi = 'Jawa Barat'\n",
        "  print(kota, provinsi)\n",
        "\n",
        "print('[PANGGIL FUNGSI hello()]')\n",
        "hello()\n",
        "\n",
        "print('\\n[SECARA LANGSUNG]')\n",
        "print(kota, provinsi)"
      ],
      "execution_count": 25,
      "outputs": [
        {
          "output_type": "stream",
          "name": "stdout",
          "text": [
            "[PANGGIL FUNGSI hello()]\n",
            "Pontianak Jawa Barat\n",
            "\n",
            "[SECARA LANGSUNG]\n",
            "Pontianak Kalimantan Barat\n"
          ]
        }
      ]
    },
    {
      "cell_type": "markdown",
      "metadata": {
        "id": "LabjpK-RqR8w"
      },
      "source": [
        "# Pencerahan\n",
        "\n",
        "1. Kita membuat 2 buah variabel dengan nama `kota` dan `provinsi`\n",
        "2. Kita mengubah variabel `provinsi` pada fungsi `hello()`\n",
        "3. Saat fungsi `hello()` dieksekusi, benar saja variabel `provinsi` berubah.\n",
        "4. Tapi, ketika kita tampilkan lagi (secara langsung) variabel `provinsi`, nilainya kembali ke nilai semula.\n",
        "\n",
        "**Kenapa?**\n",
        "\n",
        "Karena ketika kita mengubah variabel `provinsi` pada fungsi `hello()`, itu sebenarnya kita tidak merubah variabel `provinsi` yang ada di luar, melainkan kita membuat variabel baru dengan nama yang sama, akan tetapi dengan ruang lingkup lokal yang hanya bisa diakses pada fungsi `hello()` saja."
      ]
    },
    {
      "cell_type": "markdown",
      "metadata": {
        "id": "JBJr74LRqvDf"
      },
      "source": [
        "# Docstring\n",
        "\n",
        "Yang terakhir, kita bisa memberikan sebuah deskripsi terhadap fungsi yang kita buat.\n",
        "\n",
        "Deskripsi ini biasanya akan ditampilkan oleh Text Editor mau pun IDE sebagai bantuan tentang apa yang sebenarnya dilakukan oleh sebuah fungsi.\n",
        "\n",
        "Caranya gampang.\n",
        "\n",
        "Untuk mendefinisikan deskripsi program, kita hanya perlu menuliskan komentar multi baris tepat setelah mendefinsikan nama fungsi.\n",
        "\n",
        "Perhatikan contoh berikut:"
      ]
    },
    {
      "cell_type": "code",
      "metadata": {
        "id": "UnbSg3R9q50H"
      },
      "source": [
        "def suhu_udara (daerah, derajat = 30, satuan = 'celcius'):\n",
        "  \"\"\"\n",
        "  Fungsi ini bertugas untuk menampilkan teks yang memberikan informasi \n",
        "  tentang suhu udara di suatu daerah.\n",
        "  \"\"\"\n",
        "\n",
        "  print(\"Suhu di {} adalah {} {}\".format(daerah, derajat, satuan))"
      ],
      "execution_count": 26,
      "outputs": []
    },
    {
      "cell_type": "markdown",
      "metadata": {
        "id": "s-uKcd3Mr3_w"
      },
      "source": [
        "**Tampilan pada Google Colab:**"
      ]
    },
    {
      "cell_type": "markdown",
      "metadata": {
        "id": "lFvf9DEYreFr"
      },
      "source": [
        "![fungsi.png](data:image/png;base64,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)"
      ]
    },
    {
      "cell_type": "markdown",
      "metadata": {
        "id": "kTCYa5tLr0rS"
      },
      "source": [
        "# Fungsi yang Memanggil Dirinya Sendiri\n",
        "Dari segi tempat pemanggilan, fungsi pada python bisa dipanggil dari berbagai tempat.\n",
        "\n",
        "Bisa dari console. Bisa dari fungsi yang lainnya. Bisa juga dari dirinya sendiri.\n",
        "\n",
        "Fungsi yang memanggil dirinya sendiri, akan menciptakan sebuah perulangan. Dan perulangan ini biasa disebut sebagai `perulangan rekursif`."
      ]
    }
  ]
}