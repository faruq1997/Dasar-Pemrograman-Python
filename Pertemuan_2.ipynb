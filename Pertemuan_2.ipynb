{
  "nbformat": 4,
  "nbformat_minor": 0,
  "metadata": {
    "colab": {
      "name": "Pertemuan 2.ipynb",
      "provenance": []
    },
    "kernelspec": {
      "name": "python3",
      "display_name": "Python 3"
    },
    "language_info": {
      "name": "python"
    }
  },
  "cells": [
    {
      "cell_type": "markdown",
      "metadata": {
        "id": "F8TP-D1XArzF"
      },
      "source": [
        "# **Pertemuan 2**"
      ]
    },
    {
      "cell_type": "markdown",
      "metadata": {
        "id": "SonK-R0oA13U"
      },
      "source": [
        "1. Syntaks (Kodingan) Dasar Python"
      ]
    },
    {
      "cell_type": "markdown",
      "metadata": {
        "id": "ntY1v_uVDypa"
      },
      "source": [
        "Semua yang bisa dieksekusi oleh python disebut **Statement**."
      ]
    },
    {
      "cell_type": "code",
      "metadata": {
        "colab": {
          "base_uri": "https://localhost:8080/"
        },
        "id": "uDOooAIsAnL4",
        "outputId": "534ecd79-1bb8-41f4-f508-864f3391f300"
      },
      "source": [
        "print(\"ini merupakan statement dalam bahasa python\")"
      ],
      "execution_count": null,
      "outputs": [
        {
          "output_type": "stream",
          "name": "stdout",
          "text": [
            "ini merupakan statement dalam bahasa python\n"
          ]
        }
      ]
    },
    {
      "cell_type": "markdown",
      "metadata": {
        "id": "E9Tsw_9QF6YI"
      },
      "source": [
        "2. Komentar dalam Python\n",
        "Tanda **pagar (#)** digunakan sebagai komentar, atau catatan yang tidak terbaca program."
      ]
    },
    {
      "cell_type": "code",
      "metadata": {
        "id": "EmwOV0zHGLUs"
      },
      "source": [
        "#apapun yang ditulis disini\n",
        "#pasti tidak akan terbaca oleh program"
      ],
      "execution_count": null,
      "outputs": []
    },
    {
      "cell_type": "markdown",
      "metadata": {
        "id": "7VFF0b3nEVdN"
      },
      "source": [
        "3. Tanda Kutip di Python\n",
        "Python menggunakan **tanda kutip tunggal ('), ganda (\"), maupun triple (\"' atau \"\"\") untuk menandai string, sepanjang stringnya diawali oleh tanda kutip yang sama di awal dan akhir string**. Tanda kutip tiga digunakan untuk string multibaris. Ketiga contoh berikut, semuanya adalah benar."
      ]
    },
    {
      "cell_type": "code",
      "metadata": {
        "colab": {
          "base_uri": "https://localhost:8080/"
        },
        "id": "HSFNvpSdEvJf",
        "outputId": "2efcbd5b-e360-41b2-bcc2-8760a486b277"
      },
      "source": [
        "kata = \"kata\"\n",
        "kalimat = \"Ini adalah kalimat\"\n",
        "paragraf = \"\"\" Ini adalah paragraf terdiri dari beberapa baris \"\"\"\n",
        "\n",
        "print(paragraf)"
      ],
      "execution_count": null,
      "outputs": [
        {
          "output_type": "stream",
          "name": "stdout",
          "text": [
            " Ini adalah paragraf terdiri dari beberapa baris \n"
          ]
        }
      ]
    },
    {
      "cell_type": "code",
      "metadata": {
        "colab": {
          "base_uri": "https://localhost:8080/"
        },
        "id": "Z57EyACgkeZd",
        "outputId": "2d322131-13b8-40ba-d551-71446e203167"
      },
      "source": [
        "print(\"Halo Dunia\")"
      ],
      "execution_count": null,
      "outputs": [
        {
          "output_type": "stream",
          "name": "stdout",
          "text": [
            "Halo Dunia\n"
          ]
        }
      ]
    },
    {
      "cell_type": "markdown",
      "metadata": {
        "id": "lOFKTRaaGebu"
      },
      "source": [
        "# Variabel dan Tipe Data\n",
        "\n",
        "**Variabel** merupakan nilai yang bisa berubah-ubah\n",
        "\n",
        "**Tipe Data** merupakan nilai yang sifatnya tetap / konstanta"
      ]
    },
    {
      "cell_type": "code",
      "metadata": {
        "colab": {
          "base_uri": "https://localhost:8080/"
        },
        "id": "z2HebRpNHDax",
        "outputId": "a2190517-90f2-4323-ede6-82f4d56ca9d3"
      },
      "source": [
        "#Nama Variabel = Nilai Variabel\n",
        "nama_variabel = 1000\n",
        "nama_variabel"
      ],
      "execution_count": null,
      "outputs": [
        {
          "output_type": "execute_result",
          "data": {
            "text/plain": [
              "1000"
            ]
          },
          "metadata": {},
          "execution_count": 78
        }
      ]
    },
    {
      "cell_type": "markdown",
      "metadata": {
        "id": "Yl63VH4-HtQv"
      },
      "source": [
        "## Macam - Macam Tipe Data"
      ]
    },
    {
      "cell_type": "code",
      "metadata": {
        "colab": {
          "base_uri": "https://localhost:8080/",
          "height": 35
        },
        "id": "aw4y_cHfHlnH",
        "outputId": "54a1dac5-d978-4844-fbf8-63e9406cdd26"
      },
      "source": [
        "# String = Tipe data yang menyatakan karakter/kalimat bisa berupa huruf angka, dll (diapit tanda \" atau ')\n",
        "\"Ini String\""
      ],
      "execution_count": null,
      "outputs": [
        {
          "output_type": "execute_result",
          "data": {
            "application/vnd.google.colaboratory.intrinsic+json": {
              "type": "string"
            },
            "text/plain": [
              "'Ini String'"
            ]
          },
          "metadata": {},
          "execution_count": 82
        }
      ]
    },
    {
      "cell_type": "code",
      "metadata": {
        "colab": {
          "base_uri": "https://localhost:8080/"
        },
        "id": "2nirezSvIxHy",
        "outputId": "611a1010-158e-40aa-ecfb-79c5440b1155"
      },
      "source": [
        "# Integer (int) = Tipe data yang menyatakan angka berupa bilangan bulat, 1,2,3,4,5,6,7,8,9,0\n",
        "23092021"
      ],
      "execution_count": null,
      "outputs": [
        {
          "output_type": "execute_result",
          "data": {
            "text/plain": [
              "23092021"
            ]
          },
          "metadata": {},
          "execution_count": 28
        }
      ]
    },
    {
      "cell_type": "code",
      "metadata": {
        "colab": {
          "base_uri": "https://localhost:8080/"
        },
        "id": "4AIWJPT6JHVf",
        "outputId": "6c4e1829-f0cf-435f-8bf8-0e13ddf33b58"
      },
      "source": [
        "# Float = Tipe data yang menyatakan angka berupa bilangan desimal, seperti: 1.0, 2.0, 3.0, 3.14\n",
        "3.14"
      ],
      "execution_count": null,
      "outputs": [
        {
          "output_type": "execute_result",
          "data": {
            "text/plain": [
              "3.14"
            ]
          },
          "metadata": {},
          "execution_count": 29
        }
      ]
    },
    {
      "cell_type": "code",
      "metadata": {
        "colab": {
          "base_uri": "https://localhost:8080/"
        },
        "id": "9Id1eQSvJVex",
        "outputId": "ece2761c-9502-4b45-a9ee-cad59f01c45c"
      },
      "source": [
        "# Boolean = Tipe data yang menyatakan kondisi benar (True) atau salah (False)\n",
        "manusia = False\n",
        "print(\"Apakah kamu manusia?\")\n",
        "manusia"
      ],
      "execution_count": null,
      "outputs": [
        {
          "output_type": "stream",
          "name": "stdout",
          "text": [
            "Apakah kamu manusia?\n"
          ]
        },
        {
          "output_type": "execute_result",
          "data": {
            "text/plain": [
              "False"
            ]
          },
          "metadata": {},
          "execution_count": 80
        }
      ]
    },
    {
      "cell_type": "code",
      "metadata": {
        "colab": {
          "base_uri": "https://localhost:8080/"
        },
        "id": "A3q-BFwCJ9GM",
        "outputId": "56bcbaf8-4af7-4ac9-d566-4b0cf657d468"
      },
      "source": [
        "# List = Tipe data yang bisa menyimpan berbagai tipe data didalamnya\n",
        "daftar = [\"String\",10,3.14, True]\n",
        "daftar"
      ],
      "execution_count": null,
      "outputs": [
        {
          "output_type": "execute_result",
          "data": {
            "text/plain": [
              "['String', 10, 3.14, True]"
            ]
          },
          "metadata": {},
          "execution_count": 35
        }
      ]
    },
    {
      "cell_type": "code",
      "metadata": {
        "colab": {
          "base_uri": "https://localhost:8080/"
        },
        "id": "mF-KXGilKf3R",
        "outputId": "c412b629-cc4b-4d38-befa-d1232fd92bdb"
      },
      "source": [
        "# Tuple = Sama seperti list, tapi isinya tidak bisa diubah\n",
        "tupel = (\"String\",10,3.14, False)\n",
        "tupel"
      ],
      "execution_count": null,
      "outputs": [
        {
          "output_type": "execute_result",
          "data": {
            "text/plain": [
              "('String', 10, 3.14, False)"
            ]
          },
          "metadata": {},
          "execution_count": 38
        }
      ]
    },
    {
      "cell_type": "code",
      "metadata": {
        "colab": {
          "base_uri": "https://localhost:8080/"
        },
        "id": "ACjddaXRKyI3",
        "outputId": "395f0c19-e6f0-4fde-d201-3e5a8e6067e7"
      },
      "source": [
        "# Dictionary = Tipe data yang menyatakan definisi\n",
        "kamus = {'huruf': \"String\", 'angka':101, 'phi':3.14}\n",
        "kamus"
      ],
      "execution_count": null,
      "outputs": [
        {
          "output_type": "execute_result",
          "data": {
            "text/plain": [
              "{'angka': 101, 'huruf': 'String', 'phi': 3.14}"
            ]
          },
          "metadata": {},
          "execution_count": 42
        }
      ]
    },
    {
      "cell_type": "markdown",
      "metadata": {
        "id": "Gy1suI_mNLEZ"
      },
      "source": [
        "# Input (Masukkan) dan Output (Keluaran)"
      ]
    },
    {
      "cell_type": "markdown",
      "metadata": {
        "id": "vA9mrcQOOfN0"
      },
      "source": [
        "\n",
        "\n",
        "*   Input\n",
        "\n"
      ]
    },
    {
      "cell_type": "code",
      "metadata": {
        "colab": {
          "base_uri": "https://localhost:8080/",
          "height": 53
        },
        "id": "1daFLEu1NIQm",
        "outputId": "c45e9b00-e343-4438-bc40-e14127494745"
      },
      "source": [
        "# input berfungsi membaca data dari apa yang kita ketikkan dari keyboard sebagai string\n",
        "input(\"masukkan kalimat disini: \")\n",
        "# apabila kita ingin input yang hanya berupa angka, tinggal tambahkan tipe data int\n",
        "# int(input(\"masukkan angka disini: \"))"
      ],
      "execution_count": null,
      "outputs": [
        {
          "name": "stdout",
          "output_type": "stream",
          "text": [
            "masukkan kalimat disini: test\n"
          ]
        },
        {
          "output_type": "execute_result",
          "data": {
            "application/vnd.google.colaboratory.intrinsic+json": {
              "type": "string"
            },
            "text/plain": [
              "'test'"
            ]
          },
          "metadata": {},
          "execution_count": 83
        }
      ]
    },
    {
      "cell_type": "markdown",
      "metadata": {
        "id": "4RfImzcpOmBz"
      },
      "source": [
        "\n",
        "\n",
        "*   output\n",
        "\n"
      ]
    },
    {
      "cell_type": "code",
      "metadata": {
        "colab": {
          "base_uri": "https://localhost:8080/",
          "height": 53
        },
        "id": "_7fFEwoiOqOA",
        "outputId": "4254d044-c430-4281-eead-53591ead04b7"
      },
      "source": [
        "# dalam python ini, untuk menampilkan sesuatu kita hanya tulis syntaksnya sesuai tipe data atau cukup tambahkan print\n",
        "#\"ini akan langsung tampil\"\n",
        "# nama = \"nilai\"\n",
        "# print(nama)\n",
        "input()\n",
        "# print()"
      ],
      "execution_count": null,
      "outputs": [
        {
          "name": "stdout",
          "output_type": "stream",
          "text": [
            "ssss\n"
          ]
        },
        {
          "output_type": "execute_result",
          "data": {
            "application/vnd.google.colaboratory.intrinsic+json": {
              "type": "string"
            },
            "text/plain": [
              "'ssss'"
            ]
          },
          "metadata": {},
          "execution_count": 87
        }
      ]
    },
    {
      "cell_type": "markdown",
      "metadata": {
        "id": "L7Pb-gT0PZCD"
      },
      "source": [
        "# Membuat kodingan sederhana"
      ]
    },
    {
      "cell_type": "code",
      "metadata": {
        "colab": {
          "base_uri": "https://localhost:8080/"
        },
        "id": "er3pSyUrPXkN",
        "outputId": "ef13f20e-b922-46cf-d973-d60e889f1042"
      },
      "source": [
        "nim = input(\"Masukkan NIM Anda: \")\n",
        "nama = input(\"Masukkan Nama Anda: \")\n",
        "jur = input(\"Masukkan Jurusan Anda: \")\n",
        "almt = input(\"Masukkan Alamat Anda: \")\n",
        "\n",
        "print(\"====================================\\n\"\n",
        "\"Hai, \"+nama+\"(\"+nim+\") \\n\"\n",
        "+\"Asal kamu dari \"+almt+\"\\n\"\n",
        "+ \"Selamat kuliah di jurusan \"+jur+\". \\n\"\n",
        ")"
      ],
      "execution_count": null,
      "outputs": [
        {
          "output_type": "stream",
          "name": "stdout",
          "text": [
            "Masukkan NIM Anda: 11111\n",
            "Masukkan Nama Anda: ssss\n",
            "Masukkan Jurusan Anda: ddd\n",
            "Masukkan Alamat Anda: kkk\n",
            "====================================\n",
            "Hai, ssss(11111) \n",
            "Asal kamu dari kkk\n",
            "Selamat kuliah di jurusan ddd. \n",
            "\n"
          ]
        }
      ]
    }
  ]
}