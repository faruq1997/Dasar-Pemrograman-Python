{
  "nbformat": 4,
  "nbformat_minor": 0,
  "metadata": {
    "colab": {
      "provenance": []
    },
    "kernelspec": {
      "name": "python3",
      "display_name": "Python 3"
    },
    "language_info": {
      "name": "python"
    }
  },
  "cells": [
    {
      "cell_type": "markdown",
      "metadata": {
        "id": "F8TP-D1XArzF"
      },
      "source": [
        "# **Pertemuan 2**"
      ]
    },
    {
      "cell_type": "markdown",
      "metadata": {
        "id": "SonK-R0oA13U"
      },
      "source": [
        "1. Syntaks (Kodingan) Dasar Python"
      ]
    },
    {
      "cell_type": "markdown",
      "metadata": {
        "id": "ntY1v_uVDypa"
      },
      "source": [
        "Semua yang bisa dieksekusi oleh python disebut **Statement**."
      ]
    },
    {
      "cell_type": "code",
      "metadata": {
        "colab": {
          "base_uri": "https://localhost:8080/"
        },
        "id": "uDOooAIsAnL4",
        "outputId": "534ecd79-1bb8-41f4-f508-864f3391f300"
      },
      "source": [
        "print(\"ini merupakan statement dalam bahasa python\")"
      ],
      "execution_count": null,
      "outputs": [
        {
          "output_type": "stream",
          "name": "stdout",
          "text": [
            "ini merupakan statement dalam bahasa python\n"
          ]
        }
      ]
    },
    {
      "cell_type": "markdown",
      "metadata": {
        "id": "E9Tsw_9QF6YI"
      },
      "source": [
        "2. Komentar dalam Python\n",
        "Tanda **pagar (#)** digunakan sebagai komentar, atau catatan yang tidak terbaca program."
      ]
    },
    {
      "cell_type": "code",
      "metadata": {
        "id": "EmwOV0zHGLUs"
      },
      "source": [
        "#apapun yang ditulis disini\n",
        "#pasti tidak akan terbaca oleh program"
      ],
      "execution_count": null,
      "outputs": []
    },
    {
      "cell_type": "markdown",
      "metadata": {
        "id": "7VFF0b3nEVdN"
      },
      "source": [
        "3. Tanda Kutip di Python\n",
        "Python menggunakan **tanda kutip tunggal ('), ganda (\"), maupun triple (\"' atau \"\"\") untuk menandai string, sepanjang stringnya diawali oleh tanda kutip yang sama di awal dan akhir string**. Tanda kutip tiga digunakan untuk string multibaris. Ketiga contoh berikut, semuanya adalah benar."
      ]
    },
    {
      "cell_type": "code",
      "metadata": {
        "colab": {
          "base_uri": "https://localhost:8080/"
        },
        "id": "HSFNvpSdEvJf",
        "outputId": "3975e681-cede-4b8e-fdf8-7d45d5c58358"
      },
      "source": [
        "huruf = 'U'\n",
        "kata = \"kata\"\n",
        "kalimat = \"Ini adalah kalimat\"\n",
        "paragraf = \"\"\" Ini adalah paragraf terdiri dari beberapa baris \"\"\"\n",
        "\n",
        "print(huruf)"
      ],
      "execution_count": null,
      "outputs": [
        {
          "output_type": "stream",
          "name": "stdout",
          "text": [
            "U\n"
          ]
        }
      ]
    },
    {
      "cell_type": "code",
      "metadata": {
        "colab": {
          "base_uri": "https://localhost:8080/"
        },
        "id": "Z57EyACgkeZd",
        "outputId": "2d322131-13b8-40ba-d551-71446e203167"
      },
      "source": [
        "print(\"Halo Dunia\")"
      ],
      "execution_count": null,
      "outputs": [
        {
          "output_type": "stream",
          "name": "stdout",
          "text": [
            "Halo Dunia\n"
          ]
        }
      ]
    },
    {
      "cell_type": "markdown",
      "metadata": {
        "id": "lOFKTRaaGebu"
      },
      "source": [
        "# Variabel dan Tipe Data\n",
        "\n",
        "**Variabel** merupakan nilai yang bisa berubah-ubah\n",
        "\n",
        "**Tipe Data** merupakan nilai yang sifatnya tetap / konstanta"
      ]
    },
    {
      "cell_type": "code",
      "metadata": {
        "colab": {
          "base_uri": "https://localhost:8080/"
        },
        "id": "z2HebRpNHDax",
        "outputId": "a2190517-90f2-4323-ede6-82f4d56ca9d3"
      },
      "source": [
        "#Nama Variabel = Nilai Variabel\n",
        "nama_variabel = 1000\n",
        "nama_variabel"
      ],
      "execution_count": null,
      "outputs": [
        {
          "output_type": "execute_result",
          "data": {
            "text/plain": [
              "1000"
            ]
          },
          "metadata": {},
          "execution_count": 78
        }
      ]
    },
    {
      "cell_type": "markdown",
      "metadata": {
        "id": "Yl63VH4-HtQv"
      },
      "source": [
        "## Macam - Macam Tipe Data"
      ]
    },
    {
      "cell_type": "code",
      "metadata": {
        "colab": {
          "base_uri": "https://localhost:8080/",
          "height": 35
        },
        "id": "aw4y_cHfHlnH",
        "outputId": "c1476456-4f6f-44c2-d959-5728c2245541"
      },
      "source": [
        "# String = Tipe data yang menyatakan karakter/kalimat bisa berupa huruf angka, dll (diapit tanda \" atau ')\n",
        "# Biasanya, '' digunakan untuk karakter / huruf\n",
        "# \"\" digunakan untuk kalimat\n",
        "\"Ini String\""
      ],
      "execution_count": null,
      "outputs": [
        {
          "output_type": "execute_result",
          "data": {
            "text/plain": [
              "'Ini String'"
            ],
            "application/vnd.google.colaboratory.intrinsic+json": {
              "type": "string"
            }
          },
          "metadata": {},
          "execution_count": 2
        }
      ]
    },
    {
      "cell_type": "code",
      "metadata": {
        "colab": {
          "base_uri": "https://localhost:8080/"
        },
        "id": "2nirezSvIxHy",
        "outputId": "d3c439d5-4710-4fa6-8ce2-0b2f4170b3d7"
      },
      "source": [
        "# Integer (int) = Tipe data yang menyatakan angka berupa bilangan bulat, 1,2,3,4,5,6,7,8,9,0\n",
        "\n",
        "# Bisa dipertegas dengan ditulis:\n",
        "\n",
        "# int(23092022)\n",
        "\n",
        "# atau cukup\n",
        "23092022"
      ],
      "execution_count": 39,
      "outputs": [
        {
          "output_type": "execute_result",
          "data": {
            "text/plain": [
              "23092022"
            ]
          },
          "metadata": {},
          "execution_count": 39
        }
      ]
    },
    {
      "cell_type": "code",
      "metadata": {
        "colab": {
          "base_uri": "https://localhost:8080/"
        },
        "id": "4AIWJPT6JHVf",
        "outputId": "6c4e1829-f0cf-435f-8bf8-0e13ddf33b58"
      },
      "source": [
        "# Float = Tipe data yang menyatakan angka berupa bilangan desimal, seperti: 1.0, 2.0, 3.0, 3.14\n",
        "3.14"
      ],
      "execution_count": null,
      "outputs": [
        {
          "output_type": "execute_result",
          "data": {
            "text/plain": [
              "3.14"
            ]
          },
          "metadata": {},
          "execution_count": 29
        }
      ]
    },
    {
      "cell_type": "code",
      "metadata": {
        "colab": {
          "base_uri": "https://localhost:8080/"
        },
        "id": "9Id1eQSvJVex",
        "outputId": "ece2761c-9502-4b45-a9ee-cad59f01c45c"
      },
      "source": [
        "# Boolean = Tipe data yang menyatakan kondisi benar (True) atau salah (False)\n",
        "manusia = False\n",
        "print(\"Apakah kamu manusia?\")\n",
        "manusia"
      ],
      "execution_count": null,
      "outputs": [
        {
          "output_type": "stream",
          "name": "stdout",
          "text": [
            "Apakah kamu manusia?\n"
          ]
        },
        {
          "output_type": "execute_result",
          "data": {
            "text/plain": [
              "False"
            ]
          },
          "metadata": {},
          "execution_count": 80
        }
      ]
    },
    {
      "cell_type": "markdown",
      "source": [
        "### List pada Python"
      ],
      "metadata": {
        "id": "BgxXMwF8yeXE"
      }
    },
    {
      "cell_type": "code",
      "metadata": {
        "colab": {
          "base_uri": "https://localhost:8080/"
        },
        "id": "mF-KXGilKf3R",
        "outputId": "c412b629-cc4b-4d38-befa-d1232fd92bdb"
      },
      "source": [
        "# Tuple = Sama seperti list, tapi isinya tidak bisa diubah\n",
        "tupel = (\"String\",10,3.14, False)\n",
        "tupel"
      ],
      "execution_count": null,
      "outputs": [
        {
          "output_type": "execute_result",
          "data": {
            "text/plain": [
              "('String', 10, 3.14, False)"
            ]
          },
          "metadata": {},
          "execution_count": 38
        }
      ]
    },
    {
      "cell_type": "code",
      "metadata": {
        "colab": {
          "base_uri": "https://localhost:8080/"
        },
        "id": "A3q-BFwCJ9GM",
        "outputId": "9c52ca2c-ffaa-4728-a1fa-70ee6c266e95"
      },
      "source": [
        "# List = Tipe data yang bisa menyimpan berbagai tipe data didalamnya\n",
        "list = [\"String\",10,3.14, True]\n",
        "list"
      ],
      "execution_count": 16,
      "outputs": [
        {
          "output_type": "execute_result",
          "data": {
            "text/plain": [
              "['String', 10, 3.14, True]"
            ]
          },
          "metadata": {},
          "execution_count": 16
        }
      ]
    },
    {
      "cell_type": "markdown",
      "source": [
        "Daftar Function List pada Python\n",
        "\n",
        "\n",
        "![image.png](data:image/png;base64,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)"
      ],
      "metadata": {
        "id": "AAes7c9wyM_l"
      }
    },
    {
      "cell_type": "code",
      "source": [
        "# Fungsi pada list\n",
        "len(list)"
      ],
      "metadata": {
        "colab": {
          "base_uri": "https://localhost:8080/"
        },
        "id": "nxyZE6jxw_sX",
        "outputId": "5323a3a1-176e-4784-adce-a4124d4141e4"
      },
      "execution_count": 17,
      "outputs": [
        {
          "output_type": "execute_result",
          "data": {
            "text/plain": [
              "4"
            ]
          },
          "metadata": {},
          "execution_count": 17
        }
      ]
    },
    {
      "cell_type": "code",
      "source": [
        "list[4]"
      ],
      "metadata": {
        "colab": {
          "base_uri": "https://localhost:8080/",
          "height": 165
        },
        "id": "9IN64p3_oSou",
        "outputId": "31da0afa-9891-4537-e945-4b1dafabb009"
      },
      "execution_count": 18,
      "outputs": [
        {
          "output_type": "error",
          "ename": "IndexError",
          "evalue": "ignored",
          "traceback": [
            "\u001b[0;31m---------------------------------------------------------------------------\u001b[0m",
            "\u001b[0;31mIndexError\u001b[0m                                Traceback (most recent call last)",
            "\u001b[0;32m<ipython-input-18-853c8927f3be>\u001b[0m in \u001b[0;36m<module>\u001b[0;34m\u001b[0m\n\u001b[0;32m----> 1\u001b[0;31m \u001b[0mlist\u001b[0m\u001b[0;34m[\u001b[0m\u001b[0;36m4\u001b[0m\u001b[0;34m]\u001b[0m\u001b[0;34m\u001b[0m\u001b[0;34m\u001b[0m\u001b[0m\n\u001b[0m",
            "\u001b[0;31mIndexError\u001b[0m: list index out of range"
          ]
        }
      ]
    },
    {
      "cell_type": "markdown",
      "source": [
        "List Method pada Python\n",
        "\n",
        "![image.png](data:image/png;base64,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)"
      ],
      "metadata": {
        "id": "Vap-LJ_YzAJj"
      }
    },
    {
      "cell_type": "code",
      "source": [
        "list.append(\"Ini adalah tambahan\")"
      ],
      "metadata": {
        "id": "tZwBDJRRnsNq"
      },
      "execution_count": 19,
      "outputs": []
    },
    {
      "cell_type": "code",
      "source": [
        "list"
      ],
      "metadata": {
        "colab": {
          "base_uri": "https://localhost:8080/"
        },
        "id": "uMGAxEHGnz13",
        "outputId": "e5bb0608-beb7-4961-c569-15c90660eb4b"
      },
      "execution_count": 20,
      "outputs": [
        {
          "output_type": "execute_result",
          "data": {
            "text/plain": [
              "['String', 10, 3.14, True, 'Ini adalah tambahan']"
            ]
          },
          "metadata": {},
          "execution_count": 20
        }
      ]
    },
    {
      "cell_type": "code",
      "source": [
        "list[4]"
      ],
      "metadata": {
        "colab": {
          "base_uri": "https://localhost:8080/",
          "height": 35
        },
        "id": "7qVQ6Zhsn-2v",
        "outputId": "43775006-1e2f-4688-b956-a140b31a0f79"
      },
      "execution_count": 21,
      "outputs": [
        {
          "output_type": "execute_result",
          "data": {
            "text/plain": [
              "'Ini adalah tambahan'"
            ],
            "application/vnd.google.colaboratory.intrinsic+json": {
              "type": "string"
            }
          },
          "metadata": {},
          "execution_count": 21
        }
      ]
    },
    {
      "cell_type": "code",
      "metadata": {
        "colab": {
          "base_uri": "https://localhost:8080/"
        },
        "id": "ACjddaXRKyI3",
        "outputId": "89f3e991-be98-4f04-ae3a-c675a85a05c8"
      },
      "source": [
        "# Dictionary = Tipe data yang menyatakan definisi\n",
        "kamus = {'huruf': \"String\", 'angka':101, 'phi':3.14}\n",
        "kamus"
      ],
      "execution_count": 22,
      "outputs": [
        {
          "output_type": "execute_result",
          "data": {
            "text/plain": [
              "{'huruf': 'String', 'angka': 101, 'phi': 3.14}"
            ]
          },
          "metadata": {},
          "execution_count": 22
        }
      ]
    },
    {
      "cell_type": "code",
      "source": [
        "kamus['phi']"
      ],
      "metadata": {
        "colab": {
          "base_uri": "https://localhost:8080/"
        },
        "id": "ts5hs3WpzeX5",
        "outputId": "1c04ef74-551b-4feb-8bf0-0e02a091dc3d"
      },
      "execution_count": 26,
      "outputs": [
        {
          "output_type": "execute_result",
          "data": {
            "text/plain": [
              "3.14"
            ]
          },
          "metadata": {},
          "execution_count": 26
        }
      ]
    },
    {
      "cell_type": "markdown",
      "metadata": {
        "id": "Gy1suI_mNLEZ"
      },
      "source": [
        "# Input (Masukkan) dan Output (Keluaran)"
      ]
    },
    {
      "cell_type": "markdown",
      "metadata": {
        "id": "vA9mrcQOOfN0"
      },
      "source": [
        "\n",
        "\n",
        "*   Input\n",
        "\n"
      ]
    },
    {
      "cell_type": "code",
      "metadata": {
        "colab": {
          "base_uri": "https://localhost:8080/",
          "height": 53
        },
        "id": "1daFLEu1NIQm",
        "outputId": "c45e9b00-e343-4438-bc40-e14127494745"
      },
      "source": [
        "# input berfungsi membaca data dari apa yang kita ketikkan dari keyboard sebagai string\n",
        "input(\"masukkan kalimat disini: \")\n",
        "# apabila kita ingin input yang hanya berupa angka, tinggal tambahkan tipe data int\n",
        "# int(input(\"masukkan angka disini: \"))"
      ],
      "execution_count": null,
      "outputs": [
        {
          "name": "stdout",
          "output_type": "stream",
          "text": [
            "masukkan kalimat disini: test\n"
          ]
        },
        {
          "output_type": "execute_result",
          "data": {
            "application/vnd.google.colaboratory.intrinsic+json": {
              "type": "string"
            },
            "text/plain": [
              "'test'"
            ]
          },
          "metadata": {},
          "execution_count": 83
        }
      ]
    },
    {
      "cell_type": "markdown",
      "metadata": {
        "id": "4RfImzcpOmBz"
      },
      "source": [
        "\n",
        "\n",
        "*   output\n",
        "\n"
      ]
    },
    {
      "cell_type": "code",
      "metadata": {
        "colab": {
          "base_uri": "https://localhost:8080/",
          "height": 53
        },
        "id": "_7fFEwoiOqOA",
        "outputId": "4254d044-c430-4281-eead-53591ead04b7"
      },
      "source": [
        "# dalam python ini, untuk menampilkan sesuatu kita hanya tulis syntaksnya sesuai tipe data atau cukup tambahkan print\n",
        "#\"ini akan langsung tampil\"\n",
        "# nama = \"nilai\"\n",
        "# print(nama)\n",
        "input()\n",
        "# print()"
      ],
      "execution_count": null,
      "outputs": [
        {
          "name": "stdout",
          "output_type": "stream",
          "text": [
            "ssss\n"
          ]
        },
        {
          "output_type": "execute_result",
          "data": {
            "application/vnd.google.colaboratory.intrinsic+json": {
              "type": "string"
            },
            "text/plain": [
              "'ssss'"
            ]
          },
          "metadata": {},
          "execution_count": 87
        }
      ]
    },
    {
      "cell_type": "markdown",
      "metadata": {
        "id": "L7Pb-gT0PZCD"
      },
      "source": [
        "# Membuat kodingan sederhana"
      ]
    },
    {
      "cell_type": "code",
      "metadata": {
        "colab": {
          "base_uri": "https://localhost:8080/"
        },
        "id": "er3pSyUrPXkN",
        "outputId": "ef13f20e-b922-46cf-d973-d60e889f1042"
      },
      "source": [
        "nim = input(\"Masukkan NIM Anda: \")\n",
        "nama = input(\"Masukkan Nama Anda: \")\n",
        "jur = input(\"Masukkan Jurusan Anda: \")\n",
        "almt = input(\"Masukkan Alamat Anda: \")\n",
        "\n",
        "print(\"====================================\\n\"\n",
        "\"Hai, \"+nama+\"(\"+nim+\") \\n\"\n",
        "+\"Asal kamu dari \"+almt+\"\\n\"\n",
        "+ \"Selamat kuliah di jurusan \"+jur+\". \\n\"\n",
        ")"
      ],
      "execution_count": null,
      "outputs": [
        {
          "output_type": "stream",
          "name": "stdout",
          "text": [
            "Masukkan NIM Anda: 11111\n",
            "Masukkan Nama Anda: ssss\n",
            "Masukkan Jurusan Anda: ddd\n",
            "Masukkan Alamat Anda: kkk\n",
            "====================================\n",
            "Hai, ssss(11111) \n",
            "Asal kamu dari kkk\n",
            "Selamat kuliah di jurusan ddd. \n",
            "\n"
          ]
        }
      ]
    },
    {
      "cell_type": "code",
      "source": [
        "A = input(\"Masukkan angka kesatu= \")\n",
        "B = input(\"Masukkan angka kedua= \")\n",
        "C = A + B\n",
        "print(C)"
      ],
      "metadata": {
        "colab": {
          "base_uri": "https://localhost:8080/"
        },
        "id": "rE7rjTTHzzVp",
        "outputId": "1ee4cc2b-86b4-4f32-d488-25286cb703a0"
      },
      "execution_count": 36,
      "outputs": [
        {
          "output_type": "stream",
          "name": "stdout",
          "text": [
            "Masukkan angka kesatu= 1\n",
            "Masukkan angka kedua= 2\n",
            "12\n"
          ]
        }
      ]
    },
    {
      "cell_type": "markdown",
      "source": [
        "Loh kok jadi begitu ya, bukan dijumlahkan?"
      ],
      "metadata": {
        "id": "xaG4hOcH0nXY"
      }
    },
    {
      "cell_type": "markdown",
      "source": [
        "Jadi pada python, \n",
        "\n",
        "```\n",
        "input()\n",
        "```\n",
        "\n",
        "digunakan buat String atau Kata yah,\n",
        "jika mau aritmatika maka perlu diperjelas aritmatikanya dengan membungkusnya pakai int(nama_variabel)\n",
        "\n",
        " \n"
      ],
      "metadata": {
        "id": "YlbooyaX00VX"
      }
    },
    {
      "cell_type": "code",
      "source": [
        "A = input(\"Masukkan angka kesatu= \")\n",
        "B = input(\"Masukkan angka kedua= \")\n",
        "C = int(A) + int(B)\n",
        "print(C)"
      ],
      "metadata": {
        "colab": {
          "base_uri": "https://localhost:8080/"
        },
        "outputId": "4a0fc5fc-b0b4-4d24-be38-63a1dc54258f",
        "id": "szxAl1pC2l1a"
      },
      "execution_count": 42,
      "outputs": [
        {
          "output_type": "stream",
          "name": "stdout",
          "text": [
            "Masukkan angka kesatu= 2\n",
            "Masukkan angka kedua= 3\n",
            "5\n"
          ]
        }
      ]
    },
    {
      "cell_type": "markdown",
      "source": [
        "Tapi bagaimana jika yang kita inputkan berupa karakter / string, bukan angka?\n",
        "\n",
        "Bisa diulang saja script di atas dengan masukkan huruf, apa yang terjadi???"
      ],
      "metadata": {
        "id": "JYSRVVws2rpr"
      }
    }
  ]
}